{
 "cells": [
  {
   "cell_type": "code",
   "execution_count": 4,
   "metadata": {},
   "outputs": [],
   "source": [
    "import statsmodels.api as sm\n",
    "import pandas as pd\n",
    "from patsy import dmatrices"
   ]
  },
  {
   "cell_type": "code",
   "execution_count": 5,
   "metadata": {},
   "outputs": [],
   "source": [
    "import seaborn as sns"
   ]
  },
  {
   "cell_type": "code",
   "execution_count": 6,
   "metadata": {},
   "outputs": [],
   "source": [
    "from matplotlib import pyplot as plt"
   ]
  },
  {
   "cell_type": "code",
   "execution_count": 7,
   "metadata": {},
   "outputs": [],
   "source": [
    "df = pd.read_csv(\"fund-raising.csv\")"
   ]
  },
  {
   "cell_type": "code",
   "execution_count": 8,
   "metadata": {},
   "outputs": [
    {
     "data": {
      "text/html": [
       "<div>\n",
       "<style scoped>\n",
       "    .dataframe tbody tr th:only-of-type {\n",
       "        vertical-align: middle;\n",
       "    }\n",
       "\n",
       "    .dataframe tbody tr th {\n",
       "        vertical-align: top;\n",
       "    }\n",
       "\n",
       "    .dataframe thead th {\n",
       "        text-align: right;\n",
       "    }\n",
       "</style>\n",
       "<table border=\"1\" class=\"dataframe\">\n",
       "  <thead>\n",
       "    <tr style=\"text-align: right;\">\n",
       "      <th></th>\n",
       "      <th>contrib</th>\n",
       "      <th>gapmos</th>\n",
       "      <th>promocontr</th>\n",
       "      <th>mincontrib</th>\n",
       "      <th>ncontrib</th>\n",
       "      <th>maxcontrib</th>\n",
       "      <th>lastcontr</th>\n",
       "      <th>avecontr</th>\n",
       "      <th>mailord</th>\n",
       "      <th>mindate</th>\n",
       "      <th>maxdate</th>\n",
       "      <th>age</th>\n",
       "      <th>gender</th>\n",
       "    </tr>\n",
       "  </thead>\n",
       "  <tbody>\n",
       "    <tr>\n",
       "      <th>0</th>\n",
       "      <td>4.0</td>\n",
       "      <td>12</td>\n",
       "      <td>10</td>\n",
       "      <td>2.0</td>\n",
       "      <td>15</td>\n",
       "      <td>7.0</td>\n",
       "      <td>5.0</td>\n",
       "      <td>4.066667</td>\n",
       "      <td>10</td>\n",
       "      <td>8801</td>\n",
       "      <td>9404</td>\n",
       "      <td>62</td>\n",
       "      <td>F</td>\n",
       "    </tr>\n",
       "    <tr>\n",
       "      <th>1</th>\n",
       "      <td>5.0</td>\n",
       "      <td>3</td>\n",
       "      <td>14</td>\n",
       "      <td>3.0</td>\n",
       "      <td>21</td>\n",
       "      <td>6.0</td>\n",
       "      <td>5.0</td>\n",
       "      <td>4.857143</td>\n",
       "      <td>5</td>\n",
       "      <td>9312</td>\n",
       "      <td>9404</td>\n",
       "      <td>66</td>\n",
       "      <td>F</td>\n",
       "    </tr>\n",
       "    <tr>\n",
       "      <th>2</th>\n",
       "      <td>13.0</td>\n",
       "      <td>21</td>\n",
       "      <td>5</td>\n",
       "      <td>5.0</td>\n",
       "      <td>12</td>\n",
       "      <td>17.0</td>\n",
       "      <td>10.0</td>\n",
       "      <td>11.000000</td>\n",
       "      <td>0</td>\n",
       "      <td>9001</td>\n",
       "      <td>9503</td>\n",
       "      <td>69</td>\n",
       "      <td>F</td>\n",
       "    </tr>\n",
       "    <tr>\n",
       "      <th>3</th>\n",
       "      <td>10.0</td>\n",
       "      <td>6</td>\n",
       "      <td>8</td>\n",
       "      <td>5.0</td>\n",
       "      <td>10</td>\n",
       "      <td>12.0</td>\n",
       "      <td>12.0</td>\n",
       "      <td>9.400000</td>\n",
       "      <td>10</td>\n",
       "      <td>9209</td>\n",
       "      <td>9509</td>\n",
       "      <td>73</td>\n",
       "      <td>M</td>\n",
       "    </tr>\n",
       "    <tr>\n",
       "      <th>4</th>\n",
       "      <td>10.0</td>\n",
       "      <td>7</td>\n",
       "      <td>2</td>\n",
       "      <td>10.0</td>\n",
       "      <td>3</td>\n",
       "      <td>15.0</td>\n",
       "      <td>10.0</td>\n",
       "      <td>11.666667</td>\n",
       "      <td>0</td>\n",
       "      <td>9511</td>\n",
       "      <td>9508</td>\n",
       "      <td>58</td>\n",
       "      <td>F</td>\n",
       "    </tr>\n",
       "  </tbody>\n",
       "</table>\n",
       "</div>"
      ],
      "text/plain": [
       "   contrib  gapmos  promocontr  mincontrib  ncontrib  maxcontrib  lastcontr  \\\n",
       "0      4.0      12          10         2.0        15         7.0        5.0   \n",
       "1      5.0       3          14         3.0        21         6.0        5.0   \n",
       "2     13.0      21           5         5.0        12        17.0       10.0   \n",
       "3     10.0       6           8         5.0        10        12.0       12.0   \n",
       "4     10.0       7           2        10.0         3        15.0       10.0   \n",
       "\n",
       "    avecontr  mailord  mindate  maxdate  age gender  \n",
       "0   4.066667       10     8801     9404   62      F  \n",
       "1   4.857143        5     9312     9404   66      F  \n",
       "2  11.000000        0     9001     9503   69      F  \n",
       "3   9.400000       10     9209     9509   73      M  \n",
       "4  11.666667        0     9511     9508   58      F  "
      ]
     },
     "execution_count": 8,
     "metadata": {},
     "output_type": "execute_result"
    }
   ],
   "source": [
    "df.head()"
   ]
  },
  {
   "cell_type": "code",
   "execution_count": 9,
   "metadata": {},
   "outputs": [
    {
     "data": {
      "text/plain": [
       "array([  4.  ,   5.  ,  13.  ,  10.  ,  20.  ,  16.  ,  26.  ,   7.  ,\n",
       "         3.  ,  60.  ,  15.  ,  23.  ,   6.  ,  11.  ,  16.87,   2.5 ,\n",
       "        50.  ,  10.7 ,  35.  ,  14.  ,  21.  ,   2.  ,  12.  ,  25.  ,\n",
       "        19.  ,  40.  ,  38.  ,  18.  ,  17.  ,  12.5 ,   7.5 ,   1.  ,\n",
       "         9.  ,  36.  ,   8.  ,  30.  ,  22.  ,  24.  ,  41.  ,  51.  ,\n",
       "        28.  ,  43.  ,  31.  , 100.  ,  32.  ,  33.  ,  45.  ,  47.  ,\n",
       "        37.  ,  18.25,  27.  ,  13.92,  46.  , 200.  ,  44.  ,  75.  ,\n",
       "        53.  ,  29.  ,  17.5 ,  34.  ,   4.5 ,  42.  ,  55.  , 102.  ])"
      ]
     },
     "execution_count": 9,
     "metadata": {},
     "output_type": "execute_result"
    }
   ],
   "source": [
    "df['contrib'].unique()"
   ]
  },
  {
   "cell_type": "code",
   "execution_count": 10,
   "metadata": {},
   "outputs": [
    {
     "data": {
      "text/plain": [
       "array(['F', 'M', 'U'], dtype=object)"
      ]
     },
     "execution_count": 10,
     "metadata": {},
     "output_type": "execute_result"
    }
   ],
   "source": [
    "df['gender'].unique()"
   ]
  },
  {
   "cell_type": "code",
   "execution_count": 11,
   "metadata": {},
   "outputs": [],
   "source": [
    "corr = df.corr()"
   ]
  },
  {
   "cell_type": "code",
   "execution_count": 12,
   "metadata": {},
   "outputs": [
    {
     "data": {
      "text/html": [
       "<div>\n",
       "<style scoped>\n",
       "    .dataframe tbody tr th:only-of-type {\n",
       "        vertical-align: middle;\n",
       "    }\n",
       "\n",
       "    .dataframe tbody tr th {\n",
       "        vertical-align: top;\n",
       "    }\n",
       "\n",
       "    .dataframe thead th {\n",
       "        text-align: right;\n",
       "    }\n",
       "</style>\n",
       "<table border=\"1\" class=\"dataframe\">\n",
       "  <thead>\n",
       "    <tr style=\"text-align: right;\">\n",
       "      <th></th>\n",
       "      <th>contrib</th>\n",
       "      <th>gapmos</th>\n",
       "      <th>promocontr</th>\n",
       "      <th>mincontrib</th>\n",
       "      <th>ncontrib</th>\n",
       "      <th>maxcontrib</th>\n",
       "      <th>lastcontr</th>\n",
       "      <th>avecontr</th>\n",
       "      <th>mailord</th>\n",
       "      <th>mindate</th>\n",
       "      <th>maxdate</th>\n",
       "      <th>age</th>\n",
       "    </tr>\n",
       "  </thead>\n",
       "  <tbody>\n",
       "    <tr>\n",
       "      <th>contrib</th>\n",
       "      <td>1.000000</td>\n",
       "      <td>0.112192</td>\n",
       "      <td>-0.214586</td>\n",
       "      <td>0.407175</td>\n",
       "      <td>-0.211630</td>\n",
       "      <td>0.414476</td>\n",
       "      <td>0.746451</td>\n",
       "      <td>0.663092</td>\n",
       "      <td>0.018597</td>\n",
       "      <td>-0.065409</td>\n",
       "      <td>0.131160</td>\n",
       "      <td>-0.025829</td>\n",
       "    </tr>\n",
       "    <tr>\n",
       "      <th>gapmos</th>\n",
       "      <td>0.112192</td>\n",
       "      <td>1.000000</td>\n",
       "      <td>-0.122663</td>\n",
       "      <td>0.101264</td>\n",
       "      <td>-0.138969</td>\n",
       "      <td>0.043845</td>\n",
       "      <td>0.109052</td>\n",
       "      <td>0.120501</td>\n",
       "      <td>0.024835</td>\n",
       "      <td>-0.086470</td>\n",
       "      <td>0.011983</td>\n",
       "      <td>-0.032028</td>\n",
       "    </tr>\n",
       "    <tr>\n",
       "      <th>promocontr</th>\n",
       "      <td>-0.214586</td>\n",
       "      <td>-0.122663</td>\n",
       "      <td>1.000000</td>\n",
       "      <td>-0.377991</td>\n",
       "      <td>0.897084</td>\n",
       "      <td>-0.043710</td>\n",
       "      <td>-0.194761</td>\n",
       "      <td>-0.289574</td>\n",
       "      <td>0.006408</td>\n",
       "      <td>-0.364224</td>\n",
       "      <td>-0.393935</td>\n",
       "      <td>0.196177</td>\n",
       "    </tr>\n",
       "    <tr>\n",
       "      <th>mincontrib</th>\n",
       "      <td>0.407175</td>\n",
       "      <td>0.101264</td>\n",
       "      <td>-0.377991</td>\n",
       "      <td>1.000000</td>\n",
       "      <td>-0.370177</td>\n",
       "      <td>0.237322</td>\n",
       "      <td>0.441218</td>\n",
       "      <td>0.703515</td>\n",
       "      <td>-0.003198</td>\n",
       "      <td>0.278263</td>\n",
       "      <td>0.087067</td>\n",
       "      <td>-0.089005</td>\n",
       "    </tr>\n",
       "    <tr>\n",
       "      <th>ncontrib</th>\n",
       "      <td>-0.211630</td>\n",
       "      <td>-0.138969</td>\n",
       "      <td>0.897084</td>\n",
       "      <td>-0.370177</td>\n",
       "      <td>1.000000</td>\n",
       "      <td>0.026248</td>\n",
       "      <td>-0.193359</td>\n",
       "      <td>-0.268200</td>\n",
       "      <td>0.002570</td>\n",
       "      <td>-0.305664</td>\n",
       "      <td>-0.389773</td>\n",
       "      <td>0.199914</td>\n",
       "    </tr>\n",
       "    <tr>\n",
       "      <th>maxcontrib</th>\n",
       "      <td>0.414476</td>\n",
       "      <td>0.043845</td>\n",
       "      <td>-0.043710</td>\n",
       "      <td>0.237322</td>\n",
       "      <td>0.026248</td>\n",
       "      <td>1.000000</td>\n",
       "      <td>0.514442</td>\n",
       "      <td>0.535534</td>\n",
       "      <td>0.029185</td>\n",
       "      <td>-0.056513</td>\n",
       "      <td>-0.006831</td>\n",
       "      <td>0.021743</td>\n",
       "    </tr>\n",
       "    <tr>\n",
       "      <th>lastcontr</th>\n",
       "      <td>0.746451</td>\n",
       "      <td>0.109052</td>\n",
       "      <td>-0.194761</td>\n",
       "      <td>0.441218</td>\n",
       "      <td>-0.193359</td>\n",
       "      <td>0.514442</td>\n",
       "      <td>1.000000</td>\n",
       "      <td>0.766460</td>\n",
       "      <td>0.044186</td>\n",
       "      <td>-0.103314</td>\n",
       "      <td>0.158253</td>\n",
       "      <td>-0.025513</td>\n",
       "    </tr>\n",
       "    <tr>\n",
       "      <th>avecontr</th>\n",
       "      <td>0.663092</td>\n",
       "      <td>0.120501</td>\n",
       "      <td>-0.289574</td>\n",
       "      <td>0.703515</td>\n",
       "      <td>-0.268200</td>\n",
       "      <td>0.535534</td>\n",
       "      <td>0.766460</td>\n",
       "      <td>1.000000</td>\n",
       "      <td>0.029075</td>\n",
       "      <td>0.027796</td>\n",
       "      <td>0.037038</td>\n",
       "      <td>-0.050179</td>\n",
       "    </tr>\n",
       "    <tr>\n",
       "      <th>mailord</th>\n",
       "      <td>0.018597</td>\n",
       "      <td>0.024835</td>\n",
       "      <td>0.006408</td>\n",
       "      <td>-0.003198</td>\n",
       "      <td>0.002570</td>\n",
       "      <td>0.029185</td>\n",
       "      <td>0.044186</td>\n",
       "      <td>0.029075</td>\n",
       "      <td>1.000000</td>\n",
       "      <td>0.010814</td>\n",
       "      <td>0.013036</td>\n",
       "      <td>0.108515</td>\n",
       "    </tr>\n",
       "    <tr>\n",
       "      <th>mindate</th>\n",
       "      <td>-0.065409</td>\n",
       "      <td>-0.086470</td>\n",
       "      <td>-0.364224</td>\n",
       "      <td>0.278263</td>\n",
       "      <td>-0.305664</td>\n",
       "      <td>-0.056513</td>\n",
       "      <td>-0.103314</td>\n",
       "      <td>0.027796</td>\n",
       "      <td>0.010814</td>\n",
       "      <td>1.000000</td>\n",
       "      <td>0.134658</td>\n",
       "      <td>-0.145311</td>\n",
       "    </tr>\n",
       "    <tr>\n",
       "      <th>maxdate</th>\n",
       "      <td>0.131160</td>\n",
       "      <td>0.011983</td>\n",
       "      <td>-0.393935</td>\n",
       "      <td>0.087067</td>\n",
       "      <td>-0.389773</td>\n",
       "      <td>-0.006831</td>\n",
       "      <td>0.158253</td>\n",
       "      <td>0.037038</td>\n",
       "      <td>0.013036</td>\n",
       "      <td>0.134658</td>\n",
       "      <td>1.000000</td>\n",
       "      <td>-0.115093</td>\n",
       "    </tr>\n",
       "    <tr>\n",
       "      <th>age</th>\n",
       "      <td>-0.025829</td>\n",
       "      <td>-0.032028</td>\n",
       "      <td>0.196177</td>\n",
       "      <td>-0.089005</td>\n",
       "      <td>0.199914</td>\n",
       "      <td>0.021743</td>\n",
       "      <td>-0.025513</td>\n",
       "      <td>-0.050179</td>\n",
       "      <td>0.108515</td>\n",
       "      <td>-0.145311</td>\n",
       "      <td>-0.115093</td>\n",
       "      <td>1.000000</td>\n",
       "    </tr>\n",
       "  </tbody>\n",
       "</table>\n",
       "</div>"
      ],
      "text/plain": [
       "             contrib    gapmos  promocontr  mincontrib  ncontrib  maxcontrib  \\\n",
       "contrib     1.000000  0.112192   -0.214586    0.407175 -0.211630    0.414476   \n",
       "gapmos      0.112192  1.000000   -0.122663    0.101264 -0.138969    0.043845   \n",
       "promocontr -0.214586 -0.122663    1.000000   -0.377991  0.897084   -0.043710   \n",
       "mincontrib  0.407175  0.101264   -0.377991    1.000000 -0.370177    0.237322   \n",
       "ncontrib   -0.211630 -0.138969    0.897084   -0.370177  1.000000    0.026248   \n",
       "maxcontrib  0.414476  0.043845   -0.043710    0.237322  0.026248    1.000000   \n",
       "lastcontr   0.746451  0.109052   -0.194761    0.441218 -0.193359    0.514442   \n",
       "avecontr    0.663092  0.120501   -0.289574    0.703515 -0.268200    0.535534   \n",
       "mailord     0.018597  0.024835    0.006408   -0.003198  0.002570    0.029185   \n",
       "mindate    -0.065409 -0.086470   -0.364224    0.278263 -0.305664   -0.056513   \n",
       "maxdate     0.131160  0.011983   -0.393935    0.087067 -0.389773   -0.006831   \n",
       "age        -0.025829 -0.032028    0.196177   -0.089005  0.199914    0.021743   \n",
       "\n",
       "            lastcontr  avecontr   mailord   mindate   maxdate       age  \n",
       "contrib      0.746451  0.663092  0.018597 -0.065409  0.131160 -0.025829  \n",
       "gapmos       0.109052  0.120501  0.024835 -0.086470  0.011983 -0.032028  \n",
       "promocontr  -0.194761 -0.289574  0.006408 -0.364224 -0.393935  0.196177  \n",
       "mincontrib   0.441218  0.703515 -0.003198  0.278263  0.087067 -0.089005  \n",
       "ncontrib    -0.193359 -0.268200  0.002570 -0.305664 -0.389773  0.199914  \n",
       "maxcontrib   0.514442  0.535534  0.029185 -0.056513 -0.006831  0.021743  \n",
       "lastcontr    1.000000  0.766460  0.044186 -0.103314  0.158253 -0.025513  \n",
       "avecontr     0.766460  1.000000  0.029075  0.027796  0.037038 -0.050179  \n",
       "mailord      0.044186  0.029075  1.000000  0.010814  0.013036  0.108515  \n",
       "mindate     -0.103314  0.027796  0.010814  1.000000  0.134658 -0.145311  \n",
       "maxdate      0.158253  0.037038  0.013036  0.134658  1.000000 -0.115093  \n",
       "age         -0.025513 -0.050179  0.108515 -0.145311 -0.115093  1.000000  "
      ]
     },
     "execution_count": 12,
     "metadata": {},
     "output_type": "execute_result"
    }
   ],
   "source": [
    "corr"
   ]
  },
  {
   "cell_type": "code",
   "execution_count": 13,
   "metadata": {},
   "outputs": [
    {
     "data": {
      "text/plain": [
       "<matplotlib.axes._subplots.AxesSubplot at 0x7f95b04a8ca0>"
      ]
     },
     "execution_count": 13,
     "metadata": {},
     "output_type": "execute_result"
    },
    {
     "data": {
      "image/png": "[encoded data removed]",
      "text/plain": [
       "<Figure size 1152x504 with 2 Axes>"
      ]
     },
     "metadata": {
      "needs_background": "light"
     },
     "output_type": "display_data"
    }
   ],
   "source": [
    "plt.figure(figsize = (16,7))\n",
    "sns.heatmap(corr, xticklabels=corr.columns, yticklabels=corr.columns, annot=True)"
   ]
  },
  {
   "cell_type": "code",
   "execution_count": 14,
   "metadata": {},
   "outputs": [
    {
     "data": {
      "text/plain": [
       "Index(['contrib', 'gapmos', 'promocontr', 'mincontrib', 'ncontrib',\n",
       "       'maxcontrib', 'lastcontr', 'avecontr', 'mailord', 'mindate', 'maxdate',\n",
       "       'age', 'gender'],\n",
       "      dtype='object')"
      ]
     },
     "execution_count": 14,
     "metadata": {},
     "output_type": "execute_result"
    }
   ],
   "source": [
    "df.columns"
   ]
  },
  {
   "cell_type": "markdown",
   "metadata": {},
   "source": [
    "# Model 1 - Using all predictors"
   ]
  },
  {
   "cell_type": "code",
   "execution_count": 15,
   "metadata": {},
   "outputs": [],
   "source": [
    "y, X = dmatrices('contrib  ~ gapmos + promocontr + mincontrib + ncontrib + \\\n",
    "                 maxcontrib + lastcontr + avecontr + mailord + mindate + maxdate +age + gender', \n",
    "                 data=df, return_type='dataframe')"
   ]
  },
  {
   "cell_type": "code",
   "execution_count": 16,
   "metadata": {},
   "outputs": [
    {
     "data": {
      "text/html": [
       "<div>\n",
       "<style scoped>\n",
       "    .dataframe tbody tr th:only-of-type {\n",
       "        vertical-align: middle;\n",
       "    }\n",
       "\n",
       "    .dataframe tbody tr th {\n",
       "        vertical-align: top;\n",
       "    }\n",
       "\n",
       "    .dataframe thead th {\n",
       "        text-align: right;\n",
       "    }\n",
       "</style>\n",
       "<table border=\"1\" class=\"dataframe\">\n",
       "  <thead>\n",
       "    <tr style=\"text-align: right;\">\n",
       "      <th></th>\n",
       "      <th>Intercept</th>\n",
       "      <th>gender[T.M]</th>\n",
       "      <th>gender[T.U]</th>\n",
       "      <th>gapmos</th>\n",
       "      <th>promocontr</th>\n",
       "      <th>mincontrib</th>\n",
       "      <th>ncontrib</th>\n",
       "      <th>maxcontrib</th>\n",
       "      <th>lastcontr</th>\n",
       "      <th>avecontr</th>\n",
       "      <th>mailord</th>\n",
       "      <th>mindate</th>\n",
       "      <th>maxdate</th>\n",
       "      <th>age</th>\n",
       "    </tr>\n",
       "  </thead>\n",
       "  <tbody>\n",
       "    <tr>\n",
       "      <th>0</th>\n",
       "      <td>1.0</td>\n",
       "      <td>0.0</td>\n",
       "      <td>0.0</td>\n",
       "      <td>12.0</td>\n",
       "      <td>10.0</td>\n",
       "      <td>2.0</td>\n",
       "      <td>15.0</td>\n",
       "      <td>7.0</td>\n",
       "      <td>5.0</td>\n",
       "      <td>4.066667</td>\n",
       "      <td>10.0</td>\n",
       "      <td>8801.0</td>\n",
       "      <td>9404.0</td>\n",
       "      <td>62.0</td>\n",
       "    </tr>\n",
       "    <tr>\n",
       "      <th>1</th>\n",
       "      <td>1.0</td>\n",
       "      <td>0.0</td>\n",
       "      <td>0.0</td>\n",
       "      <td>3.0</td>\n",
       "      <td>14.0</td>\n",
       "      <td>3.0</td>\n",
       "      <td>21.0</td>\n",
       "      <td>6.0</td>\n",
       "      <td>5.0</td>\n",
       "      <td>4.857143</td>\n",
       "      <td>5.0</td>\n",
       "      <td>9312.0</td>\n",
       "      <td>9404.0</td>\n",
       "      <td>66.0</td>\n",
       "    </tr>\n",
       "    <tr>\n",
       "      <th>2</th>\n",
       "      <td>1.0</td>\n",
       "      <td>0.0</td>\n",
       "      <td>0.0</td>\n",
       "      <td>21.0</td>\n",
       "      <td>5.0</td>\n",
       "      <td>5.0</td>\n",
       "      <td>12.0</td>\n",
       "      <td>17.0</td>\n",
       "      <td>10.0</td>\n",
       "      <td>11.000000</td>\n",
       "      <td>0.0</td>\n",
       "      <td>9001.0</td>\n",
       "      <td>9503.0</td>\n",
       "      <td>69.0</td>\n",
       "    </tr>\n",
       "    <tr>\n",
       "      <th>3</th>\n",
       "      <td>1.0</td>\n",
       "      <td>1.0</td>\n",
       "      <td>0.0</td>\n",
       "      <td>6.0</td>\n",
       "      <td>8.0</td>\n",
       "      <td>5.0</td>\n",
       "      <td>10.0</td>\n",
       "      <td>12.0</td>\n",
       "      <td>12.0</td>\n",
       "      <td>9.400000</td>\n",
       "      <td>10.0</td>\n",
       "      <td>9209.0</td>\n",
       "      <td>9509.0</td>\n",
       "      <td>73.0</td>\n",
       "    </tr>\n",
       "    <tr>\n",
       "      <th>4</th>\n",
       "      <td>1.0</td>\n",
       "      <td>0.0</td>\n",
       "      <td>0.0</td>\n",
       "      <td>7.0</td>\n",
       "      <td>2.0</td>\n",
       "      <td>10.0</td>\n",
       "      <td>3.0</td>\n",
       "      <td>15.0</td>\n",
       "      <td>10.0</td>\n",
       "      <td>11.666667</td>\n",
       "      <td>0.0</td>\n",
       "      <td>9511.0</td>\n",
       "      <td>9508.0</td>\n",
       "      <td>58.0</td>\n",
       "    </tr>\n",
       "  </tbody>\n",
       "</table>\n",
       "</div>"
      ],
      "text/plain": [
       "   Intercept  gender[T.M]  gender[T.U]  gapmos  promocontr  mincontrib  \\\n",
       "0        1.0          0.0          0.0    12.0        10.0         2.0   \n",
       "1        1.0          0.0          0.0     3.0        14.0         3.0   \n",
       "2        1.0          0.0          0.0    21.0         5.0         5.0   \n",
       "3        1.0          1.0          0.0     6.0         8.0         5.0   \n",
       "4        1.0          0.0          0.0     7.0         2.0        10.0   \n",
       "\n",
       "   ncontrib  maxcontrib  lastcontr   avecontr  mailord  mindate  maxdate   age  \n",
       "0      15.0         7.0        5.0   4.066667     10.0   8801.0   9404.0  62.0  \n",
       "1      21.0         6.0        5.0   4.857143      5.0   9312.0   9404.0  66.0  \n",
       "2      12.0        17.0       10.0  11.000000      0.0   9001.0   9503.0  69.0  \n",
       "3      10.0        12.0       12.0   9.400000     10.0   9209.0   9509.0  73.0  \n",
       "4       3.0        15.0       10.0  11.666667      0.0   9511.0   9508.0  58.0  "
      ]
     },
     "execution_count": 16,
     "metadata": {},
     "output_type": "execute_result"
    }
   ],
   "source": [
    "X.head()"
   ]
  },
  {
   "cell_type": "code",
   "execution_count": 17,
   "metadata": {},
   "outputs": [
    {
     "data": {
      "text/html": [
       "<div>\n",
       "<style scoped>\n",
       "    .dataframe tbody tr th:only-of-type {\n",
       "        vertical-align: middle;\n",
       "    }\n",
       "\n",
       "    .dataframe tbody tr th {\n",
       "        vertical-align: top;\n",
       "    }\n",
       "\n",
       "    .dataframe thead th {\n",
       "        text-align: right;\n",
       "    }\n",
       "</style>\n",
       "<table border=\"1\" class=\"dataframe\">\n",
       "  <thead>\n",
       "    <tr style=\"text-align: right;\">\n",
       "      <th></th>\n",
       "      <th>contrib</th>\n",
       "    </tr>\n",
       "  </thead>\n",
       "  <tbody>\n",
       "    <tr>\n",
       "      <th>0</th>\n",
       "      <td>4.0</td>\n",
       "    </tr>\n",
       "    <tr>\n",
       "      <th>1</th>\n",
       "      <td>5.0</td>\n",
       "    </tr>\n",
       "    <tr>\n",
       "      <th>2</th>\n",
       "      <td>13.0</td>\n",
       "    </tr>\n",
       "    <tr>\n",
       "      <th>3</th>\n",
       "      <td>10.0</td>\n",
       "    </tr>\n",
       "    <tr>\n",
       "      <th>4</th>\n",
       "      <td>10.0</td>\n",
       "    </tr>\n",
       "  </tbody>\n",
       "</table>\n",
       "</div>"
      ],
      "text/plain": [
       "   contrib\n",
       "0      4.0\n",
       "1      5.0\n",
       "2     13.0\n",
       "3     10.0\n",
       "4     10.0"
      ]
     },
     "execution_count": 17,
     "metadata": {},
     "output_type": "execute_result"
    }
   ],
   "source": [
    "y.head()"
   ]
  },
  {
   "cell_type": "code",
   "execution_count": 18,
   "metadata": {},
   "outputs": [
    {
     "name": "stdout",
     "output_type": "stream",
     "text": [
      "                            OLS Regression Results                            \n",
      "==============================================================================\n",
      "Dep. Variable:                contrib   R-squared:                       0.581\n",
      "Model:                            OLS   Adj. R-squared:                  0.579\n",
      "Method:                 Least Squares   F-statistic:                     368.5\n",
      "Date:                Fri, 20 Nov 2020   Prob (F-statistic):               0.00\n",
      "Time:                        08:07:45   Log-Likelihood:                -11907.\n",
      "No. Observations:                3470   AIC:                         2.384e+04\n",
      "Df Residuals:                    3456   BIC:                         2.393e+04\n",
      "Df Model:                          13                                         \n",
      "Covariance Type:            nonrobust                                         \n",
      "===============================================================================\n",
      "                  coef    std err          t      P>|t|      [0.025      0.975]\n",
      "-------------------------------------------------------------------------------\n",
      "Intercept       1.0676      8.918      0.120      0.905     -16.417      18.552\n",
      "gender[T.M]     0.1996      0.262      0.763      0.446      -0.314       0.713\n",
      "gender[T.U]    -0.3289      0.699     -0.470      0.638      -1.699       1.042\n",
      "gapmos          0.0303      0.021      1.464      0.143      -0.010       0.071\n",
      "promocontr     -0.0404      0.063     -0.638      0.524      -0.165       0.084\n",
      "mincontrib     -0.0370      0.045     -0.814      0.416      -0.126       0.052\n",
      "ncontrib       -0.0411      0.033     -1.254      0.210      -0.105       0.023\n",
      "maxcontrib      0.0042      0.008      0.564      0.573      -0.010       0.019\n",
      "lastcontr       0.5965      0.020     30.198      0.000       0.558       0.635\n",
      "avecontr        0.3769      0.040      9.367      0.000       0.298       0.456\n",
      "mailord        -0.0156      0.012     -1.319      0.187      -0.039       0.008\n",
      "mindate        -0.0011      0.001     -1.991      0.047      -0.002    -1.7e-05\n",
      "maxdate         0.0012      0.001      1.659      0.097      -0.000       0.003\n",
      "age             0.0066      0.008      0.785      0.432      -0.010       0.023\n",
      "==============================================================================\n",
      "Omnibus:                     3356.849   Durbin-Watson:                   1.991\n",
      "Prob(Omnibus):                  0.000   Jarque-Bera (JB):           834002.846\n",
      "Skew:                           4.035   Prob(JB):                         0.00\n",
      "Kurtosis:                      78.519   Cond. No.                     9.23e+05\n",
      "==============================================================================\n",
      "\n",
      "Warnings:\n",
      "[1] Standard Errors assume that the covariance matrix of the errors is correctly specified.\n",
      "[2] The condition number is large, 9.23e+05. This might indicate that there are\n",
      "strong multicollinearity or other numerical problems.\n"
     ]
    }
   ],
   "source": [
    "mod = sm.OLS(y, X)    # Describe model\n",
    "res = mod.fit()       # Fit model\n",
    "print(res.summary()) "
   ]
  },
  {
   "cell_type": "code",
   "execution_count": 19,
   "metadata": {},
   "outputs": [
    {
     "data": {
      "text/plain": [
       "0.5793132026110206"
      ]
     },
     "execution_count": 19,
     "metadata": {},
     "output_type": "execute_result"
    }
   ],
   "source": [
    "res.rsquared_adj"
   ]
  },
  {
   "cell_type": "markdown",
   "metadata": {},
   "source": [
    "## Model 2 - Using only 2 predictors"
   ]
  },
  {
   "cell_type": "code",
   "execution_count": 20,
   "metadata": {},
   "outputs": [],
   "source": [
    "y, X = dmatrices('contrib  ~  lastcontr + avecontr', \n",
    "                 data=df, return_type='dataframe')"
   ]
  },
  {
   "cell_type": "code",
   "execution_count": 21,
   "metadata": {},
   "outputs": [
    {
     "name": "stdout",
     "output_type": "stream",
     "text": [
      "                            OLS Regression Results                            \n",
      "==============================================================================\n",
      "Dep. Variable:                contrib   R-squared:                       0.577\n",
      "Model:                            OLS   Adj. R-squared:                  0.577\n",
      "Method:                 Least Squares   F-statistic:                     2367.\n",
      "Date:                Fri, 20 Nov 2020   Prob (F-statistic):               0.00\n",
      "Time:                        08:07:45   Log-Likelihood:                -11922.\n",
      "No. Observations:                3470   AIC:                         2.385e+04\n",
      "Df Residuals:                    3467   BIC:                         2.387e+04\n",
      "Df Model:                           2                                         \n",
      "Covariance Type:            nonrobust                                         \n",
      "==============================================================================\n",
      "                 coef    std err          t      P>|t|      [0.025      0.975]\n",
      "------------------------------------------------------------------------------\n",
      "Intercept      2.0653      0.244      8.465      0.000       1.587       2.544\n",
      "lastcontr      0.6152      0.018     33.587      0.000       0.579       0.651\n",
      "avecontr       0.3694      0.029     12.826      0.000       0.313       0.426\n",
      "==============================================================================\n",
      "Omnibus:                     3295.724   Durbin-Watson:                   1.998\n",
      "Prob(Omnibus):                  0.000   Jarque-Bera (JB):           798016.335\n",
      "Skew:                           3.911   Prob(JB):                         0.00\n",
      "Kurtosis:                      76.880   Cond. No.                         42.5\n",
      "==============================================================================\n",
      "\n",
      "Warnings:\n",
      "[1] Standard Errors assume that the covariance matrix of the errors is correctly specified.\n"
     ]
    }
   ],
   "source": [
    "mod = sm.OLS(y, X)    # Describe model\n",
    "res = mod.fit()       # Fit model\n",
    "print(res.summary()) "
   ]
  },
  {
   "cell_type": "markdown",
   "metadata": {},
   "source": [
    "## Model 3 - Using only 1 predictor"
   ]
  },
  {
   "cell_type": "code",
   "execution_count": 22,
   "metadata": {},
   "outputs": [],
   "source": [
    "y, X = dmatrices('contrib  ~  lastcontr ', \n",
    "                 data=df, return_type='dataframe')"
   ]
  },
  {
   "cell_type": "code",
   "execution_count": 23,
   "metadata": {},
   "outputs": [
    {
     "name": "stdout",
     "output_type": "stream",
     "text": [
      "                            OLS Regression Results                            \n",
      "==============================================================================\n",
      "Dep. Variable:                contrib   R-squared:                       0.557\n",
      "Model:                            OLS   Adj. R-squared:                  0.557\n",
      "Method:                 Least Squares   F-statistic:                     4364.\n",
      "Date:                Fri, 20 Nov 2020   Prob (F-statistic):               0.00\n",
      "Time:                        08:07:45   Log-Likelihood:                -12002.\n",
      "No. Observations:                3470   AIC:                         2.401e+04\n",
      "Df Residuals:                    3468   BIC:                         2.402e+04\n",
      "Df Model:                           1                                         \n",
      "Covariance Type:            nonrobust                                         \n",
      "==============================================================================\n",
      "                 coef    std err          t      P>|t|      [0.025      0.975]\n",
      "------------------------------------------------------------------------------\n",
      "Intercept      3.5230      0.221     15.947      0.000       3.090       3.956\n",
      "lastcontr      0.7952      0.012     66.059      0.000       0.772       0.819\n",
      "==============================================================================\n",
      "Omnibus:                     3280.309   Durbin-Watson:                   2.002\n",
      "Prob(Omnibus):                  0.000   Jarque-Bera (JB):           817985.871\n",
      "Skew:                           3.868   Prob(JB):                         0.00\n",
      "Kurtosis:                      77.818   Cond. No.                         31.1\n",
      "==============================================================================\n",
      "\n",
      "Warnings:\n",
      "[1] Standard Errors assume that the covariance matrix of the errors is correctly specified.\n"
     ]
    }
   ],
   "source": [
    "mod = sm.OLS(y, X)    # Describe model\n",
    "res = mod.fit()       # Fit model\n",
    "print(res.summary()) "
   ]
  },
  {
   "cell_type": "code",
   "execution_count": 24,
   "metadata": {},
   "outputs": [],
   "source": [
    "###############################################"
   ]
  },
  {
   "cell_type": "code",
   "execution_count": 25,
   "metadata": {},
   "outputs": [],
   "source": [
    "##################################################"
   ]
  },
  {
   "cell_type": "code",
   "execution_count": 27,
   "metadata": {},
   "outputs": [],
   "source": [
    "#####################################################"
   ]
  },
  {
   "cell_type": "code",
   "execution_count": null,
   "metadata": {},
   "outputs": [],
   "source": [
    "##################################################"
   ]
  },
  {
   "cell_type": "code",
   "execution_count": null,
   "metadata": {},
   "outputs": [],
   "source": [
    "###############################################"
   ]
  },
  {
   "cell_type": "markdown",
   "metadata": {},
   "source": [
    "### HW - Income 1 (Effect of Education)"
   ]
  },
  {
   "cell_type": "code",
   "execution_count": 35,
   "metadata": {},
   "outputs": [],
   "source": [
    "df_inc1 = pd.read_csv(\"Income1.csv\")"
   ]
  },
  {
   "cell_type": "code",
   "execution_count": 36,
   "metadata": {},
   "outputs": [],
   "source": [
    "y, X = dmatrices('Income  ~  Education ', \n",
    "                 data=df_hw, return_type='dataframe')"
   ]
  },
  {
   "cell_type": "code",
   "execution_count": 37,
   "metadata": {},
   "outputs": [
    {
     "name": "stdout",
     "output_type": "stream",
     "text": [
      "                            OLS Regression Results                            \n",
      "==============================================================================\n",
      "Dep. Variable:                 Income   R-squared:                       0.931\n",
      "Model:                            OLS   Adj. R-squared:                  0.928\n",
      "Method:                 Least Squares   F-statistic:                     377.6\n",
      "Date:                Fri, 20 Nov 2020   Prob (F-statistic):           8.63e-18\n",
      "Time:                        08:14:57   Log-Likelihood:                -93.500\n",
      "No. Observations:                  30   AIC:                             191.0\n",
      "Df Residuals:                      28   BIC:                             193.8\n",
      "Df Model:                           1                                         \n",
      "Covariance Type:            nonrobust                                         \n",
      "==============================================================================\n",
      "                 coef    std err          t      P>|t|      [0.025      0.975]\n",
      "------------------------------------------------------------------------------\n",
      "Intercept    -39.4463      4.725     -8.349      0.000     -49.125     -29.768\n",
      "Education      5.5995      0.288     19.431      0.000       5.009       6.190\n",
      "==============================================================================\n",
      "Omnibus:                        1.166   Durbin-Watson:                   1.163\n",
      "Prob(Omnibus):                  0.558   Jarque-Bera (JB):                0.774\n",
      "Skew:                          -0.391   Prob(JB):                        0.679\n",
      "Kurtosis:                       2.916   Cond. No.                         75.3\n",
      "==============================================================================\n",
      "\n",
      "Warnings:\n",
      "[1] Standard Errors assume that the covariance matrix of the errors is correctly specified.\n"
     ]
    }
   ],
   "source": [
    "mod = sm.OLS(y, X)    # Describe model\n",
    "res = mod.fit()       # Fit model\n",
    "print(res.summary()) "
   ]
  },
  {
   "cell_type": "markdown",
   "metadata": {},
   "source": [
    "### HW - Income 2 (Effect of Education and one other)"
   ]
  },
  {
   "cell_type": "code",
   "execution_count": 40,
   "metadata": {},
   "outputs": [],
   "source": [
    "df_inc2 = pd.read_csv(\"Income2.csv\")"
   ]
  },
  {
   "cell_type": "code",
   "execution_count": 41,
   "metadata": {},
   "outputs": [],
   "source": [
    "y, X = dmatrices('Income  ~  Education + Seniority ', \n",
    "                 data=df_inc2, return_type='dataframe')"
   ]
  },
  {
   "cell_type": "code",
   "execution_count": 42,
   "metadata": {},
   "outputs": [
    {
     "name": "stdout",
     "output_type": "stream",
     "text": [
      "                            OLS Regression Results                            \n",
      "==============================================================================\n",
      "Dep. Variable:                 Income   R-squared:                       0.934\n",
      "Model:                            OLS   Adj. R-squared:                  0.929\n",
      "Method:                 Least Squares   F-statistic:                     191.4\n",
      "Date:                Fri, 20 Nov 2020   Prob (F-statistic):           1.13e-16\n",
      "Time:                        08:16:04   Log-Likelihood:                -100.15\n",
      "No. Observations:                  30   AIC:                             206.3\n",
      "Df Residuals:                      27   BIC:                             210.5\n",
      "Df Model:                           2                                         \n",
      "Covariance Type:            nonrobust                                         \n",
      "==============================================================================\n",
      "                 coef    std err          t      P>|t|      [0.025      0.975]\n",
      "------------------------------------------------------------------------------\n",
      "Intercept    -50.0856      5.999     -8.349      0.000     -62.394     -37.777\n",
      "Education      5.8956      0.357     16.513      0.000       5.163       6.628\n",
      "Seniority      0.1729      0.024      7.079      0.000       0.123       0.223\n",
      "==============================================================================\n",
      "Omnibus:                        3.352   Durbin-Watson:                   2.102\n",
      "Prob(Omnibus):                  0.187   Jarque-Bera (JB):                2.672\n",
      "Skew:                           0.729   Prob(JB):                        0.263\n",
      "Kurtosis:                       2.892   Cond. No.                         502.\n",
      "==============================================================================\n",
      "\n",
      "Warnings:\n",
      "[1] Standard Errors assume that the covariance matrix of the errors is correctly specified.\n"
     ]
    }
   ],
   "source": [
    "mod = sm.OLS(y, X)    # Describe model\n",
    "res = mod.fit()       # Fit model\n",
    "print(res.summary()) "
   ]
  },
  {
   "cell_type": "code",
   "execution_count": null,
   "metadata": {},
   "outputs": [],
   "source": []
  }
 ],
 "metadata": {
  "kernelspec": {
   "display_name": "Python 3",
   "language": "python",
   "name": "python3"
  },
  "language_info": {
   "codemirror_mode": {
    "name": "ipython",
    "version": 3
   },
   "file_extension": ".py",
   "mimetype": "text/x-python",
   "name": "python",
   "nbconvert_exporter": "python",
   "pygments_lexer": "ipython3",
   "version": "3.8.3"
  }
 },
 "nbformat": 4,
 "nbformat_minor": 4
}
