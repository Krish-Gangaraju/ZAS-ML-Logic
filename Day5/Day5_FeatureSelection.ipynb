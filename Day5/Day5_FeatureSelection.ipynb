{
 "cells": [
  {
   "cell_type": "code",
   "execution_count": 3,
   "metadata": {},
   "outputs": [],
   "source": [
    "import statsmodels.api as sm\n",
    "\n",
    "import pandas as pd\n",
    "\n",
    "from patsy import dmatrices"
   ]
  },
  {
   "cell_type": "code",
   "execution_count": 4,
   "metadata": {},
   "outputs": [],
   "source": [
    "import seaborn as sns"
   ]
  },
  {
   "cell_type": "code",
   "execution_count": 5,
   "metadata": {},
   "outputs": [],
   "source": [
    "from matplotlib import pyplot as plt"
   ]
  },
  {
   "cell_type": "code",
   "execution_count": 6,
   "metadata": {},
   "outputs": [],
   "source": [
    "#df = pd.read_csv(\"wifi_localization.txt\", delimiter=\"\\t\")"
   ]
  },
  {
   "cell_type": "code",
   "execution_count": 7,
   "metadata": {},
   "outputs": [],
   "source": [
    "#df.head()"
   ]
  },
  {
   "cell_type": "code",
   "execution_count": 8,
   "metadata": {},
   "outputs": [],
   "source": [
    "df = pd.read_csv(\"fund-raising.csv\")"
   ]
  },
  {
   "cell_type": "code",
   "execution_count": 9,
   "metadata": {},
   "outputs": [
    {
     "data": {
      "text/html": [
       "<div>\n",
       "<style scoped>\n",
       "    .dataframe tbody tr th:only-of-type {\n",
       "        vertical-align: middle;\n",
       "    }\n",
       "\n",
       "    .dataframe tbody tr th {\n",
       "        vertical-align: top;\n",
       "    }\n",
       "\n",
       "    .dataframe thead th {\n",
       "        text-align: right;\n",
       "    }\n",
       "</style>\n",
       "<table border=\"1\" class=\"dataframe\">\n",
       "  <thead>\n",
       "    <tr style=\"text-align: right;\">\n",
       "      <th></th>\n",
       "      <th>contrib</th>\n",
       "      <th>gapmos</th>\n",
       "      <th>promocontr</th>\n",
       "      <th>mincontrib</th>\n",
       "      <th>ncontrib</th>\n",
       "      <th>maxcontrib</th>\n",
       "      <th>lastcontr</th>\n",
       "      <th>avecontr</th>\n",
       "      <th>mailord</th>\n",
       "      <th>mindate</th>\n",
       "      <th>maxdate</th>\n",
       "      <th>age</th>\n",
       "      <th>gender</th>\n",
       "    </tr>\n",
       "  </thead>\n",
       "  <tbody>\n",
       "    <tr>\n",
       "      <th>0</th>\n",
       "      <td>4.0</td>\n",
       "      <td>12</td>\n",
       "      <td>10</td>\n",
       "      <td>2.0</td>\n",
       "      <td>15</td>\n",
       "      <td>7.0</td>\n",
       "      <td>5.0</td>\n",
       "      <td>4.066667</td>\n",
       "      <td>10</td>\n",
       "      <td>8801</td>\n",
       "      <td>9404</td>\n",
       "      <td>62</td>\n",
       "      <td>F</td>\n",
       "    </tr>\n",
       "    <tr>\n",
       "      <th>1</th>\n",
       "      <td>5.0</td>\n",
       "      <td>3</td>\n",
       "      <td>14</td>\n",
       "      <td>3.0</td>\n",
       "      <td>21</td>\n",
       "      <td>6.0</td>\n",
       "      <td>5.0</td>\n",
       "      <td>4.857143</td>\n",
       "      <td>5</td>\n",
       "      <td>9312</td>\n",
       "      <td>9404</td>\n",
       "      <td>66</td>\n",
       "      <td>F</td>\n",
       "    </tr>\n",
       "    <tr>\n",
       "      <th>2</th>\n",
       "      <td>13.0</td>\n",
       "      <td>21</td>\n",
       "      <td>5</td>\n",
       "      <td>5.0</td>\n",
       "      <td>12</td>\n",
       "      <td>17.0</td>\n",
       "      <td>10.0</td>\n",
       "      <td>11.000000</td>\n",
       "      <td>0</td>\n",
       "      <td>9001</td>\n",
       "      <td>9503</td>\n",
       "      <td>69</td>\n",
       "      <td>F</td>\n",
       "    </tr>\n",
       "    <tr>\n",
       "      <th>3</th>\n",
       "      <td>10.0</td>\n",
       "      <td>6</td>\n",
       "      <td>8</td>\n",
       "      <td>5.0</td>\n",
       "      <td>10</td>\n",
       "      <td>12.0</td>\n",
       "      <td>12.0</td>\n",
       "      <td>9.400000</td>\n",
       "      <td>10</td>\n",
       "      <td>9209</td>\n",
       "      <td>9509</td>\n",
       "      <td>73</td>\n",
       "      <td>M</td>\n",
       "    </tr>\n",
       "    <tr>\n",
       "      <th>4</th>\n",
       "      <td>10.0</td>\n",
       "      <td>7</td>\n",
       "      <td>2</td>\n",
       "      <td>10.0</td>\n",
       "      <td>3</td>\n",
       "      <td>15.0</td>\n",
       "      <td>10.0</td>\n",
       "      <td>11.666667</td>\n",
       "      <td>0</td>\n",
       "      <td>9511</td>\n",
       "      <td>9508</td>\n",
       "      <td>58</td>\n",
       "      <td>F</td>\n",
       "    </tr>\n",
       "  </tbody>\n",
       "</table>\n",
       "</div>"
      ],
      "text/plain": [
       "   contrib  gapmos  promocontr  mincontrib  ncontrib  maxcontrib  lastcontr  \\\n",
       "0      4.0      12          10         2.0        15         7.0        5.0   \n",
       "1      5.0       3          14         3.0        21         6.0        5.0   \n",
       "2     13.0      21           5         5.0        12        17.0       10.0   \n",
       "3     10.0       6           8         5.0        10        12.0       12.0   \n",
       "4     10.0       7           2        10.0         3        15.0       10.0   \n",
       "\n",
       "    avecontr  mailord  mindate  maxdate  age gender  \n",
       "0   4.066667       10     8801     9404   62      F  \n",
       "1   4.857143        5     9312     9404   66      F  \n",
       "2  11.000000        0     9001     9503   69      F  \n",
       "3   9.400000       10     9209     9509   73      M  \n",
       "4  11.666667        0     9511     9508   58      F  "
      ]
     },
     "execution_count": 9,
     "metadata": {},
     "output_type": "execute_result"
    }
   ],
   "source": [
    "df.head()"
   ]
  },
  {
   "cell_type": "code",
   "execution_count": 10,
   "metadata": {},
   "outputs": [
    {
     "data": {
      "text/plain": [
       "array([  4.  ,   5.  ,  13.  ,  10.  ,  20.  ,  16.  ,  26.  ,   7.  ,\n",
       "         3.  ,  60.  ,  15.  ,  23.  ,   6.  ,  11.  ,  16.87,   2.5 ,\n",
       "        50.  ,  10.7 ,  35.  ,  14.  ,  21.  ,   2.  ,  12.  ,  25.  ,\n",
       "        19.  ,  40.  ,  38.  ,  18.  ,  17.  ,  12.5 ,   7.5 ,   1.  ,\n",
       "         9.  ,  36.  ,   8.  ,  30.  ,  22.  ,  24.  ,  41.  ,  51.  ,\n",
       "        28.  ,  43.  ,  31.  , 100.  ,  32.  ,  33.  ,  45.  ,  47.  ,\n",
       "        37.  ,  18.25,  27.  ,  13.92,  46.  , 200.  ,  44.  ,  75.  ,\n",
       "        53.  ,  29.  ,  17.5 ,  34.  ,   4.5 ,  42.  ,  55.  , 102.  ])"
      ]
     },
     "execution_count": 10,
     "metadata": {},
     "output_type": "execute_result"
    }
   ],
   "source": [
    "df['contrib'].unique()"
   ]
  },
  {
   "cell_type": "code",
   "execution_count": 11,
   "metadata": {},
   "outputs": [
    {
     "data": {
      "text/plain": [
       "array(['F', 'M', 'U'], dtype=object)"
      ]
     },
     "execution_count": 11,
     "metadata": {},
     "output_type": "execute_result"
    }
   ],
   "source": [
    "df['gender'].unique()"
   ]
  },
  {
   "cell_type": "code",
   "execution_count": 12,
   "metadata": {},
   "outputs": [],
   "source": [
    "corr = df.corr()"
   ]
  },
  {
   "cell_type": "code",
   "execution_count": 13,
   "metadata": {},
   "outputs": [
    {
     "data": {
      "text/html": [
       "<div>\n",
       "<style scoped>\n",
       "    .dataframe tbody tr th:only-of-type {\n",
       "        vertical-align: middle;\n",
       "    }\n",
       "\n",
       "    .dataframe tbody tr th {\n",
       "        vertical-align: top;\n",
       "    }\n",
       "\n",
       "    .dataframe thead th {\n",
       "        text-align: right;\n",
       "    }\n",
       "</style>\n",
       "<table border=\"1\" class=\"dataframe\">\n",
       "  <thead>\n",
       "    <tr style=\"text-align: right;\">\n",
       "      <th></th>\n",
       "      <th>contrib</th>\n",
       "      <th>gapmos</th>\n",
       "      <th>promocontr</th>\n",
       "      <th>mincontrib</th>\n",
       "      <th>ncontrib</th>\n",
       "      <th>maxcontrib</th>\n",
       "      <th>lastcontr</th>\n",
       "      <th>avecontr</th>\n",
       "      <th>mailord</th>\n",
       "      <th>mindate</th>\n",
       "      <th>maxdate</th>\n",
       "      <th>age</th>\n",
       "    </tr>\n",
       "  </thead>\n",
       "  <tbody>\n",
       "    <tr>\n",
       "      <th>contrib</th>\n",
       "      <td>1.000000</td>\n",
       "      <td>0.112192</td>\n",
       "      <td>-0.214586</td>\n",
       "      <td>0.407175</td>\n",
       "      <td>-0.211630</td>\n",
       "      <td>0.414476</td>\n",
       "      <td>0.746451</td>\n",
       "      <td>0.663092</td>\n",
       "      <td>0.018597</td>\n",
       "      <td>-0.065409</td>\n",
       "      <td>0.131160</td>\n",
       "      <td>-0.025829</td>\n",
       "    </tr>\n",
       "    <tr>\n",
       "      <th>gapmos</th>\n",
       "      <td>0.112192</td>\n",
       "      <td>1.000000</td>\n",
       "      <td>-0.122663</td>\n",
       "      <td>0.101264</td>\n",
       "      <td>-0.138969</td>\n",
       "      <td>0.043845</td>\n",
       "      <td>0.109052</td>\n",
       "      <td>0.120501</td>\n",
       "      <td>0.024835</td>\n",
       "      <td>-0.086470</td>\n",
       "      <td>0.011983</td>\n",
       "      <td>-0.032028</td>\n",
       "    </tr>\n",
       "    <tr>\n",
       "      <th>promocontr</th>\n",
       "      <td>-0.214586</td>\n",
       "      <td>-0.122663</td>\n",
       "      <td>1.000000</td>\n",
       "      <td>-0.377991</td>\n",
       "      <td>0.897084</td>\n",
       "      <td>-0.043710</td>\n",
       "      <td>-0.194761</td>\n",
       "      <td>-0.289574</td>\n",
       "      <td>0.006408</td>\n",
       "      <td>-0.364224</td>\n",
       "      <td>-0.393935</td>\n",
       "      <td>0.196177</td>\n",
       "    </tr>\n",
       "    <tr>\n",
       "      <th>mincontrib</th>\n",
       "      <td>0.407175</td>\n",
       "      <td>0.101264</td>\n",
       "      <td>-0.377991</td>\n",
       "      <td>1.000000</td>\n",
       "      <td>-0.370177</td>\n",
       "      <td>0.237322</td>\n",
       "      <td>0.441218</td>\n",
       "      <td>0.703515</td>\n",
       "      <td>-0.003198</td>\n",
       "      <td>0.278263</td>\n",
       "      <td>0.087067</td>\n",
       "      <td>-0.089005</td>\n",
       "    </tr>\n",
       "    <tr>\n",
       "      <th>ncontrib</th>\n",
       "      <td>-0.211630</td>\n",
       "      <td>-0.138969</td>\n",
       "      <td>0.897084</td>\n",
       "      <td>-0.370177</td>\n",
       "      <td>1.000000</td>\n",
       "      <td>0.026248</td>\n",
       "      <td>-0.193359</td>\n",
       "      <td>-0.268200</td>\n",
       "      <td>0.002570</td>\n",
       "      <td>-0.305664</td>\n",
       "      <td>-0.389773</td>\n",
       "      <td>0.199914</td>\n",
       "    </tr>\n",
       "    <tr>\n",
       "      <th>maxcontrib</th>\n",
       "      <td>0.414476</td>\n",
       "      <td>0.043845</td>\n",
       "      <td>-0.043710</td>\n",
       "      <td>0.237322</td>\n",
       "      <td>0.026248</td>\n",
       "      <td>1.000000</td>\n",
       "      <td>0.514442</td>\n",
       "      <td>0.535534</td>\n",
       "      <td>0.029185</td>\n",
       "      <td>-0.056513</td>\n",
       "      <td>-0.006831</td>\n",
       "      <td>0.021743</td>\n",
       "    </tr>\n",
       "    <tr>\n",
       "      <th>lastcontr</th>\n",
       "      <td>0.746451</td>\n",
       "      <td>0.109052</td>\n",
       "      <td>-0.194761</td>\n",
       "      <td>0.441218</td>\n",
       "      <td>-0.193359</td>\n",
       "      <td>0.514442</td>\n",
       "      <td>1.000000</td>\n",
       "      <td>0.766460</td>\n",
       "      <td>0.044186</td>\n",
       "      <td>-0.103314</td>\n",
       "      <td>0.158253</td>\n",
       "      <td>-0.025513</td>\n",
       "    </tr>\n",
       "    <tr>\n",
       "      <th>avecontr</th>\n",
       "      <td>0.663092</td>\n",
       "      <td>0.120501</td>\n",
       "      <td>-0.289574</td>\n",
       "      <td>0.703515</td>\n",
       "      <td>-0.268200</td>\n",
       "      <td>0.535534</td>\n",
       "      <td>0.766460</td>\n",
       "      <td>1.000000</td>\n",
       "      <td>0.029075</td>\n",
       "      <td>0.027796</td>\n",
       "      <td>0.037038</td>\n",
       "      <td>-0.050179</td>\n",
       "    </tr>\n",
       "    <tr>\n",
       "      <th>mailord</th>\n",
       "      <td>0.018597</td>\n",
       "      <td>0.024835</td>\n",
       "      <td>0.006408</td>\n",
       "      <td>-0.003198</td>\n",
       "      <td>0.002570</td>\n",
       "      <td>0.029185</td>\n",
       "      <td>0.044186</td>\n",
       "      <td>0.029075</td>\n",
       "      <td>1.000000</td>\n",
       "      <td>0.010814</td>\n",
       "      <td>0.013036</td>\n",
       "      <td>0.108515</td>\n",
       "    </tr>\n",
       "    <tr>\n",
       "      <th>mindate</th>\n",
       "      <td>-0.065409</td>\n",
       "      <td>-0.086470</td>\n",
       "      <td>-0.364224</td>\n",
       "      <td>0.278263</td>\n",
       "      <td>-0.305664</td>\n",
       "      <td>-0.056513</td>\n",
       "      <td>-0.103314</td>\n",
       "      <td>0.027796</td>\n",
       "      <td>0.010814</td>\n",
       "      <td>1.000000</td>\n",
       "      <td>0.134658</td>\n",
       "      <td>-0.145311</td>\n",
       "    </tr>\n",
       "    <tr>\n",
       "      <th>maxdate</th>\n",
       "      <td>0.131160</td>\n",
       "      <td>0.011983</td>\n",
       "      <td>-0.393935</td>\n",
       "      <td>0.087067</td>\n",
       "      <td>-0.389773</td>\n",
       "      <td>-0.006831</td>\n",
       "      <td>0.158253</td>\n",
       "      <td>0.037038</td>\n",
       "      <td>0.013036</td>\n",
       "      <td>0.134658</td>\n",
       "      <td>1.000000</td>\n",
       "      <td>-0.115093</td>\n",
       "    </tr>\n",
       "    <tr>\n",
       "      <th>age</th>\n",
       "      <td>-0.025829</td>\n",
       "      <td>-0.032028</td>\n",
       "      <td>0.196177</td>\n",
       "      <td>-0.089005</td>\n",
       "      <td>0.199914</td>\n",
       "      <td>0.021743</td>\n",
       "      <td>-0.025513</td>\n",
       "      <td>-0.050179</td>\n",
       "      <td>0.108515</td>\n",
       "      <td>-0.145311</td>\n",
       "      <td>-0.115093</td>\n",
       "      <td>1.000000</td>\n",
       "    </tr>\n",
       "  </tbody>\n",
       "</table>\n",
       "</div>"
      ],
      "text/plain": [
       "             contrib    gapmos  promocontr  mincontrib  ncontrib  maxcontrib  \\\n",
       "contrib     1.000000  0.112192   -0.214586    0.407175 -0.211630    0.414476   \n",
       "gapmos      0.112192  1.000000   -0.122663    0.101264 -0.138969    0.043845   \n",
       "promocontr -0.214586 -0.122663    1.000000   -0.377991  0.897084   -0.043710   \n",
       "mincontrib  0.407175  0.101264   -0.377991    1.000000 -0.370177    0.237322   \n",
       "ncontrib   -0.211630 -0.138969    0.897084   -0.370177  1.000000    0.026248   \n",
       "maxcontrib  0.414476  0.043845   -0.043710    0.237322  0.026248    1.000000   \n",
       "lastcontr   0.746451  0.109052   -0.194761    0.441218 -0.193359    0.514442   \n",
       "avecontr    0.663092  0.120501   -0.289574    0.703515 -0.268200    0.535534   \n",
       "mailord     0.018597  0.024835    0.006408   -0.003198  0.002570    0.029185   \n",
       "mindate    -0.065409 -0.086470   -0.364224    0.278263 -0.305664   -0.056513   \n",
       "maxdate     0.131160  0.011983   -0.393935    0.087067 -0.389773   -0.006831   \n",
       "age        -0.025829 -0.032028    0.196177   -0.089005  0.199914    0.021743   \n",
       "\n",
       "            lastcontr  avecontr   mailord   mindate   maxdate       age  \n",
       "contrib      0.746451  0.663092  0.018597 -0.065409  0.131160 -0.025829  \n",
       "gapmos       0.109052  0.120501  0.024835 -0.086470  0.011983 -0.032028  \n",
       "promocontr  -0.194761 -0.289574  0.006408 -0.364224 -0.393935  0.196177  \n",
       "mincontrib   0.441218  0.703515 -0.003198  0.278263  0.087067 -0.089005  \n",
       "ncontrib    -0.193359 -0.268200  0.002570 -0.305664 -0.389773  0.199914  \n",
       "maxcontrib   0.514442  0.535534  0.029185 -0.056513 -0.006831  0.021743  \n",
       "lastcontr    1.000000  0.766460  0.044186 -0.103314  0.158253 -0.025513  \n",
       "avecontr     0.766460  1.000000  0.029075  0.027796  0.037038 -0.050179  \n",
       "mailord      0.044186  0.029075  1.000000  0.010814  0.013036  0.108515  \n",
       "mindate     -0.103314  0.027796  0.010814  1.000000  0.134658 -0.145311  \n",
       "maxdate      0.158253  0.037038  0.013036  0.134658  1.000000 -0.115093  \n",
       "age         -0.025513 -0.050179  0.108515 -0.145311 -0.115093  1.000000  "
      ]
     },
     "execution_count": 13,
     "metadata": {},
     "output_type": "execute_result"
    }
   ],
   "source": [
    "corr"
   ]
  },
  {
   "cell_type": "code",
   "execution_count": 14,
   "metadata": {},
   "outputs": [
    {
     "data": {
      "text/plain": [
       "<AxesSubplot:>"
      ]
     },
     "execution_count": 14,
     "metadata": {},
     "output_type": "execute_result"
    },
    {
     "data": {
      "image/png": "[encoded data removed]",
      "text/plain": [
       "<Figure size 1152x504 with 2 Axes>"
      ]
     },
     "metadata": {
      "needs_background": "light"
     },
     "output_type": "display_data"
    }
   ],
   "source": [
    "plt.figure(figsize = (16,7))\n",
    "sns.heatmap(corr, xticklabels=corr.columns, yticklabels=corr.columns, annot=True)"
   ]
  },
  {
   "cell_type": "code",
   "execution_count": 15,
   "metadata": {},
   "outputs": [
    {
     "data": {
      "text/plain": [
       "Index(['contrib', 'gapmos', 'promocontr', 'mincontrib', 'ncontrib',\n",
       "       'maxcontrib', 'lastcontr', 'avecontr', 'mailord', 'mindate', 'maxdate',\n",
       "       'age', 'gender'],\n",
       "      dtype='object')"
      ]
     },
     "execution_count": 15,
     "metadata": {},
     "output_type": "execute_result"
    }
   ],
   "source": [
    "df.columns"
   ]
  },
  {
   "cell_type": "code",
   "execution_count": 16,
   "metadata": {},
   "outputs": [],
   "source": [
    "y, X = dmatrices('contrib  ~ gapmos + promocontr + mincontrib + ncontrib + \\\n",
    "                 maxcontrib + lastcontr + avecontr + mailord + mindate + maxdate +age + gender', \n",
    "                 data=df, return_type='dataframe')"
   ]
  },
  {
   "cell_type": "code",
   "execution_count": 17,
   "metadata": {},
   "outputs": [
    {
     "data": {
      "text/html": [
       "<div>\n",
       "<style scoped>\n",
       "    .dataframe tbody tr th:only-of-type {\n",
       "        vertical-align: middle;\n",
       "    }\n",
       "\n",
       "    .dataframe tbody tr th {\n",
       "        vertical-align: top;\n",
       "    }\n",
       "\n",
       "    .dataframe thead th {\n",
       "        text-align: right;\n",
       "    }\n",
       "</style>\n",
       "<table border=\"1\" class=\"dataframe\">\n",
       "  <thead>\n",
       "    <tr style=\"text-align: right;\">\n",
       "      <th></th>\n",
       "      <th>Intercept</th>\n",
       "      <th>gender[T.M]</th>\n",
       "      <th>gender[T.U]</th>\n",
       "      <th>gapmos</th>\n",
       "      <th>promocontr</th>\n",
       "      <th>mincontrib</th>\n",
       "      <th>ncontrib</th>\n",
       "      <th>maxcontrib</th>\n",
       "      <th>lastcontr</th>\n",
       "      <th>avecontr</th>\n",
       "      <th>mailord</th>\n",
       "      <th>mindate</th>\n",
       "      <th>maxdate</th>\n",
       "      <th>age</th>\n",
       "    </tr>\n",
       "  </thead>\n",
       "  <tbody>\n",
       "    <tr>\n",
       "      <th>0</th>\n",
       "      <td>1.0</td>\n",
       "      <td>0.0</td>\n",
       "      <td>0.0</td>\n",
       "      <td>12.0</td>\n",
       "      <td>10.0</td>\n",
       "      <td>2.0</td>\n",
       "      <td>15.0</td>\n",
       "      <td>7.0</td>\n",
       "      <td>5.0</td>\n",
       "      <td>4.066667</td>\n",
       "      <td>10.0</td>\n",
       "      <td>8801.0</td>\n",
       "      <td>9404.0</td>\n",
       "      <td>62.0</td>\n",
       "    </tr>\n",
       "    <tr>\n",
       "      <th>1</th>\n",
       "      <td>1.0</td>\n",
       "      <td>0.0</td>\n",
       "      <td>0.0</td>\n",
       "      <td>3.0</td>\n",
       "      <td>14.0</td>\n",
       "      <td>3.0</td>\n",
       "      <td>21.0</td>\n",
       "      <td>6.0</td>\n",
       "      <td>5.0</td>\n",
       "      <td>4.857143</td>\n",
       "      <td>5.0</td>\n",
       "      <td>9312.0</td>\n",
       "      <td>9404.0</td>\n",
       "      <td>66.0</td>\n",
       "    </tr>\n",
       "    <tr>\n",
       "      <th>2</th>\n",
       "      <td>1.0</td>\n",
       "      <td>0.0</td>\n",
       "      <td>0.0</td>\n",
       "      <td>21.0</td>\n",
       "      <td>5.0</td>\n",
       "      <td>5.0</td>\n",
       "      <td>12.0</td>\n",
       "      <td>17.0</td>\n",
       "      <td>10.0</td>\n",
       "      <td>11.000000</td>\n",
       "      <td>0.0</td>\n",
       "      <td>9001.0</td>\n",
       "      <td>9503.0</td>\n",
       "      <td>69.0</td>\n",
       "    </tr>\n",
       "    <tr>\n",
       "      <th>3</th>\n",
       "      <td>1.0</td>\n",
       "      <td>1.0</td>\n",
       "      <td>0.0</td>\n",
       "      <td>6.0</td>\n",
       "      <td>8.0</td>\n",
       "      <td>5.0</td>\n",
       "      <td>10.0</td>\n",
       "      <td>12.0</td>\n",
       "      <td>12.0</td>\n",
       "      <td>9.400000</td>\n",
       "      <td>10.0</td>\n",
       "      <td>9209.0</td>\n",
       "      <td>9509.0</td>\n",
       "      <td>73.0</td>\n",
       "    </tr>\n",
       "    <tr>\n",
       "      <th>4</th>\n",
       "      <td>1.0</td>\n",
       "      <td>0.0</td>\n",
       "      <td>0.0</td>\n",
       "      <td>7.0</td>\n",
       "      <td>2.0</td>\n",
       "      <td>10.0</td>\n",
       "      <td>3.0</td>\n",
       "      <td>15.0</td>\n",
       "      <td>10.0</td>\n",
       "      <td>11.666667</td>\n",
       "      <td>0.0</td>\n",
       "      <td>9511.0</td>\n",
       "      <td>9508.0</td>\n",
       "      <td>58.0</td>\n",
       "    </tr>\n",
       "  </tbody>\n",
       "</table>\n",
       "</div>"
      ],
      "text/plain": [
       "   Intercept  gender[T.M]  gender[T.U]  gapmos  promocontr  mincontrib  \\\n",
       "0        1.0          0.0          0.0    12.0        10.0         2.0   \n",
       "1        1.0          0.0          0.0     3.0        14.0         3.0   \n",
       "2        1.0          0.0          0.0    21.0         5.0         5.0   \n",
       "3        1.0          1.0          0.0     6.0         8.0         5.0   \n",
       "4        1.0          0.0          0.0     7.0         2.0        10.0   \n",
       "\n",
       "   ncontrib  maxcontrib  lastcontr   avecontr  mailord  mindate  maxdate   age  \n",
       "0      15.0         7.0        5.0   4.066667     10.0   8801.0   9404.0  62.0  \n",
       "1      21.0         6.0        5.0   4.857143      5.0   9312.0   9404.0  66.0  \n",
       "2      12.0        17.0       10.0  11.000000      0.0   9001.0   9503.0  69.0  \n",
       "3      10.0        12.0       12.0   9.400000     10.0   9209.0   9509.0  73.0  \n",
       "4       3.0        15.0       10.0  11.666667      0.0   9511.0   9508.0  58.0  "
      ]
     },
     "execution_count": 17,
     "metadata": {},
     "output_type": "execute_result"
    }
   ],
   "source": [
    "X.head()"
   ]
  },
  {
   "cell_type": "code",
   "execution_count": 18,
   "metadata": {},
   "outputs": [
    {
     "data": {
      "text/html": [
       "<div>\n",
       "<style scoped>\n",
       "    .dataframe tbody tr th:only-of-type {\n",
       "        vertical-align: middle;\n",
       "    }\n",
       "\n",
       "    .dataframe tbody tr th {\n",
       "        vertical-align: top;\n",
       "    }\n",
       "\n",
       "    .dataframe thead th {\n",
       "        text-align: right;\n",
       "    }\n",
       "</style>\n",
       "<table border=\"1\" class=\"dataframe\">\n",
       "  <thead>\n",
       "    <tr style=\"text-align: right;\">\n",
       "      <th></th>\n",
       "      <th>contrib</th>\n",
       "    </tr>\n",
       "  </thead>\n",
       "  <tbody>\n",
       "    <tr>\n",
       "      <th>0</th>\n",
       "      <td>4.0</td>\n",
       "    </tr>\n",
       "    <tr>\n",
       "      <th>1</th>\n",
       "      <td>5.0</td>\n",
       "    </tr>\n",
       "    <tr>\n",
       "      <th>2</th>\n",
       "      <td>13.0</td>\n",
       "    </tr>\n",
       "    <tr>\n",
       "      <th>3</th>\n",
       "      <td>10.0</td>\n",
       "    </tr>\n",
       "    <tr>\n",
       "      <th>4</th>\n",
       "      <td>10.0</td>\n",
       "    </tr>\n",
       "  </tbody>\n",
       "</table>\n",
       "</div>"
      ],
      "text/plain": [
       "   contrib\n",
       "0      4.0\n",
       "1      5.0\n",
       "2     13.0\n",
       "3     10.0\n",
       "4     10.0"
      ]
     },
     "execution_count": 18,
     "metadata": {},
     "output_type": "execute_result"
    }
   ],
   "source": [
    "y.head()"
   ]
  },
  {
   "cell_type": "code",
   "execution_count": 19,
   "metadata": {},
   "outputs": [
    {
     "name": "stdout",
     "output_type": "stream",
     "text": [
      "                            OLS Regression Results                            \n",
      "==============================================================================\n",
      "Dep. Variable:                contrib   R-squared:                       0.581\n",
      "Model:                            OLS   Adj. R-squared:                  0.579\n",
      "Method:                 Least Squares   F-statistic:                     368.5\n",
      "Date:                Fri, 20 Nov 2020   Prob (F-statistic):               0.00\n",
      "Time:                        17:24:10   Log-Likelihood:                -11907.\n",
      "No. Observations:                3470   AIC:                         2.384e+04\n",
      "Df Residuals:                    3456   BIC:                         2.393e+04\n",
      "Df Model:                          13                                         \n",
      "Covariance Type:            nonrobust                                         \n",
      "===============================================================================\n",
      "                  coef    std err          t      P>|t|      [0.025      0.975]\n",
      "-------------------------------------------------------------------------------\n",
      "Intercept       1.0676      8.918      0.120      0.905     -16.417      18.552\n",
      "gender[T.M]     0.1996      0.262      0.763      0.446      -0.314       0.713\n",
      "gender[T.U]    -0.3289      0.699     -0.470      0.638      -1.699       1.042\n",
      "gapmos          0.0303      0.021      1.464      0.143      -0.010       0.071\n",
      "promocontr     -0.0404      0.063     -0.638      0.524      -0.165       0.084\n",
      "mincontrib     -0.0370      0.045     -0.814      0.416      -0.126       0.052\n",
      "ncontrib       -0.0411      0.033     -1.254      0.210      -0.105       0.023\n",
      "maxcontrib      0.0042      0.008      0.564      0.573      -0.010       0.019\n",
      "lastcontr       0.5965      0.020     30.198      0.000       0.558       0.635\n",
      "avecontr        0.3769      0.040      9.367      0.000       0.298       0.456\n",
      "mailord        -0.0156      0.012     -1.319      0.187      -0.039       0.008\n",
      "mindate        -0.0011      0.001     -1.991      0.047      -0.002    -1.7e-05\n",
      "maxdate         0.0012      0.001      1.659      0.097      -0.000       0.003\n",
      "age             0.0066      0.008      0.785      0.432      -0.010       0.023\n",
      "==============================================================================\n",
      "Omnibus:                     3356.849   Durbin-Watson:                   1.991\n",
      "Prob(Omnibus):                  0.000   Jarque-Bera (JB):           834002.846\n",
      "Skew:                           4.035   Prob(JB):                         0.00\n",
      "Kurtosis:                      78.519   Cond. No.                     9.23e+05\n",
      "==============================================================================\n",
      "\n",
      "Notes:\n",
      "[1] Standard Errors assume that the covariance matrix of the errors is correctly specified.\n",
      "[2] The condition number is large, 9.23e+05. This might indicate that there are\n",
      "strong multicollinearity or other numerical problems.\n"
     ]
    }
   ],
   "source": [
    "mod = sm.OLS(y, X)    # Describe model\n",
    "\n",
    "res = mod.fit()       # Fit model\n",
    "\n",
    "print(res.summary()) "
   ]
  },
  {
   "cell_type": "code",
   "execution_count": 20,
   "metadata": {},
   "outputs": [
    {
     "data": {
      "text/plain": [
       "0.5793132026110206"
      ]
     },
     "execution_count": 20,
     "metadata": {},
     "output_type": "execute_result"
    }
   ],
   "source": [
    "res.rsquared_adj"
   ]
  },
  {
   "cell_type": "code",
   "execution_count": 21,
   "metadata": {},
   "outputs": [
    {
     "name": "stdout",
     "output_type": "stream",
     "text": [
      "contrib ~ gapmos\n",
      "contrib ~ gapmos+promocontr\n",
      "contrib ~ gapmos+promocontr+mincontrib\n",
      "contrib ~ gapmos+promocontr+mincontrib+ncontrib\n",
      "contrib ~ gapmos+promocontr+mincontrib+ncontrib+maxcontrib\n",
      "contrib ~ gapmos+promocontr+mincontrib+ncontrib+maxcontrib+lastcontr\n",
      "contrib ~ gapmos+promocontr+mincontrib+ncontrib+maxcontrib+lastcontr+avecontr\n",
      "contrib ~ gapmos+promocontr+mincontrib+ncontrib+maxcontrib+lastcontr+avecontr+mailord\n",
      "contrib ~ gapmos+promocontr+mincontrib+ncontrib+maxcontrib+lastcontr+avecontr+mailord+mindate\n",
      "contrib ~ gapmos+promocontr+mincontrib+ncontrib+maxcontrib+lastcontr+avecontr+mailord+mindate+maxdate\n",
      "contrib ~ gapmos+promocontr+mincontrib+ncontrib+maxcontrib+lastcontr+avecontr+mailord+mindate+maxdate+age\n",
      "contrib ~ gapmos+promocontr+mincontrib+ncontrib+maxcontrib+lastcontr+avecontr+mailord+mindate+maxdate+age+gender\n"
     ]
    }
   ],
   "source": [
    "mod_equations = []\n",
    "s = 'contrib ~ '\n",
    "for c in df.columns[1:]:\n",
    "    s = s + c + '+'\n",
    "    print(s[:-1])\n",
    "    mod_equations.append(s[:-1])"
   ]
  },
  {
   "cell_type": "code",
   "execution_count": 22,
   "metadata": {},
   "outputs": [
    {
     "data": {
      "text/plain": [
       "['contrib ~ gapmos',\n",
       " 'contrib ~ gapmos+promocontr',\n",
       " 'contrib ~ gapmos+promocontr+mincontrib',\n",
       " 'contrib ~ gapmos+promocontr+mincontrib+ncontrib',\n",
       " 'contrib ~ gapmos+promocontr+mincontrib+ncontrib+maxcontrib',\n",
       " 'contrib ~ gapmos+promocontr+mincontrib+ncontrib+maxcontrib+lastcontr',\n",
       " 'contrib ~ gapmos+promocontr+mincontrib+ncontrib+maxcontrib+lastcontr+avecontr',\n",
       " 'contrib ~ gapmos+promocontr+mincontrib+ncontrib+maxcontrib+lastcontr+avecontr+mailord',\n",
       " 'contrib ~ gapmos+promocontr+mincontrib+ncontrib+maxcontrib+lastcontr+avecontr+mailord+mindate',\n",
       " 'contrib ~ gapmos+promocontr+mincontrib+ncontrib+maxcontrib+lastcontr+avecontr+mailord+mindate+maxdate',\n",
       " 'contrib ~ gapmos+promocontr+mincontrib+ncontrib+maxcontrib+lastcontr+avecontr+mailord+mindate+maxdate+age',\n",
       " 'contrib ~ gapmos+promocontr+mincontrib+ncontrib+maxcontrib+lastcontr+avecontr+mailord+mindate+maxdate+age+gender']"
      ]
     },
     "execution_count": 22,
     "metadata": {},
     "output_type": "execute_result"
    }
   ],
   "source": [
    "mod_equations"
   ]
  },
  {
   "cell_type": "code",
   "execution_count": 23,
   "metadata": {},
   "outputs": [
    {
     "name": "stdout",
     "output_type": "stream",
     "text": [
      "contrib ~ gapmos 0.012302\n",
      "contrib ~ gapmos+promocontr 0.052988\n",
      "contrib ~ gapmos+promocontr+mincontrib 0.173676\n",
      "contrib ~ gapmos+promocontr+mincontrib+ncontrib 0.173595\n",
      "contrib ~ gapmos+promocontr+mincontrib+ncontrib+maxcontrib 0.286906\n",
      "contrib ~ gapmos+promocontr+mincontrib+ncontrib+maxcontrib+lastcontr 0.568073\n",
      "contrib ~ gapmos+promocontr+mincontrib+ncontrib+maxcontrib+lastcontr+avecontr 0.57884\n",
      "contrib ~ gapmos+promocontr+mincontrib+ncontrib+maxcontrib+lastcontr+avecontr+mailord 0.578906\n",
      "contrib ~ gapmos+promocontr+mincontrib+ncontrib+maxcontrib+lastcontr+avecontr+mailord+mindate 0.579291\n",
      "contrib ~ gapmos+promocontr+mincontrib+ncontrib+maxcontrib+lastcontr+avecontr+mailord+mindate+maxdate 0.579489\n",
      "contrib ~ gapmos+promocontr+mincontrib+ncontrib+maxcontrib+lastcontr+avecontr+mailord+mindate+maxdate+age 0.579441\n",
      "contrib ~ gapmos+promocontr+mincontrib+ncontrib+maxcontrib+lastcontr+avecontr+mailord+mindate+maxdate+age+gender 0.579313\n"
     ]
    }
   ],
   "source": [
    "s = 'contrib ~ '\n",
    "for c in df.columns[1:]:\n",
    "    s = s + c + '+'\n",
    "    #print(s[:-1])\n",
    "    y, X = dmatrices(s[:-1], \n",
    "                 data=df, return_type='dataframe')\n",
    "    mod = sm.OLS(y, X)    # Describe model\n",
    "\n",
    "    res = mod.fit()       # Fit model\n",
    "\n",
    "    print(s[:-1], round(res.rsquared_adj,6))\n"
   ]
  },
  {
   "cell_type": "code",
   "execution_count": 24,
   "metadata": {},
   "outputs": [
    {
     "name": "stdout",
     "output_type": "stream",
     "text": [
      "contrib ~ gapmos+promocontr+mincontrib+ncontrib+maxcontrib+lastcontr+avecontr+mailord+mindate+maxdate+age+gender 0.579313\n",
      "contrib ~ gapmos+promocontr+mincontrib+ncontrib+maxcontrib+lastcontr+avecontr+mailord+mindate+maxdate+age 0.579441\n",
      "contrib ~ gapmos+promocontr+mincontrib+ncontrib+maxcontrib+lastcontr+avecontr+mailord+mindate+maxdate 0.579489\n",
      "contrib ~ gapmos+promocontr+mincontrib+ncontrib+maxcontrib+lastcontr+avecontr+mailord+mindate 0.579291\n",
      "contrib ~ gapmos+promocontr+mincontrib+ncontrib+maxcontrib+lastcontr+avecontr+mailord 0.578906\n",
      "contrib ~ gapmos+promocontr+mincontrib+ncontrib+maxcontrib+lastcontr+avecontr 0.57884\n",
      "contrib ~ gapmos+promocontr+mincontrib+ncontrib+maxcontrib+lastcontr 0.568073\n",
      "contrib ~ gapmos+promocontr+mincontrib+ncontrib+maxcontrib 0.286906\n",
      "contrib ~ gapmos+promocontr+mincontrib+ncontrib 0.173595\n",
      "contrib ~ gapmos+promocontr+mincontrib 0.173676\n",
      "contrib ~ gapmos+promocontr 0.052988\n",
      "contrib ~ gapmos 0.012302\n"
     ]
    }
   ],
   "source": [
    "for i in range(len(mod_equations)-1, -1, -1):\n",
    "    s = s + c + '+'\n",
    "    #print(s[:-1])\n",
    "    y, X = dmatrices(mod_equations[i], \n",
    "                 data=df, return_type='dataframe')\n",
    "    mod = sm.OLS(y, X)    # Describe model\n",
    "\n",
    "    res = mod.fit()       # Fit model\n",
    "\n",
    "    print(mod_equations[i], round(res.rsquared_adj,6))"
   ]
  },
  {
   "cell_type": "code",
   "execution_count": 25,
   "metadata": {},
   "outputs": [],
   "source": [
    "y, X = dmatrices('contrib  ~ gapmos + promocontr + mincontrib + ncontrib + \\\n",
    "                 maxcontrib + lastcontr + avecontr + mailord + mindate + maxdate +age + gender', \n",
    "                 data=df, return_type='dataframe')"
   ]
  },
  {
   "cell_type": "code",
   "execution_count": 26,
   "metadata": {},
   "outputs": [
    {
     "name": "stdout",
     "output_type": "stream",
     "text": [
      "gender[T.M]*gender[T.U]\n",
      "gender[T.M]*gapmos\n",
      "gender[T.M]*promocontr\n",
      "gender[T.M]*mincontrib\n",
      "gender[T.M]*ncontrib\n",
      "gender[T.M]*maxcontrib\n",
      "gender[T.M]*lastcontr\n",
      "gender[T.M]*avecontr\n",
      "gender[T.M]*mailord\n",
      "gender[T.M]*mindate\n",
      "gender[T.M]*maxdate\n",
      "gender[T.M]*age\n",
      "gender[T.U]*gapmos\n",
      "gender[T.U]*promocontr\n",
      "gender[T.U]*mincontrib\n",
      "gender[T.U]*ncontrib\n",
      "gender[T.U]*maxcontrib\n",
      "gender[T.U]*lastcontr\n",
      "gender[T.U]*avecontr\n",
      "gender[T.U]*mailord\n",
      "gender[T.U]*mindate\n",
      "gender[T.U]*maxdate\n",
      "gender[T.U]*age\n",
      "gapmos*promocontr\n",
      "gapmos*mincontrib\n",
      "gapmos*ncontrib\n",
      "gapmos*maxcontrib\n",
      "gapmos*lastcontr\n",
      "gapmos*avecontr\n",
      "gapmos*mailord\n",
      "gapmos*mindate\n",
      "gapmos*maxdate\n",
      "gapmos*age\n",
      "promocontr*mincontrib\n",
      "promocontr*ncontrib\n",
      "promocontr*maxcontrib\n",
      "promocontr*lastcontr\n",
      "promocontr*avecontr\n",
      "promocontr*mailord\n",
      "promocontr*mindate\n",
      "promocontr*maxdate\n",
      "promocontr*age\n",
      "mincontrib*ncontrib\n",
      "mincontrib*maxcontrib\n",
      "mincontrib*lastcontr\n",
      "mincontrib*avecontr\n",
      "mincontrib*mailord\n",
      "mincontrib*mindate\n",
      "mincontrib*maxdate\n",
      "mincontrib*age\n",
      "ncontrib*maxcontrib\n",
      "ncontrib*lastcontr\n",
      "ncontrib*avecontr\n",
      "ncontrib*mailord\n",
      "ncontrib*mindate\n",
      "ncontrib*maxdate\n",
      "ncontrib*age\n",
      "maxcontrib*lastcontr\n",
      "maxcontrib*avecontr\n",
      "maxcontrib*mailord\n",
      "maxcontrib*mindate\n",
      "maxcontrib*maxdate\n",
      "maxcontrib*age\n",
      "lastcontr*avecontr\n",
      "lastcontr*mailord\n",
      "lastcontr*mindate\n",
      "lastcontr*maxdate\n",
      "lastcontr*age\n",
      "avecontr*mailord\n",
      "avecontr*mindate\n",
      "avecontr*maxdate\n",
      "avecontr*age\n",
      "mailord*mindate\n",
      "mailord*maxdate\n",
      "mailord*age\n",
      "mindate*maxdate\n",
      "mindate*age\n",
      "maxdate*age\n"
     ]
    }
   ],
   "source": [
    "i = 1\n",
    "y, X = dmatrices('contrib  ~ gapmos + promocontr + mincontrib + ncontrib + \\\n",
    "                 maxcontrib + lastcontr + avecontr + mailord + mindate + maxdate +age + gender', \n",
    "                 data=df, return_type='dataframe')\n",
    "X_new = X.copy()\n",
    "for c1 in X.columns[1:]:\n",
    "    for c2 in X.columns[i+1:]:\n",
    "        s = c1 + '*' + c2\n",
    "        print(c1 + '*' + c2)\n",
    "        X_new[s] = X[c1]*X[c2]\n",
    "    i = i + 1"
   ]
  },
  {
   "cell_type": "code",
   "execution_count": 27,
   "metadata": {},
   "outputs": [
    {
     "data": {
      "text/html": [
       "<div>\n",
       "<style scoped>\n",
       "    .dataframe tbody tr th:only-of-type {\n",
       "        vertical-align: middle;\n",
       "    }\n",
       "\n",
       "    .dataframe tbody tr th {\n",
       "        vertical-align: top;\n",
       "    }\n",
       "\n",
       "    .dataframe thead th {\n",
       "        text-align: right;\n",
       "    }\n",
       "</style>\n",
       "<table border=\"1\" class=\"dataframe\">\n",
       "  <thead>\n",
       "    <tr style=\"text-align: right;\">\n",
       "      <th></th>\n",
       "      <th>Intercept</th>\n",
       "      <th>gender[T.M]</th>\n",
       "      <th>gender[T.U]</th>\n",
       "      <th>gapmos</th>\n",
       "      <th>promocontr</th>\n",
       "      <th>mincontrib</th>\n",
       "      <th>ncontrib</th>\n",
       "      <th>maxcontrib</th>\n",
       "      <th>lastcontr</th>\n",
       "      <th>avecontr</th>\n",
       "      <th>...</th>\n",
       "      <th>avecontr*mailord</th>\n",
       "      <th>avecontr*mindate</th>\n",
       "      <th>avecontr*maxdate</th>\n",
       "      <th>avecontr*age</th>\n",
       "      <th>mailord*mindate</th>\n",
       "      <th>mailord*maxdate</th>\n",
       "      <th>mailord*age</th>\n",
       "      <th>mindate*maxdate</th>\n",
       "      <th>mindate*age</th>\n",
       "      <th>maxdate*age</th>\n",
       "    </tr>\n",
       "  </thead>\n",
       "  <tbody>\n",
       "    <tr>\n",
       "      <th>0</th>\n",
       "      <td>1.0</td>\n",
       "      <td>0.0</td>\n",
       "      <td>0.0</td>\n",
       "      <td>12.0</td>\n",
       "      <td>10.0</td>\n",
       "      <td>2.0</td>\n",
       "      <td>15.0</td>\n",
       "      <td>7.0</td>\n",
       "      <td>5.0</td>\n",
       "      <td>4.066667</td>\n",
       "      <td>...</td>\n",
       "      <td>40.666667</td>\n",
       "      <td>35790.733336</td>\n",
       "      <td>38242.933336</td>\n",
       "      <td>252.133333</td>\n",
       "      <td>88010.0</td>\n",
       "      <td>94040.0</td>\n",
       "      <td>620.0</td>\n",
       "      <td>82764604.0</td>\n",
       "      <td>545662.0</td>\n",
       "      <td>583048.0</td>\n",
       "    </tr>\n",
       "    <tr>\n",
       "      <th>1</th>\n",
       "      <td>1.0</td>\n",
       "      <td>0.0</td>\n",
       "      <td>0.0</td>\n",
       "      <td>3.0</td>\n",
       "      <td>14.0</td>\n",
       "      <td>3.0</td>\n",
       "      <td>21.0</td>\n",
       "      <td>6.0</td>\n",
       "      <td>5.0</td>\n",
       "      <td>4.857143</td>\n",
       "      <td>...</td>\n",
       "      <td>24.285714</td>\n",
       "      <td>45229.714284</td>\n",
       "      <td>45676.571427</td>\n",
       "      <td>320.571429</td>\n",
       "      <td>46560.0</td>\n",
       "      <td>47020.0</td>\n",
       "      <td>330.0</td>\n",
       "      <td>87570048.0</td>\n",
       "      <td>614592.0</td>\n",
       "      <td>620664.0</td>\n",
       "    </tr>\n",
       "    <tr>\n",
       "      <th>2</th>\n",
       "      <td>1.0</td>\n",
       "      <td>0.0</td>\n",
       "      <td>0.0</td>\n",
       "      <td>21.0</td>\n",
       "      <td>5.0</td>\n",
       "      <td>5.0</td>\n",
       "      <td>12.0</td>\n",
       "      <td>17.0</td>\n",
       "      <td>10.0</td>\n",
       "      <td>11.000000</td>\n",
       "      <td>...</td>\n",
       "      <td>0.000000</td>\n",
       "      <td>99011.000000</td>\n",
       "      <td>104533.000000</td>\n",
       "      <td>759.000000</td>\n",
       "      <td>0.0</td>\n",
       "      <td>0.0</td>\n",
       "      <td>0.0</td>\n",
       "      <td>85536503.0</td>\n",
       "      <td>621069.0</td>\n",
       "      <td>655707.0</td>\n",
       "    </tr>\n",
       "    <tr>\n",
       "      <th>3</th>\n",
       "      <td>1.0</td>\n",
       "      <td>1.0</td>\n",
       "      <td>0.0</td>\n",
       "      <td>6.0</td>\n",
       "      <td>8.0</td>\n",
       "      <td>5.0</td>\n",
       "      <td>10.0</td>\n",
       "      <td>12.0</td>\n",
       "      <td>12.0</td>\n",
       "      <td>9.400000</td>\n",
       "      <td>...</td>\n",
       "      <td>94.000000</td>\n",
       "      <td>86564.600000</td>\n",
       "      <td>89384.600000</td>\n",
       "      <td>686.200000</td>\n",
       "      <td>92090.0</td>\n",
       "      <td>95090.0</td>\n",
       "      <td>730.0</td>\n",
       "      <td>87568381.0</td>\n",
       "      <td>672257.0</td>\n",
       "      <td>694157.0</td>\n",
       "    </tr>\n",
       "    <tr>\n",
       "      <th>4</th>\n",
       "      <td>1.0</td>\n",
       "      <td>0.0</td>\n",
       "      <td>0.0</td>\n",
       "      <td>7.0</td>\n",
       "      <td>2.0</td>\n",
       "      <td>10.0</td>\n",
       "      <td>3.0</td>\n",
       "      <td>15.0</td>\n",
       "      <td>10.0</td>\n",
       "      <td>11.666667</td>\n",
       "      <td>...</td>\n",
       "      <td>0.000000</td>\n",
       "      <td>110961.666698</td>\n",
       "      <td>110926.666698</td>\n",
       "      <td>676.666667</td>\n",
       "      <td>0.0</td>\n",
       "      <td>0.0</td>\n",
       "      <td>0.0</td>\n",
       "      <td>90430588.0</td>\n",
       "      <td>551638.0</td>\n",
       "      <td>551464.0</td>\n",
       "    </tr>\n",
       "  </tbody>\n",
       "</table>\n",
       "<p>5 rows × 92 columns</p>\n",
       "</div>"
      ],
      "text/plain": [
       "   Intercept  gender[T.M]  gender[T.U]  gapmos  promocontr  mincontrib  \\\n",
       "0        1.0          0.0          0.0    12.0        10.0         2.0   \n",
       "1        1.0          0.0          0.0     3.0        14.0         3.0   \n",
       "2        1.0          0.0          0.0    21.0         5.0         5.0   \n",
       "3        1.0          1.0          0.0     6.0         8.0         5.0   \n",
       "4        1.0          0.0          0.0     7.0         2.0        10.0   \n",
       "\n",
       "   ncontrib  maxcontrib  lastcontr   avecontr  ...  avecontr*mailord  \\\n",
       "0      15.0         7.0        5.0   4.066667  ...         40.666667   \n",
       "1      21.0         6.0        5.0   4.857143  ...         24.285714   \n",
       "2      12.0        17.0       10.0  11.000000  ...          0.000000   \n",
       "3      10.0        12.0       12.0   9.400000  ...         94.000000   \n",
       "4       3.0        15.0       10.0  11.666667  ...          0.000000   \n",
       "\n",
       "   avecontr*mindate  avecontr*maxdate  avecontr*age  mailord*mindate  \\\n",
       "0      35790.733336      38242.933336    252.133333          88010.0   \n",
       "1      45229.714284      45676.571427    320.571429          46560.0   \n",
       "2      99011.000000     104533.000000    759.000000              0.0   \n",
       "3      86564.600000      89384.600000    686.200000          92090.0   \n",
       "4     110961.666698     110926.666698    676.666667              0.0   \n",
       "\n",
       "   mailord*maxdate  mailord*age  mindate*maxdate  mindate*age  maxdate*age  \n",
       "0          94040.0        620.0       82764604.0     545662.0     583048.0  \n",
       "1          47020.0        330.0       87570048.0     614592.0     620664.0  \n",
       "2              0.0          0.0       85536503.0     621069.0     655707.0  \n",
       "3          95090.0        730.0       87568381.0     672257.0     694157.0  \n",
       "4              0.0          0.0       90430588.0     551638.0     551464.0  \n",
       "\n",
       "[5 rows x 92 columns]"
      ]
     },
     "execution_count": 27,
     "metadata": {},
     "output_type": "execute_result"
    }
   ],
   "source": [
    "X_new.head()"
   ]
  },
  {
   "cell_type": "code",
   "execution_count": 28,
   "metadata": {},
   "outputs": [
    {
     "data": {
      "text/plain": [
       "92"
      ]
     },
     "execution_count": 28,
     "metadata": {},
     "output_type": "execute_result"
    }
   ],
   "source": [
    "len(X_new.columns)"
   ]
  },
  {
   "cell_type": "code",
   "execution_count": 29,
   "metadata": {},
   "outputs": [
    {
     "data": {
      "text/plain": [
       "Index(['Intercept', 'gender[T.M]', 'gender[T.U]', 'gapmos', 'promocontr',\n",
       "       'mincontrib', 'ncontrib', 'maxcontrib', 'lastcontr', 'avecontr',\n",
       "       'mailord', 'mindate', 'maxdate', 'age', 'gender[T.M]*gender[T.U]',\n",
       "       'gender[T.M]*gapmos', 'gender[T.M]*promocontr',\n",
       "       'gender[T.M]*mincontrib', 'gender[T.M]*ncontrib',\n",
       "       'gender[T.M]*maxcontrib', 'gender[T.M]*lastcontr',\n",
       "       'gender[T.M]*avecontr', 'gender[T.M]*mailord', 'gender[T.M]*mindate',\n",
       "       'gender[T.M]*maxdate', 'gender[T.M]*age', 'gender[T.U]*gapmos',\n",
       "       'gender[T.U]*promocontr', 'gender[T.U]*mincontrib',\n",
       "       'gender[T.U]*ncontrib', 'gender[T.U]*maxcontrib',\n",
       "       'gender[T.U]*lastcontr', 'gender[T.U]*avecontr', 'gender[T.U]*mailord',\n",
       "       'gender[T.U]*mindate', 'gender[T.U]*maxdate', 'gender[T.U]*age',\n",
       "       'gapmos*promocontr', 'gapmos*mincontrib', 'gapmos*ncontrib',\n",
       "       'gapmos*maxcontrib', 'gapmos*lastcontr', 'gapmos*avecontr',\n",
       "       'gapmos*mailord', 'gapmos*mindate', 'gapmos*maxdate', 'gapmos*age',\n",
       "       'promocontr*mincontrib', 'promocontr*ncontrib', 'promocontr*maxcontrib',\n",
       "       'promocontr*lastcontr', 'promocontr*avecontr', 'promocontr*mailord',\n",
       "       'promocontr*mindate', 'promocontr*maxdate', 'promocontr*age',\n",
       "       'mincontrib*ncontrib', 'mincontrib*maxcontrib', 'mincontrib*lastcontr',\n",
       "       'mincontrib*avecontr', 'mincontrib*mailord', 'mincontrib*mindate',\n",
       "       'mincontrib*maxdate', 'mincontrib*age', 'ncontrib*maxcontrib',\n",
       "       'ncontrib*lastcontr', 'ncontrib*avecontr', 'ncontrib*mailord',\n",
       "       'ncontrib*mindate', 'ncontrib*maxdate', 'ncontrib*age',\n",
       "       'maxcontrib*lastcontr', 'maxcontrib*avecontr', 'maxcontrib*mailord',\n",
       "       'maxcontrib*mindate', 'maxcontrib*maxdate', 'maxcontrib*age',\n",
       "       'lastcontr*avecontr', 'lastcontr*mailord', 'lastcontr*mindate',\n",
       "       'lastcontr*maxdate', 'lastcontr*age', 'avecontr*mailord',\n",
       "       'avecontr*mindate', 'avecontr*maxdate', 'avecontr*age',\n",
       "       'mailord*mindate', 'mailord*maxdate', 'mailord*age', 'mindate*maxdate',\n",
       "       'mindate*age', 'maxdate*age'],\n",
       "      dtype='object')"
      ]
     },
     "execution_count": 29,
     "metadata": {},
     "output_type": "execute_result"
    }
   ],
   "source": [
    "X_new.columns"
   ]
  },
  {
   "cell_type": "code",
   "execution_count": 30,
   "metadata": {},
   "outputs": [
    {
     "name": "stdout",
     "output_type": "stream",
     "text": [
      "contrib ~ gender_TM_ 0.000786\n",
      "contrib ~ gender_TM_+gender_TU_ 0.001403\n",
      "contrib ~ gender_TM_+gender_TU_+gapmos 0.013615\n",
      "contrib ~ gender_TM_+gender_TU_+gapmos+promocontr 0.054635\n",
      "contrib ~ gender_TM_+gender_TU_+gapmos+promocontr+mincontrib 0.173873\n",
      "contrib ~ gender_TM_+gender_TU_+gapmos+promocontr+mincontrib+ncontrib 0.173771\n",
      "contrib ~ gender_TM_+gender_TU_+gapmos+promocontr+mincontrib+ncontrib+maxcontrib 0.287033\n",
      "contrib ~ gender_TM_+gender_TU_+gapmos+promocontr+mincontrib+ncontrib+maxcontrib+lastcontr 0.567919\n",
      "contrib ~ gender_TM_+gender_TU_+gapmos+promocontr+mincontrib+ncontrib+maxcontrib+lastcontr+avecontr 0.578697\n",
      "contrib ~ gender_TM_+gender_TU_+gapmos+promocontr+mincontrib+ncontrib+maxcontrib+lastcontr+avecontr+mailord 0.578777\n",
      "contrib ~ gender_TM_+gender_TU_+gapmos+promocontr+mincontrib+ncontrib+maxcontrib+lastcontr+avecontr+mailord+mindate 0.579159\n",
      "contrib ~ gender_TM_+gender_TU_+gapmos+promocontr+mincontrib+ncontrib+maxcontrib+lastcontr+avecontr+mailord+mindate+maxdate 0.57936\n",
      "contrib ~ gender_TM_+gender_TU_+gapmos+promocontr+mincontrib+ncontrib+maxcontrib+lastcontr+avecontr+mailord+mindate+maxdate+age 0.579313\n",
      "contrib ~ gender_TM_+gender_TU_+gapmos+promocontr+mincontrib+ncontrib+maxcontrib+lastcontr+avecontr+mailord+mindate+maxdate+age+gender_TM_*gender_TU_ 0.579313\n",
      "contrib ~ gender_TM_+gender_TU_+gapmos+promocontr+mincontrib+ncontrib+maxcontrib+lastcontr+avecontr+mailord+mindate+maxdate+age+gender_TM_*gender_TU_+gender_TM_*gapmos 0.57946\n",
      "contrib ~ gender_TM_+gender_TU_+gapmos+promocontr+mincontrib+ncontrib+maxcontrib+lastcontr+avecontr+mailord+mindate+maxdate+age+gender_TM_*gender_TU_+gender_TM_*gapmos+gender_TM_*promocontr 0.579432\n",
      "contrib ~ gender_TM_+gender_TU_+gapmos+promocontr+mincontrib+ncontrib+maxcontrib+lastcontr+avecontr+mailord+mindate+maxdate+age+gender_TM_*gender_TU_+gender_TM_*gapmos+gender_TM_*promocontr+gender_TM_*mincontrib 0.581235\n",
      "contrib ~ gender_TM_+gender_TU_+gapmos+promocontr+mincontrib+ncontrib+maxcontrib+lastcontr+avecontr+mailord+mindate+maxdate+age+gender_TM_*gender_TU_+gender_TM_*gapmos+gender_TM_*promocontr+gender_TM_*mincontrib+gender_TM_*ncontrib 0.581141\n",
      "contrib ~ gender_TM_+gender_TU_+gapmos+promocontr+mincontrib+ncontrib+maxcontrib+lastcontr+avecontr+mailord+mindate+maxdate+age+gender_TM_*gender_TU_+gender_TM_*gapmos+gender_TM_*promocontr+gender_TM_*mincontrib+gender_TM_*ncontrib+gender_TM_*maxcontrib 0.583508\n",
      "contrib ~ gender_TM_+gender_TU_+gapmos+promocontr+mincontrib+ncontrib+maxcontrib+lastcontr+avecontr+mailord+mindate+maxdate+age+gender_TM_*gender_TU_+gender_TM_*gapmos+gender_TM_*promocontr+gender_TM_*mincontrib+gender_TM_*ncontrib+gender_TM_*maxcontrib+gender_TM_*lastcontr 0.583417\n",
      "contrib ~ gender_TM_+gender_TU_+gapmos+promocontr+mincontrib+ncontrib+maxcontrib+lastcontr+avecontr+mailord+mindate+maxdate+age+gender_TM_*gender_TU_+gender_TM_*gapmos+gender_TM_*promocontr+gender_TM_*mincontrib+gender_TM_*ncontrib+gender_TM_*maxcontrib+gender_TM_*lastcontr+gender_TM_*avecontr 0.583417\n",
      "contrib ~ gender_TM_+gender_TU_+gapmos+promocontr+mincontrib+ncontrib+maxcontrib+lastcontr+avecontr+mailord+mindate+maxdate+age+gender_TM_*gender_TU_+gender_TM_*gapmos+gender_TM_*promocontr+gender_TM_*mincontrib+gender_TM_*ncontrib+gender_TM_*maxcontrib+gender_TM_*lastcontr+gender_TM_*avecontr+gender_TM_*mailord 0.583534\n",
      "contrib ~ gender_TM_+gender_TU_+gapmos+promocontr+mincontrib+ncontrib+maxcontrib+lastcontr+avecontr+mailord+mindate+maxdate+age+gender_TM_*gender_TU_+gender_TM_*gapmos+gender_TM_*promocontr+gender_TM_*mincontrib+gender_TM_*ncontrib+gender_TM_*maxcontrib+gender_TM_*lastcontr+gender_TM_*avecontr+gender_TM_*mailord+gender_TM_*mindate 0.58344\n",
      "contrib ~ gender_TM_+gender_TU_+gapmos+promocontr+mincontrib+ncontrib+maxcontrib+lastcontr+avecontr+mailord+mindate+maxdate+age+gender_TM_*gender_TU_+gender_TM_*gapmos+gender_TM_*promocontr+gender_TM_*mincontrib+gender_TM_*ncontrib+gender_TM_*maxcontrib+gender_TM_*lastcontr+gender_TM_*avecontr+gender_TM_*mailord+gender_TM_*mindate+gender_TM_*maxdate 0.58336\n",
      "contrib ~ gender_TM_+gender_TU_+gapmos+promocontr+mincontrib+ncontrib+maxcontrib+lastcontr+avecontr+mailord+mindate+maxdate+age+gender_TM_*gender_TU_+gender_TM_*gapmos+gender_TM_*promocontr+gender_TM_*mincontrib+gender_TM_*ncontrib+gender_TM_*maxcontrib+gender_TM_*lastcontr+gender_TM_*avecontr+gender_TM_*mailord+gender_TM_*mindate+gender_TM_*maxdate+gender_TM_*age 0.583243\n",
      "contrib ~ gender_TM_+gender_TU_+gapmos+promocontr+mincontrib+ncontrib+maxcontrib+lastcontr+avecontr+mailord+mindate+maxdate+age+gender_TM_*gender_TU_+gender_TM_*gapmos+gender_TM_*promocontr+gender_TM_*mincontrib+gender_TM_*ncontrib+gender_TM_*maxcontrib+gender_TM_*lastcontr+gender_TM_*avecontr+gender_TM_*mailord+gender_TM_*mindate+gender_TM_*maxdate+gender_TM_*age+gender_TU_*gapmos 0.583161\n",
      "contrib ~ gender_TM_+gender_TU_+gapmos+promocontr+mincontrib+ncontrib+maxcontrib+lastcontr+avecontr+mailord+mindate+maxdate+age+gender_TM_*gender_TU_+gender_TM_*gapmos+gender_TM_*promocontr+gender_TM_*mincontrib+gender_TM_*ncontrib+gender_TM_*maxcontrib+gender_TM_*lastcontr+gender_TM_*avecontr+gender_TM_*mailord+gender_TM_*mindate+gender_TM_*maxdate+gender_TM_*age+gender_TU_*gapmos+gender_TU_*promocontr 0.583108\n",
      "contrib ~ gender_TM_+gender_TU_+gapmos+promocontr+mincontrib+ncontrib+maxcontrib+lastcontr+avecontr+mailord+mindate+maxdate+age+gender_TM_*gender_TU_+gender_TM_*gapmos+gender_TM_*promocontr+gender_TM_*mincontrib+gender_TM_*ncontrib+gender_TM_*maxcontrib+gender_TM_*lastcontr+gender_TM_*avecontr+gender_TM_*mailord+gender_TM_*mindate+gender_TM_*maxdate+gender_TM_*age+gender_TU_*gapmos+gender_TU_*promocontr+gender_TU_*mincontrib 0.584804\n",
      "contrib ~ gender_TM_+gender_TU_+gapmos+promocontr+mincontrib+ncontrib+maxcontrib+lastcontr+avecontr+mailord+mindate+maxdate+age+gender_TM_*gender_TU_+gender_TM_*gapmos+gender_TM_*promocontr+gender_TM_*mincontrib+gender_TM_*ncontrib+gender_TM_*maxcontrib+gender_TM_*lastcontr+gender_TM_*avecontr+gender_TM_*mailord+gender_TM_*mindate+gender_TM_*maxdate+gender_TM_*age+gender_TU_*gapmos+gender_TU_*promocontr+gender_TU_*mincontrib+gender_TU_*ncontrib 0.58478\n",
      "contrib ~ gender_TM_+gender_TU_+gapmos+promocontr+mincontrib+ncontrib+maxcontrib+lastcontr+avecontr+mailord+mindate+maxdate+age+gender_TM_*gender_TU_+gender_TM_*gapmos+gender_TM_*promocontr+gender_TM_*mincontrib+gender_TM_*ncontrib+gender_TM_*maxcontrib+gender_TM_*lastcontr+gender_TM_*avecontr+gender_TM_*mailord+gender_TM_*mindate+gender_TM_*maxdate+gender_TM_*age+gender_TU_*gapmos+gender_TU_*promocontr+gender_TU_*mincontrib+gender_TU_*ncontrib+gender_TU_*maxcontrib 0.584708\n",
      "contrib ~ gender_TM_+gender_TU_+gapmos+promocontr+mincontrib+ncontrib+maxcontrib+lastcontr+avecontr+mailord+mindate+maxdate+age+gender_TM_*gender_TU_+gender_TM_*gapmos+gender_TM_*promocontr+gender_TM_*mincontrib+gender_TM_*ncontrib+gender_TM_*maxcontrib+gender_TM_*lastcontr+gender_TM_*avecontr+gender_TM_*mailord+gender_TM_*mindate+gender_TM_*maxdate+gender_TM_*age+gender_TU_*gapmos+gender_TU_*promocontr+gender_TU_*mincontrib+gender_TU_*ncontrib+gender_TU_*maxcontrib+gender_TU_*lastcontr 0.584844\n",
      "contrib ~ gender_TM_+gender_TU_+gapmos+promocontr+mincontrib+ncontrib+maxcontrib+lastcontr+avecontr+mailord+mindate+maxdate+age+gender_TM_*gender_TU_+gender_TM_*gapmos+gender_TM_*promocontr+gender_TM_*mincontrib+gender_TM_*ncontrib+gender_TM_*maxcontrib+gender_TM_*lastcontr+gender_TM_*avecontr+gender_TM_*mailord+gender_TM_*mindate+gender_TM_*maxdate+gender_TM_*age+gender_TU_*gapmos+gender_TU_*promocontr+gender_TU_*mincontrib+gender_TU_*ncontrib+gender_TU_*maxcontrib+gender_TU_*lastcontr+gender_TU_*avecontr 0.586697\n",
      "contrib ~ gender_TM_+gender_TU_+gapmos+promocontr+mincontrib+ncontrib+maxcontrib+lastcontr+avecontr+mailord+mindate+maxdate+age+gender_TM_*gender_TU_+gender_TM_*gapmos+gender_TM_*promocontr+gender_TM_*mincontrib+gender_TM_*ncontrib+gender_TM_*maxcontrib+gender_TM_*lastcontr+gender_TM_*avecontr+gender_TM_*mailord+gender_TM_*mindate+gender_TM_*maxdate+gender_TM_*age+gender_TU_*gapmos+gender_TU_*promocontr+gender_TU_*mincontrib+gender_TU_*ncontrib+gender_TU_*maxcontrib+gender_TU_*lastcontr+gender_TU_*avecontr+gender_TU_*mailord 0.586774\n",
      "contrib ~ gender_TM_+gender_TU_+gapmos+promocontr+mincontrib+ncontrib+maxcontrib+lastcontr+avecontr+mailord+mindate+maxdate+age+gender_TM_*gender_TU_+gender_TM_*gapmos+gender_TM_*promocontr+gender_TM_*mincontrib+gender_TM_*ncontrib+gender_TM_*maxcontrib+gender_TM_*lastcontr+gender_TM_*avecontr+gender_TM_*mailord+gender_TM_*mindate+gender_TM_*maxdate+gender_TM_*age+gender_TU_*gapmos+gender_TU_*promocontr+gender_TU_*mincontrib+gender_TU_*ncontrib+gender_TU_*maxcontrib+gender_TU_*lastcontr+gender_TU_*avecontr+gender_TU_*mailord+gender_TU_*mindate 0.586659\n",
      "contrib ~ gender_TM_+gender_TU_+gapmos+promocontr+mincontrib+ncontrib+maxcontrib+lastcontr+avecontr+mailord+mindate+maxdate+age+gender_TM_*gender_TU_+gender_TM_*gapmos+gender_TM_*promocontr+gender_TM_*mincontrib+gender_TM_*ncontrib+gender_TM_*maxcontrib+gender_TM_*lastcontr+gender_TM_*avecontr+gender_TM_*mailord+gender_TM_*mindate+gender_TM_*maxdate+gender_TM_*age+gender_TU_*gapmos+gender_TU_*promocontr+gender_TU_*mincontrib+gender_TU_*ncontrib+gender_TU_*maxcontrib+gender_TU_*lastcontr+gender_TU_*avecontr+gender_TU_*mailord+gender_TU_*mindate+gender_TU_*maxdate 0.586619\n",
      "contrib ~ gender_TM_+gender_TU_+gapmos+promocontr+mincontrib+ncontrib+maxcontrib+lastcontr+avecontr+mailord+mindate+maxdate+age+gender_TM_*gender_TU_+gender_TM_*gapmos+gender_TM_*promocontr+gender_TM_*mincontrib+gender_TM_*ncontrib+gender_TM_*maxcontrib+gender_TM_*lastcontr+gender_TM_*avecontr+gender_TM_*mailord+gender_TM_*mindate+gender_TM_*maxdate+gender_TM_*age+gender_TU_*gapmos+gender_TU_*promocontr+gender_TU_*mincontrib+gender_TU_*ncontrib+gender_TU_*maxcontrib+gender_TU_*lastcontr+gender_TU_*avecontr+gender_TU_*mailord+gender_TU_*mindate+gender_TU_*maxdate+gender_TU_*age 0.586884\n"
     ]
    },
    {
     "name": "stdout",
     "output_type": "stream",
     "text": [
      "contrib ~ gender_TM_+gender_TU_+gapmos+promocontr+mincontrib+ncontrib+maxcontrib+lastcontr+avecontr+mailord+mindate+maxdate+age+gender_TM_*gender_TU_+gender_TM_*gapmos+gender_TM_*promocontr+gender_TM_*mincontrib+gender_TM_*ncontrib+gender_TM_*maxcontrib+gender_TM_*lastcontr+gender_TM_*avecontr+gender_TM_*mailord+gender_TM_*mindate+gender_TM_*maxdate+gender_TM_*age+gender_TU_*gapmos+gender_TU_*promocontr+gender_TU_*mincontrib+gender_TU_*ncontrib+gender_TU_*maxcontrib+gender_TU_*lastcontr+gender_TU_*avecontr+gender_TU_*mailord+gender_TU_*mindate+gender_TU_*maxdate+gender_TU_*age+gapmos*promocontr 0.586797\n",
      "contrib ~ gender_TM_+gender_TU_+gapmos+promocontr+mincontrib+ncontrib+maxcontrib+lastcontr+avecontr+mailord+mindate+maxdate+age+gender_TM_*gender_TU_+gender_TM_*gapmos+gender_TM_*promocontr+gender_TM_*mincontrib+gender_TM_*ncontrib+gender_TM_*maxcontrib+gender_TM_*lastcontr+gender_TM_*avecontr+gender_TM_*mailord+gender_TM_*mindate+gender_TM_*maxdate+gender_TM_*age+gender_TU_*gapmos+gender_TU_*promocontr+gender_TU_*mincontrib+gender_TU_*ncontrib+gender_TU_*maxcontrib+gender_TU_*lastcontr+gender_TU_*avecontr+gender_TU_*mailord+gender_TU_*mindate+gender_TU_*maxdate+gender_TU_*age+gapmos*promocontr+gapmos*mincontrib 0.586732\n",
      "contrib ~ gender_TM_+gender_TU_+gapmos+promocontr+mincontrib+ncontrib+maxcontrib+lastcontr+avecontr+mailord+mindate+maxdate+age+gender_TM_*gender_TU_+gender_TM_*gapmos+gender_TM_*promocontr+gender_TM_*mincontrib+gender_TM_*ncontrib+gender_TM_*maxcontrib+gender_TM_*lastcontr+gender_TM_*avecontr+gender_TM_*mailord+gender_TM_*mindate+gender_TM_*maxdate+gender_TM_*age+gender_TU_*gapmos+gender_TU_*promocontr+gender_TU_*mincontrib+gender_TU_*ncontrib+gender_TU_*maxcontrib+gender_TU_*lastcontr+gender_TU_*avecontr+gender_TU_*mailord+gender_TU_*mindate+gender_TU_*maxdate+gender_TU_*age+gapmos*promocontr+gapmos*mincontrib+gapmos*ncontrib 0.58696\n",
      "contrib ~ gender_TM_+gender_TU_+gapmos+promocontr+mincontrib+ncontrib+maxcontrib+lastcontr+avecontr+mailord+mindate+maxdate+age+gender_TM_*gender_TU_+gender_TM_*gapmos+gender_TM_*promocontr+gender_TM_*mincontrib+gender_TM_*ncontrib+gender_TM_*maxcontrib+gender_TM_*lastcontr+gender_TM_*avecontr+gender_TM_*mailord+gender_TM_*mindate+gender_TM_*maxdate+gender_TM_*age+gender_TU_*gapmos+gender_TU_*promocontr+gender_TU_*mincontrib+gender_TU_*ncontrib+gender_TU_*maxcontrib+gender_TU_*lastcontr+gender_TU_*avecontr+gender_TU_*mailord+gender_TU_*mindate+gender_TU_*maxdate+gender_TU_*age+gapmos*promocontr+gapmos*mincontrib+gapmos*ncontrib+gapmos*maxcontrib 0.58733\n",
      "contrib ~ gender_TM_+gender_TU_+gapmos+promocontr+mincontrib+ncontrib+maxcontrib+lastcontr+avecontr+mailord+mindate+maxdate+age+gender_TM_*gender_TU_+gender_TM_*gapmos+gender_TM_*promocontr+gender_TM_*mincontrib+gender_TM_*ncontrib+gender_TM_*maxcontrib+gender_TM_*lastcontr+gender_TM_*avecontr+gender_TM_*mailord+gender_TM_*mindate+gender_TM_*maxdate+gender_TM_*age+gender_TU_*gapmos+gender_TU_*promocontr+gender_TU_*mincontrib+gender_TU_*ncontrib+gender_TU_*maxcontrib+gender_TU_*lastcontr+gender_TU_*avecontr+gender_TU_*mailord+gender_TU_*mindate+gender_TU_*maxdate+gender_TU_*age+gapmos*promocontr+gapmos*mincontrib+gapmos*ncontrib+gapmos*maxcontrib+gapmos*lastcontr 0.58772\n",
      "contrib ~ gender_TM_+gender_TU_+gapmos+promocontr+mincontrib+ncontrib+maxcontrib+lastcontr+avecontr+mailord+mindate+maxdate+age+gender_TM_*gender_TU_+gender_TM_*gapmos+gender_TM_*promocontr+gender_TM_*mincontrib+gender_TM_*ncontrib+gender_TM_*maxcontrib+gender_TM_*lastcontr+gender_TM_*avecontr+gender_TM_*mailord+gender_TM_*mindate+gender_TM_*maxdate+gender_TM_*age+gender_TU_*gapmos+gender_TU_*promocontr+gender_TU_*mincontrib+gender_TU_*ncontrib+gender_TU_*maxcontrib+gender_TU_*lastcontr+gender_TU_*avecontr+gender_TU_*mailord+gender_TU_*mindate+gender_TU_*maxdate+gender_TU_*age+gapmos*promocontr+gapmos*mincontrib+gapmos*ncontrib+gapmos*maxcontrib+gapmos*lastcontr+gapmos*avecontr 0.587615\n",
      "contrib ~ gender_TM_+gender_TU_+gapmos+promocontr+mincontrib+ncontrib+maxcontrib+lastcontr+avecontr+mailord+mindate+maxdate+age+gender_TM_*gender_TU_+gender_TM_*gapmos+gender_TM_*promocontr+gender_TM_*mincontrib+gender_TM_*ncontrib+gender_TM_*maxcontrib+gender_TM_*lastcontr+gender_TM_*avecontr+gender_TM_*mailord+gender_TM_*mindate+gender_TM_*maxdate+gender_TM_*age+gender_TU_*gapmos+gender_TU_*promocontr+gender_TU_*mincontrib+gender_TU_*ncontrib+gender_TU_*maxcontrib+gender_TU_*lastcontr+gender_TU_*avecontr+gender_TU_*mailord+gender_TU_*mindate+gender_TU_*maxdate+gender_TU_*age+gapmos*promocontr+gapmos*mincontrib+gapmos*ncontrib+gapmos*maxcontrib+gapmos*lastcontr+gapmos*avecontr+gapmos*mailord 0.587497\n",
      "contrib ~ gender_TM_+gender_TU_+gapmos+promocontr+mincontrib+ncontrib+maxcontrib+lastcontr+avecontr+mailord+mindate+maxdate+age+gender_TM_*gender_TU_+gender_TM_*gapmos+gender_TM_*promocontr+gender_TM_*mincontrib+gender_TM_*ncontrib+gender_TM_*maxcontrib+gender_TM_*lastcontr+gender_TM_*avecontr+gender_TM_*mailord+gender_TM_*mindate+gender_TM_*maxdate+gender_TM_*age+gender_TU_*gapmos+gender_TU_*promocontr+gender_TU_*mincontrib+gender_TU_*ncontrib+gender_TU_*maxcontrib+gender_TU_*lastcontr+gender_TU_*avecontr+gender_TU_*mailord+gender_TU_*mindate+gender_TU_*maxdate+gender_TU_*age+gapmos*promocontr+gapmos*mincontrib+gapmos*ncontrib+gapmos*maxcontrib+gapmos*lastcontr+gapmos*avecontr+gapmos*mailord+gapmos*mindate 0.587484\n",
      "contrib ~ gender_TM_+gender_TU_+gapmos+promocontr+mincontrib+ncontrib+maxcontrib+lastcontr+avecontr+mailord+mindate+maxdate+age+gender_TM_*gender_TU_+gender_TM_*gapmos+gender_TM_*promocontr+gender_TM_*mincontrib+gender_TM_*ncontrib+gender_TM_*maxcontrib+gender_TM_*lastcontr+gender_TM_*avecontr+gender_TM_*mailord+gender_TM_*mindate+gender_TM_*maxdate+gender_TM_*age+gender_TU_*gapmos+gender_TU_*promocontr+gender_TU_*mincontrib+gender_TU_*ncontrib+gender_TU_*maxcontrib+gender_TU_*lastcontr+gender_TU_*avecontr+gender_TU_*mailord+gender_TU_*mindate+gender_TU_*maxdate+gender_TU_*age+gapmos*promocontr+gapmos*mincontrib+gapmos*ncontrib+gapmos*maxcontrib+gapmos*lastcontr+gapmos*avecontr+gapmos*mailord+gapmos*mindate+gapmos*maxdate 0.587569\n",
      "contrib ~ gender_TM_+gender_TU_+gapmos+promocontr+mincontrib+ncontrib+maxcontrib+lastcontr+avecontr+mailord+mindate+maxdate+age+gender_TM_*gender_TU_+gender_TM_*gapmos+gender_TM_*promocontr+gender_TM_*mincontrib+gender_TM_*ncontrib+gender_TM_*maxcontrib+gender_TM_*lastcontr+gender_TM_*avecontr+gender_TM_*mailord+gender_TM_*mindate+gender_TM_*maxdate+gender_TM_*age+gender_TU_*gapmos+gender_TU_*promocontr+gender_TU_*mincontrib+gender_TU_*ncontrib+gender_TU_*maxcontrib+gender_TU_*lastcontr+gender_TU_*avecontr+gender_TU_*mailord+gender_TU_*mindate+gender_TU_*maxdate+gender_TU_*age+gapmos*promocontr+gapmos*mincontrib+gapmos*ncontrib+gapmos*maxcontrib+gapmos*lastcontr+gapmos*avecontr+gapmos*mailord+gapmos*mindate+gapmos*maxdate+gapmos*age 0.587455\n",
      "contrib ~ gender_TM_+gender_TU_+gapmos+promocontr+mincontrib+ncontrib+maxcontrib+lastcontr+avecontr+mailord+mindate+maxdate+age+gender_TM_*gender_TU_+gender_TM_*gapmos+gender_TM_*promocontr+gender_TM_*mincontrib+gender_TM_*ncontrib+gender_TM_*maxcontrib+gender_TM_*lastcontr+gender_TM_*avecontr+gender_TM_*mailord+gender_TM_*mindate+gender_TM_*maxdate+gender_TM_*age+gender_TU_*gapmos+gender_TU_*promocontr+gender_TU_*mincontrib+gender_TU_*ncontrib+gender_TU_*maxcontrib+gender_TU_*lastcontr+gender_TU_*avecontr+gender_TU_*mailord+gender_TU_*mindate+gender_TU_*maxdate+gender_TU_*age+gapmos*promocontr+gapmos*mincontrib+gapmos*ncontrib+gapmos*maxcontrib+gapmos*lastcontr+gapmos*avecontr+gapmos*mailord+gapmos*mindate+gapmos*maxdate+gapmos*age+promocontr*mincontrib 0.587973\n",
      "contrib ~ gender_TM_+gender_TU_+gapmos+promocontr+mincontrib+ncontrib+maxcontrib+lastcontr+avecontr+mailord+mindate+maxdate+age+gender_TM_*gender_TU_+gender_TM_*gapmos+gender_TM_*promocontr+gender_TM_*mincontrib+gender_TM_*ncontrib+gender_TM_*maxcontrib+gender_TM_*lastcontr+gender_TM_*avecontr+gender_TM_*mailord+gender_TM_*mindate+gender_TM_*maxdate+gender_TM_*age+gender_TU_*gapmos+gender_TU_*promocontr+gender_TU_*mincontrib+gender_TU_*ncontrib+gender_TU_*maxcontrib+gender_TU_*lastcontr+gender_TU_*avecontr+gender_TU_*mailord+gender_TU_*mindate+gender_TU_*maxdate+gender_TU_*age+gapmos*promocontr+gapmos*mincontrib+gapmos*ncontrib+gapmos*maxcontrib+gapmos*lastcontr+gapmos*avecontr+gapmos*mailord+gapmos*mindate+gapmos*maxdate+gapmos*age+promocontr*mincontrib+promocontr*ncontrib 0.588594\n",
      "contrib ~ gender_TM_+gender_TU_+gapmos+promocontr+mincontrib+ncontrib+maxcontrib+lastcontr+avecontr+mailord+mindate+maxdate+age+gender_TM_*gender_TU_+gender_TM_*gapmos+gender_TM_*promocontr+gender_TM_*mincontrib+gender_TM_*ncontrib+gender_TM_*maxcontrib+gender_TM_*lastcontr+gender_TM_*avecontr+gender_TM_*mailord+gender_TM_*mindate+gender_TM_*maxdate+gender_TM_*age+gender_TU_*gapmos+gender_TU_*promocontr+gender_TU_*mincontrib+gender_TU_*ncontrib+gender_TU_*maxcontrib+gender_TU_*lastcontr+gender_TU_*avecontr+gender_TU_*mailord+gender_TU_*mindate+gender_TU_*maxdate+gender_TU_*age+gapmos*promocontr+gapmos*mincontrib+gapmos*ncontrib+gapmos*maxcontrib+gapmos*lastcontr+gapmos*avecontr+gapmos*mailord+gapmos*mindate+gapmos*maxdate+gapmos*age+promocontr*mincontrib+promocontr*ncontrib+promocontr*maxcontrib 0.588757\n"
     ]
    },
    {
     "name": "stdout",
     "output_type": "stream",
     "text": [
      "contrib ~ gender_TM_+gender_TU_+gapmos+promocontr+mincontrib+ncontrib+maxcontrib+lastcontr+avecontr+mailord+mindate+maxdate+age+gender_TM_*gender_TU_+gender_TM_*gapmos+gender_TM_*promocontr+gender_TM_*mincontrib+gender_TM_*ncontrib+gender_TM_*maxcontrib+gender_TM_*lastcontr+gender_TM_*avecontr+gender_TM_*mailord+gender_TM_*mindate+gender_TM_*maxdate+gender_TM_*age+gender_TU_*gapmos+gender_TU_*promocontr+gender_TU_*mincontrib+gender_TU_*ncontrib+gender_TU_*maxcontrib+gender_TU_*lastcontr+gender_TU_*avecontr+gender_TU_*mailord+gender_TU_*mindate+gender_TU_*maxdate+gender_TU_*age+gapmos*promocontr+gapmos*mincontrib+gapmos*ncontrib+gapmos*maxcontrib+gapmos*lastcontr+gapmos*avecontr+gapmos*mailord+gapmos*mindate+gapmos*maxdate+gapmos*age+promocontr*mincontrib+promocontr*ncontrib+promocontr*maxcontrib+promocontr*lastcontr 0.589979\n",
      "contrib ~ gender_TM_+gender_TU_+gapmos+promocontr+mincontrib+ncontrib+maxcontrib+lastcontr+avecontr+mailord+mindate+maxdate+age+gender_TM_*gender_TU_+gender_TM_*gapmos+gender_TM_*promocontr+gender_TM_*mincontrib+gender_TM_*ncontrib+gender_TM_*maxcontrib+gender_TM_*lastcontr+gender_TM_*avecontr+gender_TM_*mailord+gender_TM_*mindate+gender_TM_*maxdate+gender_TM_*age+gender_TU_*gapmos+gender_TU_*promocontr+gender_TU_*mincontrib+gender_TU_*ncontrib+gender_TU_*maxcontrib+gender_TU_*lastcontr+gender_TU_*avecontr+gender_TU_*mailord+gender_TU_*mindate+gender_TU_*maxdate+gender_TU_*age+gapmos*promocontr+gapmos*mincontrib+gapmos*ncontrib+gapmos*maxcontrib+gapmos*lastcontr+gapmos*avecontr+gapmos*mailord+gapmos*mindate+gapmos*maxdate+gapmos*age+promocontr*mincontrib+promocontr*ncontrib+promocontr*maxcontrib+promocontr*lastcontr+promocontr*avecontr 0.589889\n",
      "contrib ~ gender_TM_+gender_TU_+gapmos+promocontr+mincontrib+ncontrib+maxcontrib+lastcontr+avecontr+mailord+mindate+maxdate+age+gender_TM_*gender_TU_+gender_TM_*gapmos+gender_TM_*promocontr+gender_TM_*mincontrib+gender_TM_*ncontrib+gender_TM_*maxcontrib+gender_TM_*lastcontr+gender_TM_*avecontr+gender_TM_*mailord+gender_TM_*mindate+gender_TM_*maxdate+gender_TM_*age+gender_TU_*gapmos+gender_TU_*promocontr+gender_TU_*mincontrib+gender_TU_*ncontrib+gender_TU_*maxcontrib+gender_TU_*lastcontr+gender_TU_*avecontr+gender_TU_*mailord+gender_TU_*mindate+gender_TU_*maxdate+gender_TU_*age+gapmos*promocontr+gapmos*mincontrib+gapmos*ncontrib+gapmos*maxcontrib+gapmos*lastcontr+gapmos*avecontr+gapmos*mailord+gapmos*mindate+gapmos*maxdate+gapmos*age+promocontr*mincontrib+promocontr*ncontrib+promocontr*maxcontrib+promocontr*lastcontr+promocontr*avecontr+promocontr*mailord 0.590283\n",
      "contrib ~ gender_TM_+gender_TU_+gapmos+promocontr+mincontrib+ncontrib+maxcontrib+lastcontr+avecontr+mailord+mindate+maxdate+age+gender_TM_*gender_TU_+gender_TM_*gapmos+gender_TM_*promocontr+gender_TM_*mincontrib+gender_TM_*ncontrib+gender_TM_*maxcontrib+gender_TM_*lastcontr+gender_TM_*avecontr+gender_TM_*mailord+gender_TM_*mindate+gender_TM_*maxdate+gender_TM_*age+gender_TU_*gapmos+gender_TU_*promocontr+gender_TU_*mincontrib+gender_TU_*ncontrib+gender_TU_*maxcontrib+gender_TU_*lastcontr+gender_TU_*avecontr+gender_TU_*mailord+gender_TU_*mindate+gender_TU_*maxdate+gender_TU_*age+gapmos*promocontr+gapmos*mincontrib+gapmos*ncontrib+gapmos*maxcontrib+gapmos*lastcontr+gapmos*avecontr+gapmos*mailord+gapmos*mindate+gapmos*maxdate+gapmos*age+promocontr*mincontrib+promocontr*ncontrib+promocontr*maxcontrib+promocontr*lastcontr+promocontr*avecontr+promocontr*mailord+promocontr*mindate 0.590164\n",
      "contrib ~ gender_TM_+gender_TU_+gapmos+promocontr+mincontrib+ncontrib+maxcontrib+lastcontr+avecontr+mailord+mindate+maxdate+age+gender_TM_*gender_TU_+gender_TM_*gapmos+gender_TM_*promocontr+gender_TM_*mincontrib+gender_TM_*ncontrib+gender_TM_*maxcontrib+gender_TM_*lastcontr+gender_TM_*avecontr+gender_TM_*mailord+gender_TM_*mindate+gender_TM_*maxdate+gender_TM_*age+gender_TU_*gapmos+gender_TU_*promocontr+gender_TU_*mincontrib+gender_TU_*ncontrib+gender_TU_*maxcontrib+gender_TU_*lastcontr+gender_TU_*avecontr+gender_TU_*mailord+gender_TU_*mindate+gender_TU_*maxdate+gender_TU_*age+gapmos*promocontr+gapmos*mincontrib+gapmos*ncontrib+gapmos*maxcontrib+gapmos*lastcontr+gapmos*avecontr+gapmos*mailord+gapmos*mindate+gapmos*maxdate+gapmos*age+promocontr*mincontrib+promocontr*ncontrib+promocontr*maxcontrib+promocontr*lastcontr+promocontr*avecontr+promocontr*mailord+promocontr*mindate+promocontr*maxdate 0.590102\n",
      "contrib ~ gender_TM_+gender_TU_+gapmos+promocontr+mincontrib+ncontrib+maxcontrib+lastcontr+avecontr+mailord+mindate+maxdate+age+gender_TM_*gender_TU_+gender_TM_*gapmos+gender_TM_*promocontr+gender_TM_*mincontrib+gender_TM_*ncontrib+gender_TM_*maxcontrib+gender_TM_*lastcontr+gender_TM_*avecontr+gender_TM_*mailord+gender_TM_*mindate+gender_TM_*maxdate+gender_TM_*age+gender_TU_*gapmos+gender_TU_*promocontr+gender_TU_*mincontrib+gender_TU_*ncontrib+gender_TU_*maxcontrib+gender_TU_*lastcontr+gender_TU_*avecontr+gender_TU_*mailord+gender_TU_*mindate+gender_TU_*maxdate+gender_TU_*age+gapmos*promocontr+gapmos*mincontrib+gapmos*ncontrib+gapmos*maxcontrib+gapmos*lastcontr+gapmos*avecontr+gapmos*mailord+gapmos*mindate+gapmos*maxdate+gapmos*age+promocontr*mincontrib+promocontr*ncontrib+promocontr*maxcontrib+promocontr*lastcontr+promocontr*avecontr+promocontr*mailord+promocontr*mindate+promocontr*maxdate+promocontr*age 0.589983\n",
      "contrib ~ gender_TM_+gender_TU_+gapmos+promocontr+mincontrib+ncontrib+maxcontrib+lastcontr+avecontr+mailord+mindate+maxdate+age+gender_TM_*gender_TU_+gender_TM_*gapmos+gender_TM_*promocontr+gender_TM_*mincontrib+gender_TM_*ncontrib+gender_TM_*maxcontrib+gender_TM_*lastcontr+gender_TM_*avecontr+gender_TM_*mailord+gender_TM_*mindate+gender_TM_*maxdate+gender_TM_*age+gender_TU_*gapmos+gender_TU_*promocontr+gender_TU_*mincontrib+gender_TU_*ncontrib+gender_TU_*maxcontrib+gender_TU_*lastcontr+gender_TU_*avecontr+gender_TU_*mailord+gender_TU_*mindate+gender_TU_*maxdate+gender_TU_*age+gapmos*promocontr+gapmos*mincontrib+gapmos*ncontrib+gapmos*maxcontrib+gapmos*lastcontr+gapmos*avecontr+gapmos*mailord+gapmos*mindate+gapmos*maxdate+gapmos*age+promocontr*mincontrib+promocontr*ncontrib+promocontr*maxcontrib+promocontr*lastcontr+promocontr*avecontr+promocontr*mailord+promocontr*mindate+promocontr*maxdate+promocontr*age+mincontrib*ncontrib 0.589989\n",
      "contrib ~ gender_TM_+gender_TU_+gapmos+promocontr+mincontrib+ncontrib+maxcontrib+lastcontr+avecontr+mailord+mindate+maxdate+age+gender_TM_*gender_TU_+gender_TM_*gapmos+gender_TM_*promocontr+gender_TM_*mincontrib+gender_TM_*ncontrib+gender_TM_*maxcontrib+gender_TM_*lastcontr+gender_TM_*avecontr+gender_TM_*mailord+gender_TM_*mindate+gender_TM_*maxdate+gender_TM_*age+gender_TU_*gapmos+gender_TU_*promocontr+gender_TU_*mincontrib+gender_TU_*ncontrib+gender_TU_*maxcontrib+gender_TU_*lastcontr+gender_TU_*avecontr+gender_TU_*mailord+gender_TU_*mindate+gender_TU_*maxdate+gender_TU_*age+gapmos*promocontr+gapmos*mincontrib+gapmos*ncontrib+gapmos*maxcontrib+gapmos*lastcontr+gapmos*avecontr+gapmos*mailord+gapmos*mindate+gapmos*maxdate+gapmos*age+promocontr*mincontrib+promocontr*ncontrib+promocontr*maxcontrib+promocontr*lastcontr+promocontr*avecontr+promocontr*mailord+promocontr*mindate+promocontr*maxdate+promocontr*age+mincontrib*ncontrib+mincontrib*maxcontrib 0.59661\n",
      "contrib ~ gender_TM_+gender_TU_+gapmos+promocontr+mincontrib+ncontrib+maxcontrib+lastcontr+avecontr+mailord+mindate+maxdate+age+gender_TM_*gender_TU_+gender_TM_*gapmos+gender_TM_*promocontr+gender_TM_*mincontrib+gender_TM_*ncontrib+gender_TM_*maxcontrib+gender_TM_*lastcontr+gender_TM_*avecontr+gender_TM_*mailord+gender_TM_*mindate+gender_TM_*maxdate+gender_TM_*age+gender_TU_*gapmos+gender_TU_*promocontr+gender_TU_*mincontrib+gender_TU_*ncontrib+gender_TU_*maxcontrib+gender_TU_*lastcontr+gender_TU_*avecontr+gender_TU_*mailord+gender_TU_*mindate+gender_TU_*maxdate+gender_TU_*age+gapmos*promocontr+gapmos*mincontrib+gapmos*ncontrib+gapmos*maxcontrib+gapmos*lastcontr+gapmos*avecontr+gapmos*mailord+gapmos*mindate+gapmos*maxdate+gapmos*age+promocontr*mincontrib+promocontr*ncontrib+promocontr*maxcontrib+promocontr*lastcontr+promocontr*avecontr+promocontr*mailord+promocontr*mindate+promocontr*maxdate+promocontr*age+mincontrib*ncontrib+mincontrib*maxcontrib+mincontrib*lastcontr 0.596569\n",
      "contrib ~ gender_TM_+gender_TU_+gapmos+promocontr+mincontrib+ncontrib+maxcontrib+lastcontr+avecontr+mailord+mindate+maxdate+age+gender_TM_*gender_TU_+gender_TM_*gapmos+gender_TM_*promocontr+gender_TM_*mincontrib+gender_TM_*ncontrib+gender_TM_*maxcontrib+gender_TM_*lastcontr+gender_TM_*avecontr+gender_TM_*mailord+gender_TM_*mindate+gender_TM_*maxdate+gender_TM_*age+gender_TU_*gapmos+gender_TU_*promocontr+gender_TU_*mincontrib+gender_TU_*ncontrib+gender_TU_*maxcontrib+gender_TU_*lastcontr+gender_TU_*avecontr+gender_TU_*mailord+gender_TU_*mindate+gender_TU_*maxdate+gender_TU_*age+gapmos*promocontr+gapmos*mincontrib+gapmos*ncontrib+gapmos*maxcontrib+gapmos*lastcontr+gapmos*avecontr+gapmos*mailord+gapmos*mindate+gapmos*maxdate+gapmos*age+promocontr*mincontrib+promocontr*ncontrib+promocontr*maxcontrib+promocontr*lastcontr+promocontr*avecontr+promocontr*mailord+promocontr*mindate+promocontr*maxdate+promocontr*age+mincontrib*ncontrib+mincontrib*maxcontrib+mincontrib*lastcontr+mincontrib*avecontr 0.596495\n",
      "contrib ~ gender_TM_+gender_TU_+gapmos+promocontr+mincontrib+ncontrib+maxcontrib+lastcontr+avecontr+mailord+mindate+maxdate+age+gender_TM_*gender_TU_+gender_TM_*gapmos+gender_TM_*promocontr+gender_TM_*mincontrib+gender_TM_*ncontrib+gender_TM_*maxcontrib+gender_TM_*lastcontr+gender_TM_*avecontr+gender_TM_*mailord+gender_TM_*mindate+gender_TM_*maxdate+gender_TM_*age+gender_TU_*gapmos+gender_TU_*promocontr+gender_TU_*mincontrib+gender_TU_*ncontrib+gender_TU_*maxcontrib+gender_TU_*lastcontr+gender_TU_*avecontr+gender_TU_*mailord+gender_TU_*mindate+gender_TU_*maxdate+gender_TU_*age+gapmos*promocontr+gapmos*mincontrib+gapmos*ncontrib+gapmos*maxcontrib+gapmos*lastcontr+gapmos*avecontr+gapmos*mailord+gapmos*mindate+gapmos*maxdate+gapmos*age+promocontr*mincontrib+promocontr*ncontrib+promocontr*maxcontrib+promocontr*lastcontr+promocontr*avecontr+promocontr*mailord+promocontr*mindate+promocontr*maxdate+promocontr*age+mincontrib*ncontrib+mincontrib*maxcontrib+mincontrib*lastcontr+mincontrib*avecontr+mincontrib*mailord 0.596401\n"
     ]
    },
    {
     "name": "stdout",
     "output_type": "stream",
     "text": [
      "contrib ~ gender_TM_+gender_TU_+gapmos+promocontr+mincontrib+ncontrib+maxcontrib+lastcontr+avecontr+mailord+mindate+maxdate+age+gender_TM_*gender_TU_+gender_TM_*gapmos+gender_TM_*promocontr+gender_TM_*mincontrib+gender_TM_*ncontrib+gender_TM_*maxcontrib+gender_TM_*lastcontr+gender_TM_*avecontr+gender_TM_*mailord+gender_TM_*mindate+gender_TM_*maxdate+gender_TM_*age+gender_TU_*gapmos+gender_TU_*promocontr+gender_TU_*mincontrib+gender_TU_*ncontrib+gender_TU_*maxcontrib+gender_TU_*lastcontr+gender_TU_*avecontr+gender_TU_*mailord+gender_TU_*mindate+gender_TU_*maxdate+gender_TU_*age+gapmos*promocontr+gapmos*mincontrib+gapmos*ncontrib+gapmos*maxcontrib+gapmos*lastcontr+gapmos*avecontr+gapmos*mailord+gapmos*mindate+gapmos*maxdate+gapmos*age+promocontr*mincontrib+promocontr*ncontrib+promocontr*maxcontrib+promocontr*lastcontr+promocontr*avecontr+promocontr*mailord+promocontr*mindate+promocontr*maxdate+promocontr*age+mincontrib*ncontrib+mincontrib*maxcontrib+mincontrib*lastcontr+mincontrib*avecontr+mincontrib*mailord+mincontrib*mindate 0.59629\n",
      "contrib ~ gender_TM_+gender_TU_+gapmos+promocontr+mincontrib+ncontrib+maxcontrib+lastcontr+avecontr+mailord+mindate+maxdate+age+gender_TM_*gender_TU_+gender_TM_*gapmos+gender_TM_*promocontr+gender_TM_*mincontrib+gender_TM_*ncontrib+gender_TM_*maxcontrib+gender_TM_*lastcontr+gender_TM_*avecontr+gender_TM_*mailord+gender_TM_*mindate+gender_TM_*maxdate+gender_TM_*age+gender_TU_*gapmos+gender_TU_*promocontr+gender_TU_*mincontrib+gender_TU_*ncontrib+gender_TU_*maxcontrib+gender_TU_*lastcontr+gender_TU_*avecontr+gender_TU_*mailord+gender_TU_*mindate+gender_TU_*maxdate+gender_TU_*age+gapmos*promocontr+gapmos*mincontrib+gapmos*ncontrib+gapmos*maxcontrib+gapmos*lastcontr+gapmos*avecontr+gapmos*mailord+gapmos*mindate+gapmos*maxdate+gapmos*age+promocontr*mincontrib+promocontr*ncontrib+promocontr*maxcontrib+promocontr*lastcontr+promocontr*avecontr+promocontr*mailord+promocontr*mindate+promocontr*maxdate+promocontr*age+mincontrib*ncontrib+mincontrib*maxcontrib+mincontrib*lastcontr+mincontrib*avecontr+mincontrib*mailord+mincontrib*mindate+mincontrib*maxdate 0.596599\n",
      "contrib ~ gender_TM_+gender_TU_+gapmos+promocontr+mincontrib+ncontrib+maxcontrib+lastcontr+avecontr+mailord+mindate+maxdate+age+gender_TM_*gender_TU_+gender_TM_*gapmos+gender_TM_*promocontr+gender_TM_*mincontrib+gender_TM_*ncontrib+gender_TM_*maxcontrib+gender_TM_*lastcontr+gender_TM_*avecontr+gender_TM_*mailord+gender_TM_*mindate+gender_TM_*maxdate+gender_TM_*age+gender_TU_*gapmos+gender_TU_*promocontr+gender_TU_*mincontrib+gender_TU_*ncontrib+gender_TU_*maxcontrib+gender_TU_*lastcontr+gender_TU_*avecontr+gender_TU_*mailord+gender_TU_*mindate+gender_TU_*maxdate+gender_TU_*age+gapmos*promocontr+gapmos*mincontrib+gapmos*ncontrib+gapmos*maxcontrib+gapmos*lastcontr+gapmos*avecontr+gapmos*mailord+gapmos*mindate+gapmos*maxdate+gapmos*age+promocontr*mincontrib+promocontr*ncontrib+promocontr*maxcontrib+promocontr*lastcontr+promocontr*avecontr+promocontr*mailord+promocontr*mindate+promocontr*maxdate+promocontr*age+mincontrib*ncontrib+mincontrib*maxcontrib+mincontrib*lastcontr+mincontrib*avecontr+mincontrib*mailord+mincontrib*mindate+mincontrib*maxdate+mincontrib*age 0.596858\n",
      "contrib ~ gender_TM_+gender_TU_+gapmos+promocontr+mincontrib+ncontrib+maxcontrib+lastcontr+avecontr+mailord+mindate+maxdate+age+gender_TM_*gender_TU_+gender_TM_*gapmos+gender_TM_*promocontr+gender_TM_*mincontrib+gender_TM_*ncontrib+gender_TM_*maxcontrib+gender_TM_*lastcontr+gender_TM_*avecontr+gender_TM_*mailord+gender_TM_*mindate+gender_TM_*maxdate+gender_TM_*age+gender_TU_*gapmos+gender_TU_*promocontr+gender_TU_*mincontrib+gender_TU_*ncontrib+gender_TU_*maxcontrib+gender_TU_*lastcontr+gender_TU_*avecontr+gender_TU_*mailord+gender_TU_*mindate+gender_TU_*maxdate+gender_TU_*age+gapmos*promocontr+gapmos*mincontrib+gapmos*ncontrib+gapmos*maxcontrib+gapmos*lastcontr+gapmos*avecontr+gapmos*mailord+gapmos*mindate+gapmos*maxdate+gapmos*age+promocontr*mincontrib+promocontr*ncontrib+promocontr*maxcontrib+promocontr*lastcontr+promocontr*avecontr+promocontr*mailord+promocontr*mindate+promocontr*maxdate+promocontr*age+mincontrib*ncontrib+mincontrib*maxcontrib+mincontrib*lastcontr+mincontrib*avecontr+mincontrib*mailord+mincontrib*mindate+mincontrib*maxdate+mincontrib*age+ncontrib*maxcontrib 0.596802\n",
      "contrib ~ gender_TM_+gender_TU_+gapmos+promocontr+mincontrib+ncontrib+maxcontrib+lastcontr+avecontr+mailord+mindate+maxdate+age+gender_TM_*gender_TU_+gender_TM_*gapmos+gender_TM_*promocontr+gender_TM_*mincontrib+gender_TM_*ncontrib+gender_TM_*maxcontrib+gender_TM_*lastcontr+gender_TM_*avecontr+gender_TM_*mailord+gender_TM_*mindate+gender_TM_*maxdate+gender_TM_*age+gender_TU_*gapmos+gender_TU_*promocontr+gender_TU_*mincontrib+gender_TU_*ncontrib+gender_TU_*maxcontrib+gender_TU_*lastcontr+gender_TU_*avecontr+gender_TU_*mailord+gender_TU_*mindate+gender_TU_*maxdate+gender_TU_*age+gapmos*promocontr+gapmos*mincontrib+gapmos*ncontrib+gapmos*maxcontrib+gapmos*lastcontr+gapmos*avecontr+gapmos*mailord+gapmos*mindate+gapmos*maxdate+gapmos*age+promocontr*mincontrib+promocontr*ncontrib+promocontr*maxcontrib+promocontr*lastcontr+promocontr*avecontr+promocontr*mailord+promocontr*mindate+promocontr*maxdate+promocontr*age+mincontrib*ncontrib+mincontrib*maxcontrib+mincontrib*lastcontr+mincontrib*avecontr+mincontrib*mailord+mincontrib*mindate+mincontrib*maxdate+mincontrib*age+ncontrib*maxcontrib+ncontrib*lastcontr 0.59819\n",
      "contrib ~ gender_TM_+gender_TU_+gapmos+promocontr+mincontrib+ncontrib+maxcontrib+lastcontr+avecontr+mailord+mindate+maxdate+age+gender_TM_*gender_TU_+gender_TM_*gapmos+gender_TM_*promocontr+gender_TM_*mincontrib+gender_TM_*ncontrib+gender_TM_*maxcontrib+gender_TM_*lastcontr+gender_TM_*avecontr+gender_TM_*mailord+gender_TM_*mindate+gender_TM_*maxdate+gender_TM_*age+gender_TU_*gapmos+gender_TU_*promocontr+gender_TU_*mincontrib+gender_TU_*ncontrib+gender_TU_*maxcontrib+gender_TU_*lastcontr+gender_TU_*avecontr+gender_TU_*mailord+gender_TU_*mindate+gender_TU_*maxdate+gender_TU_*age+gapmos*promocontr+gapmos*mincontrib+gapmos*ncontrib+gapmos*maxcontrib+gapmos*lastcontr+gapmos*avecontr+gapmos*mailord+gapmos*mindate+gapmos*maxdate+gapmos*age+promocontr*mincontrib+promocontr*ncontrib+promocontr*maxcontrib+promocontr*lastcontr+promocontr*avecontr+promocontr*mailord+promocontr*mindate+promocontr*maxdate+promocontr*age+mincontrib*ncontrib+mincontrib*maxcontrib+mincontrib*lastcontr+mincontrib*avecontr+mincontrib*mailord+mincontrib*mindate+mincontrib*maxdate+mincontrib*age+ncontrib*maxcontrib+ncontrib*lastcontr+ncontrib*avecontr 0.599229\n",
      "contrib ~ gender_TM_+gender_TU_+gapmos+promocontr+mincontrib+ncontrib+maxcontrib+lastcontr+avecontr+mailord+mindate+maxdate+age+gender_TM_*gender_TU_+gender_TM_*gapmos+gender_TM_*promocontr+gender_TM_*mincontrib+gender_TM_*ncontrib+gender_TM_*maxcontrib+gender_TM_*lastcontr+gender_TM_*avecontr+gender_TM_*mailord+gender_TM_*mindate+gender_TM_*maxdate+gender_TM_*age+gender_TU_*gapmos+gender_TU_*promocontr+gender_TU_*mincontrib+gender_TU_*ncontrib+gender_TU_*maxcontrib+gender_TU_*lastcontr+gender_TU_*avecontr+gender_TU_*mailord+gender_TU_*mindate+gender_TU_*maxdate+gender_TU_*age+gapmos*promocontr+gapmos*mincontrib+gapmos*ncontrib+gapmos*maxcontrib+gapmos*lastcontr+gapmos*avecontr+gapmos*mailord+gapmos*mindate+gapmos*maxdate+gapmos*age+promocontr*mincontrib+promocontr*ncontrib+promocontr*maxcontrib+promocontr*lastcontr+promocontr*avecontr+promocontr*mailord+promocontr*mindate+promocontr*maxdate+promocontr*age+mincontrib*ncontrib+mincontrib*maxcontrib+mincontrib*lastcontr+mincontrib*avecontr+mincontrib*mailord+mincontrib*mindate+mincontrib*maxdate+mincontrib*age+ncontrib*maxcontrib+ncontrib*lastcontr+ncontrib*avecontr+ncontrib*mailord 0.599122\n",
      "contrib ~ gender_TM_+gender_TU_+gapmos+promocontr+mincontrib+ncontrib+maxcontrib+lastcontr+avecontr+mailord+mindate+maxdate+age+gender_TM_*gender_TU_+gender_TM_*gapmos+gender_TM_*promocontr+gender_TM_*mincontrib+gender_TM_*ncontrib+gender_TM_*maxcontrib+gender_TM_*lastcontr+gender_TM_*avecontr+gender_TM_*mailord+gender_TM_*mindate+gender_TM_*maxdate+gender_TM_*age+gender_TU_*gapmos+gender_TU_*promocontr+gender_TU_*mincontrib+gender_TU_*ncontrib+gender_TU_*maxcontrib+gender_TU_*lastcontr+gender_TU_*avecontr+gender_TU_*mailord+gender_TU_*mindate+gender_TU_*maxdate+gender_TU_*age+gapmos*promocontr+gapmos*mincontrib+gapmos*ncontrib+gapmos*maxcontrib+gapmos*lastcontr+gapmos*avecontr+gapmos*mailord+gapmos*mindate+gapmos*maxdate+gapmos*age+promocontr*mincontrib+promocontr*ncontrib+promocontr*maxcontrib+promocontr*lastcontr+promocontr*avecontr+promocontr*mailord+promocontr*mindate+promocontr*maxdate+promocontr*age+mincontrib*ncontrib+mincontrib*maxcontrib+mincontrib*lastcontr+mincontrib*avecontr+mincontrib*mailord+mincontrib*mindate+mincontrib*maxdate+mincontrib*age+ncontrib*maxcontrib+ncontrib*lastcontr+ncontrib*avecontr+ncontrib*mailord+ncontrib*mindate 0.599044\n",
      "contrib ~ gender_TM_+gender_TU_+gapmos+promocontr+mincontrib+ncontrib+maxcontrib+lastcontr+avecontr+mailord+mindate+maxdate+age+gender_TM_*gender_TU_+gender_TM_*gapmos+gender_TM_*promocontr+gender_TM_*mincontrib+gender_TM_*ncontrib+gender_TM_*maxcontrib+gender_TM_*lastcontr+gender_TM_*avecontr+gender_TM_*mailord+gender_TM_*mindate+gender_TM_*maxdate+gender_TM_*age+gender_TU_*gapmos+gender_TU_*promocontr+gender_TU_*mincontrib+gender_TU_*ncontrib+gender_TU_*maxcontrib+gender_TU_*lastcontr+gender_TU_*avecontr+gender_TU_*mailord+gender_TU_*mindate+gender_TU_*maxdate+gender_TU_*age+gapmos*promocontr+gapmos*mincontrib+gapmos*ncontrib+gapmos*maxcontrib+gapmos*lastcontr+gapmos*avecontr+gapmos*mailord+gapmos*mindate+gapmos*maxdate+gapmos*age+promocontr*mincontrib+promocontr*ncontrib+promocontr*maxcontrib+promocontr*lastcontr+promocontr*avecontr+promocontr*mailord+promocontr*mindate+promocontr*maxdate+promocontr*age+mincontrib*ncontrib+mincontrib*maxcontrib+mincontrib*lastcontr+mincontrib*avecontr+mincontrib*mailord+mincontrib*mindate+mincontrib*maxdate+mincontrib*age+ncontrib*maxcontrib+ncontrib*lastcontr+ncontrib*avecontr+ncontrib*mailord+ncontrib*mindate+ncontrib*maxdate 0.598979\n"
     ]
    },
    {
     "name": "stdout",
     "output_type": "stream",
     "text": [
      "contrib ~ gender_TM_+gender_TU_+gapmos+promocontr+mincontrib+ncontrib+maxcontrib+lastcontr+avecontr+mailord+mindate+maxdate+age+gender_TM_*gender_TU_+gender_TM_*gapmos+gender_TM_*promocontr+gender_TM_*mincontrib+gender_TM_*ncontrib+gender_TM_*maxcontrib+gender_TM_*lastcontr+gender_TM_*avecontr+gender_TM_*mailord+gender_TM_*mindate+gender_TM_*maxdate+gender_TM_*age+gender_TU_*gapmos+gender_TU_*promocontr+gender_TU_*mincontrib+gender_TU_*ncontrib+gender_TU_*maxcontrib+gender_TU_*lastcontr+gender_TU_*avecontr+gender_TU_*mailord+gender_TU_*mindate+gender_TU_*maxdate+gender_TU_*age+gapmos*promocontr+gapmos*mincontrib+gapmos*ncontrib+gapmos*maxcontrib+gapmos*lastcontr+gapmos*avecontr+gapmos*mailord+gapmos*mindate+gapmos*maxdate+gapmos*age+promocontr*mincontrib+promocontr*ncontrib+promocontr*maxcontrib+promocontr*lastcontr+promocontr*avecontr+promocontr*mailord+promocontr*mindate+promocontr*maxdate+promocontr*age+mincontrib*ncontrib+mincontrib*maxcontrib+mincontrib*lastcontr+mincontrib*avecontr+mincontrib*mailord+mincontrib*mindate+mincontrib*maxdate+mincontrib*age+ncontrib*maxcontrib+ncontrib*lastcontr+ncontrib*avecontr+ncontrib*mailord+ncontrib*mindate+ncontrib*maxdate+ncontrib*age 0.598904\n",
      "contrib ~ gender_TM_+gender_TU_+gapmos+promocontr+mincontrib+ncontrib+maxcontrib+lastcontr+avecontr+mailord+mindate+maxdate+age+gender_TM_*gender_TU_+gender_TM_*gapmos+gender_TM_*promocontr+gender_TM_*mincontrib+gender_TM_*ncontrib+gender_TM_*maxcontrib+gender_TM_*lastcontr+gender_TM_*avecontr+gender_TM_*mailord+gender_TM_*mindate+gender_TM_*maxdate+gender_TM_*age+gender_TU_*gapmos+gender_TU_*promocontr+gender_TU_*mincontrib+gender_TU_*ncontrib+gender_TU_*maxcontrib+gender_TU_*lastcontr+gender_TU_*avecontr+gender_TU_*mailord+gender_TU_*mindate+gender_TU_*maxdate+gender_TU_*age+gapmos*promocontr+gapmos*mincontrib+gapmos*ncontrib+gapmos*maxcontrib+gapmos*lastcontr+gapmos*avecontr+gapmos*mailord+gapmos*mindate+gapmos*maxdate+gapmos*age+promocontr*mincontrib+promocontr*ncontrib+promocontr*maxcontrib+promocontr*lastcontr+promocontr*avecontr+promocontr*mailord+promocontr*mindate+promocontr*maxdate+promocontr*age+mincontrib*ncontrib+mincontrib*maxcontrib+mincontrib*lastcontr+mincontrib*avecontr+mincontrib*mailord+mincontrib*mindate+mincontrib*maxdate+mincontrib*age+ncontrib*maxcontrib+ncontrib*lastcontr+ncontrib*avecontr+ncontrib*mailord+ncontrib*mindate+ncontrib*maxdate+ncontrib*age+maxcontrib*lastcontr 0.599693\n",
      "contrib ~ gender_TM_+gender_TU_+gapmos+promocontr+mincontrib+ncontrib+maxcontrib+lastcontr+avecontr+mailord+mindate+maxdate+age+gender_TM_*gender_TU_+gender_TM_*gapmos+gender_TM_*promocontr+gender_TM_*mincontrib+gender_TM_*ncontrib+gender_TM_*maxcontrib+gender_TM_*lastcontr+gender_TM_*avecontr+gender_TM_*mailord+gender_TM_*mindate+gender_TM_*maxdate+gender_TM_*age+gender_TU_*gapmos+gender_TU_*promocontr+gender_TU_*mincontrib+gender_TU_*ncontrib+gender_TU_*maxcontrib+gender_TU_*lastcontr+gender_TU_*avecontr+gender_TU_*mailord+gender_TU_*mindate+gender_TU_*maxdate+gender_TU_*age+gapmos*promocontr+gapmos*mincontrib+gapmos*ncontrib+gapmos*maxcontrib+gapmos*lastcontr+gapmos*avecontr+gapmos*mailord+gapmos*mindate+gapmos*maxdate+gapmos*age+promocontr*mincontrib+promocontr*ncontrib+promocontr*maxcontrib+promocontr*lastcontr+promocontr*avecontr+promocontr*mailord+promocontr*mindate+promocontr*maxdate+promocontr*age+mincontrib*ncontrib+mincontrib*maxcontrib+mincontrib*lastcontr+mincontrib*avecontr+mincontrib*mailord+mincontrib*mindate+mincontrib*maxdate+mincontrib*age+ncontrib*maxcontrib+ncontrib*lastcontr+ncontrib*avecontr+ncontrib*mailord+ncontrib*mindate+ncontrib*maxdate+ncontrib*age+maxcontrib*lastcontr+maxcontrib*avecontr 0.60216\n",
      "contrib ~ gender_TM_+gender_TU_+gapmos+promocontr+mincontrib+ncontrib+maxcontrib+lastcontr+avecontr+mailord+mindate+maxdate+age+gender_TM_*gender_TU_+gender_TM_*gapmos+gender_TM_*promocontr+gender_TM_*mincontrib+gender_TM_*ncontrib+gender_TM_*maxcontrib+gender_TM_*lastcontr+gender_TM_*avecontr+gender_TM_*mailord+gender_TM_*mindate+gender_TM_*maxdate+gender_TM_*age+gender_TU_*gapmos+gender_TU_*promocontr+gender_TU_*mincontrib+gender_TU_*ncontrib+gender_TU_*maxcontrib+gender_TU_*lastcontr+gender_TU_*avecontr+gender_TU_*mailord+gender_TU_*mindate+gender_TU_*maxdate+gender_TU_*age+gapmos*promocontr+gapmos*mincontrib+gapmos*ncontrib+gapmos*maxcontrib+gapmos*lastcontr+gapmos*avecontr+gapmos*mailord+gapmos*mindate+gapmos*maxdate+gapmos*age+promocontr*mincontrib+promocontr*ncontrib+promocontr*maxcontrib+promocontr*lastcontr+promocontr*avecontr+promocontr*mailord+promocontr*mindate+promocontr*maxdate+promocontr*age+mincontrib*ncontrib+mincontrib*maxcontrib+mincontrib*lastcontr+mincontrib*avecontr+mincontrib*mailord+mincontrib*mindate+mincontrib*maxdate+mincontrib*age+ncontrib*maxcontrib+ncontrib*lastcontr+ncontrib*avecontr+ncontrib*mailord+ncontrib*mindate+ncontrib*maxdate+ncontrib*age+maxcontrib*lastcontr+maxcontrib*avecontr+maxcontrib*mailord 0.60322\n",
      "contrib ~ gender_TM_+gender_TU_+gapmos+promocontr+mincontrib+ncontrib+maxcontrib+lastcontr+avecontr+mailord+mindate+maxdate+age+gender_TM_*gender_TU_+gender_TM_*gapmos+gender_TM_*promocontr+gender_TM_*mincontrib+gender_TM_*ncontrib+gender_TM_*maxcontrib+gender_TM_*lastcontr+gender_TM_*avecontr+gender_TM_*mailord+gender_TM_*mindate+gender_TM_*maxdate+gender_TM_*age+gender_TU_*gapmos+gender_TU_*promocontr+gender_TU_*mincontrib+gender_TU_*ncontrib+gender_TU_*maxcontrib+gender_TU_*lastcontr+gender_TU_*avecontr+gender_TU_*mailord+gender_TU_*mindate+gender_TU_*maxdate+gender_TU_*age+gapmos*promocontr+gapmos*mincontrib+gapmos*ncontrib+gapmos*maxcontrib+gapmos*lastcontr+gapmos*avecontr+gapmos*mailord+gapmos*mindate+gapmos*maxdate+gapmos*age+promocontr*mincontrib+promocontr*ncontrib+promocontr*maxcontrib+promocontr*lastcontr+promocontr*avecontr+promocontr*mailord+promocontr*mindate+promocontr*maxdate+promocontr*age+mincontrib*ncontrib+mincontrib*maxcontrib+mincontrib*lastcontr+mincontrib*avecontr+mincontrib*mailord+mincontrib*mindate+mincontrib*maxdate+mincontrib*age+ncontrib*maxcontrib+ncontrib*lastcontr+ncontrib*avecontr+ncontrib*mailord+ncontrib*mindate+ncontrib*maxdate+ncontrib*age+maxcontrib*lastcontr+maxcontrib*avecontr+maxcontrib*mailord+maxcontrib*mindate 0.604988\n",
      "contrib ~ gender_TM_+gender_TU_+gapmos+promocontr+mincontrib+ncontrib+maxcontrib+lastcontr+avecontr+mailord+mindate+maxdate+age+gender_TM_*gender_TU_+gender_TM_*gapmos+gender_TM_*promocontr+gender_TM_*mincontrib+gender_TM_*ncontrib+gender_TM_*maxcontrib+gender_TM_*lastcontr+gender_TM_*avecontr+gender_TM_*mailord+gender_TM_*mindate+gender_TM_*maxdate+gender_TM_*age+gender_TU_*gapmos+gender_TU_*promocontr+gender_TU_*mincontrib+gender_TU_*ncontrib+gender_TU_*maxcontrib+gender_TU_*lastcontr+gender_TU_*avecontr+gender_TU_*mailord+gender_TU_*mindate+gender_TU_*maxdate+gender_TU_*age+gapmos*promocontr+gapmos*mincontrib+gapmos*ncontrib+gapmos*maxcontrib+gapmos*lastcontr+gapmos*avecontr+gapmos*mailord+gapmos*mindate+gapmos*maxdate+gapmos*age+promocontr*mincontrib+promocontr*ncontrib+promocontr*maxcontrib+promocontr*lastcontr+promocontr*avecontr+promocontr*mailord+promocontr*mindate+promocontr*maxdate+promocontr*age+mincontrib*ncontrib+mincontrib*maxcontrib+mincontrib*lastcontr+mincontrib*avecontr+mincontrib*mailord+mincontrib*mindate+mincontrib*maxdate+mincontrib*age+ncontrib*maxcontrib+ncontrib*lastcontr+ncontrib*avecontr+ncontrib*mailord+ncontrib*mindate+ncontrib*maxdate+ncontrib*age+maxcontrib*lastcontr+maxcontrib*avecontr+maxcontrib*mailord+maxcontrib*mindate+maxcontrib*maxdate 0.605114\n"
     ]
    },
    {
     "name": "stdout",
     "output_type": "stream",
     "text": [
      "contrib ~ gender_TM_+gender_TU_+gapmos+promocontr+mincontrib+ncontrib+maxcontrib+lastcontr+avecontr+mailord+mindate+maxdate+age+gender_TM_*gender_TU_+gender_TM_*gapmos+gender_TM_*promocontr+gender_TM_*mincontrib+gender_TM_*ncontrib+gender_TM_*maxcontrib+gender_TM_*lastcontr+gender_TM_*avecontr+gender_TM_*mailord+gender_TM_*mindate+gender_TM_*maxdate+gender_TM_*age+gender_TU_*gapmos+gender_TU_*promocontr+gender_TU_*mincontrib+gender_TU_*ncontrib+gender_TU_*maxcontrib+gender_TU_*lastcontr+gender_TU_*avecontr+gender_TU_*mailord+gender_TU_*mindate+gender_TU_*maxdate+gender_TU_*age+gapmos*promocontr+gapmos*mincontrib+gapmos*ncontrib+gapmos*maxcontrib+gapmos*lastcontr+gapmos*avecontr+gapmos*mailord+gapmos*mindate+gapmos*maxdate+gapmos*age+promocontr*mincontrib+promocontr*ncontrib+promocontr*maxcontrib+promocontr*lastcontr+promocontr*avecontr+promocontr*mailord+promocontr*mindate+promocontr*maxdate+promocontr*age+mincontrib*ncontrib+mincontrib*maxcontrib+mincontrib*lastcontr+mincontrib*avecontr+mincontrib*mailord+mincontrib*mindate+mincontrib*maxdate+mincontrib*age+ncontrib*maxcontrib+ncontrib*lastcontr+ncontrib*avecontr+ncontrib*mailord+ncontrib*mindate+ncontrib*maxdate+ncontrib*age+maxcontrib*lastcontr+maxcontrib*avecontr+maxcontrib*mailord+maxcontrib*mindate+maxcontrib*maxdate+maxcontrib*age 0.605158\n",
      "contrib ~ gender_TM_+gender_TU_+gapmos+promocontr+mincontrib+ncontrib+maxcontrib+lastcontr+avecontr+mailord+mindate+maxdate+age+gender_TM_*gender_TU_+gender_TM_*gapmos+gender_TM_*promocontr+gender_TM_*mincontrib+gender_TM_*ncontrib+gender_TM_*maxcontrib+gender_TM_*lastcontr+gender_TM_*avecontr+gender_TM_*mailord+gender_TM_*mindate+gender_TM_*maxdate+gender_TM_*age+gender_TU_*gapmos+gender_TU_*promocontr+gender_TU_*mincontrib+gender_TU_*ncontrib+gender_TU_*maxcontrib+gender_TU_*lastcontr+gender_TU_*avecontr+gender_TU_*mailord+gender_TU_*mindate+gender_TU_*maxdate+gender_TU_*age+gapmos*promocontr+gapmos*mincontrib+gapmos*ncontrib+gapmos*maxcontrib+gapmos*lastcontr+gapmos*avecontr+gapmos*mailord+gapmos*mindate+gapmos*maxdate+gapmos*age+promocontr*mincontrib+promocontr*ncontrib+promocontr*maxcontrib+promocontr*lastcontr+promocontr*avecontr+promocontr*mailord+promocontr*mindate+promocontr*maxdate+promocontr*age+mincontrib*ncontrib+mincontrib*maxcontrib+mincontrib*lastcontr+mincontrib*avecontr+mincontrib*mailord+mincontrib*mindate+mincontrib*maxdate+mincontrib*age+ncontrib*maxcontrib+ncontrib*lastcontr+ncontrib*avecontr+ncontrib*mailord+ncontrib*mindate+ncontrib*maxdate+ncontrib*age+maxcontrib*lastcontr+maxcontrib*avecontr+maxcontrib*mailord+maxcontrib*mindate+maxcontrib*maxdate+maxcontrib*age+lastcontr*avecontr 0.608078\n",
      "contrib ~ gender_TM_+gender_TU_+gapmos+promocontr+mincontrib+ncontrib+maxcontrib+lastcontr+avecontr+mailord+mindate+maxdate+age+gender_TM_*gender_TU_+gender_TM_*gapmos+gender_TM_*promocontr+gender_TM_*mincontrib+gender_TM_*ncontrib+gender_TM_*maxcontrib+gender_TM_*lastcontr+gender_TM_*avecontr+gender_TM_*mailord+gender_TM_*mindate+gender_TM_*maxdate+gender_TM_*age+gender_TU_*gapmos+gender_TU_*promocontr+gender_TU_*mincontrib+gender_TU_*ncontrib+gender_TU_*maxcontrib+gender_TU_*lastcontr+gender_TU_*avecontr+gender_TU_*mailord+gender_TU_*mindate+gender_TU_*maxdate+gender_TU_*age+gapmos*promocontr+gapmos*mincontrib+gapmos*ncontrib+gapmos*maxcontrib+gapmos*lastcontr+gapmos*avecontr+gapmos*mailord+gapmos*mindate+gapmos*maxdate+gapmos*age+promocontr*mincontrib+promocontr*ncontrib+promocontr*maxcontrib+promocontr*lastcontr+promocontr*avecontr+promocontr*mailord+promocontr*mindate+promocontr*maxdate+promocontr*age+mincontrib*ncontrib+mincontrib*maxcontrib+mincontrib*lastcontr+mincontrib*avecontr+mincontrib*mailord+mincontrib*mindate+mincontrib*maxdate+mincontrib*age+ncontrib*maxcontrib+ncontrib*lastcontr+ncontrib*avecontr+ncontrib*mailord+ncontrib*mindate+ncontrib*maxdate+ncontrib*age+maxcontrib*lastcontr+maxcontrib*avecontr+maxcontrib*mailord+maxcontrib*mindate+maxcontrib*maxdate+maxcontrib*age+lastcontr*avecontr+lastcontr*mailord 0.608355\n",
      "contrib ~ gender_TM_+gender_TU_+gapmos+promocontr+mincontrib+ncontrib+maxcontrib+lastcontr+avecontr+mailord+mindate+maxdate+age+gender_TM_*gender_TU_+gender_TM_*gapmos+gender_TM_*promocontr+gender_TM_*mincontrib+gender_TM_*ncontrib+gender_TM_*maxcontrib+gender_TM_*lastcontr+gender_TM_*avecontr+gender_TM_*mailord+gender_TM_*mindate+gender_TM_*maxdate+gender_TM_*age+gender_TU_*gapmos+gender_TU_*promocontr+gender_TU_*mincontrib+gender_TU_*ncontrib+gender_TU_*maxcontrib+gender_TU_*lastcontr+gender_TU_*avecontr+gender_TU_*mailord+gender_TU_*mindate+gender_TU_*maxdate+gender_TU_*age+gapmos*promocontr+gapmos*mincontrib+gapmos*ncontrib+gapmos*maxcontrib+gapmos*lastcontr+gapmos*avecontr+gapmos*mailord+gapmos*mindate+gapmos*maxdate+gapmos*age+promocontr*mincontrib+promocontr*ncontrib+promocontr*maxcontrib+promocontr*lastcontr+promocontr*avecontr+promocontr*mailord+promocontr*mindate+promocontr*maxdate+promocontr*age+mincontrib*ncontrib+mincontrib*maxcontrib+mincontrib*lastcontr+mincontrib*avecontr+mincontrib*mailord+mincontrib*mindate+mincontrib*maxdate+mincontrib*age+ncontrib*maxcontrib+ncontrib*lastcontr+ncontrib*avecontr+ncontrib*mailord+ncontrib*mindate+ncontrib*maxdate+ncontrib*age+maxcontrib*lastcontr+maxcontrib*avecontr+maxcontrib*mailord+maxcontrib*mindate+maxcontrib*maxdate+maxcontrib*age+lastcontr*avecontr+lastcontr*mailord+lastcontr*mindate 0.609122\n",
      "contrib ~ gender_TM_+gender_TU_+gapmos+promocontr+mincontrib+ncontrib+maxcontrib+lastcontr+avecontr+mailord+mindate+maxdate+age+gender_TM_*gender_TU_+gender_TM_*gapmos+gender_TM_*promocontr+gender_TM_*mincontrib+gender_TM_*ncontrib+gender_TM_*maxcontrib+gender_TM_*lastcontr+gender_TM_*avecontr+gender_TM_*mailord+gender_TM_*mindate+gender_TM_*maxdate+gender_TM_*age+gender_TU_*gapmos+gender_TU_*promocontr+gender_TU_*mincontrib+gender_TU_*ncontrib+gender_TU_*maxcontrib+gender_TU_*lastcontr+gender_TU_*avecontr+gender_TU_*mailord+gender_TU_*mindate+gender_TU_*maxdate+gender_TU_*age+gapmos*promocontr+gapmos*mincontrib+gapmos*ncontrib+gapmos*maxcontrib+gapmos*lastcontr+gapmos*avecontr+gapmos*mailord+gapmos*mindate+gapmos*maxdate+gapmos*age+promocontr*mincontrib+promocontr*ncontrib+promocontr*maxcontrib+promocontr*lastcontr+promocontr*avecontr+promocontr*mailord+promocontr*mindate+promocontr*maxdate+promocontr*age+mincontrib*ncontrib+mincontrib*maxcontrib+mincontrib*lastcontr+mincontrib*avecontr+mincontrib*mailord+mincontrib*mindate+mincontrib*maxdate+mincontrib*age+ncontrib*maxcontrib+ncontrib*lastcontr+ncontrib*avecontr+ncontrib*mailord+ncontrib*mindate+ncontrib*maxdate+ncontrib*age+maxcontrib*lastcontr+maxcontrib*avecontr+maxcontrib*mailord+maxcontrib*mindate+maxcontrib*maxdate+maxcontrib*age+lastcontr*avecontr+lastcontr*mailord+lastcontr*mindate+lastcontr*maxdate 0.609397\n",
      "contrib ~ gender_TM_+gender_TU_+gapmos+promocontr+mincontrib+ncontrib+maxcontrib+lastcontr+avecontr+mailord+mindate+maxdate+age+gender_TM_*gender_TU_+gender_TM_*gapmos+gender_TM_*promocontr+gender_TM_*mincontrib+gender_TM_*ncontrib+gender_TM_*maxcontrib+gender_TM_*lastcontr+gender_TM_*avecontr+gender_TM_*mailord+gender_TM_*mindate+gender_TM_*maxdate+gender_TM_*age+gender_TU_*gapmos+gender_TU_*promocontr+gender_TU_*mincontrib+gender_TU_*ncontrib+gender_TU_*maxcontrib+gender_TU_*lastcontr+gender_TU_*avecontr+gender_TU_*mailord+gender_TU_*mindate+gender_TU_*maxdate+gender_TU_*age+gapmos*promocontr+gapmos*mincontrib+gapmos*ncontrib+gapmos*maxcontrib+gapmos*lastcontr+gapmos*avecontr+gapmos*mailord+gapmos*mindate+gapmos*maxdate+gapmos*age+promocontr*mincontrib+promocontr*ncontrib+promocontr*maxcontrib+promocontr*lastcontr+promocontr*avecontr+promocontr*mailord+promocontr*mindate+promocontr*maxdate+promocontr*age+mincontrib*ncontrib+mincontrib*maxcontrib+mincontrib*lastcontr+mincontrib*avecontr+mincontrib*mailord+mincontrib*mindate+mincontrib*maxdate+mincontrib*age+ncontrib*maxcontrib+ncontrib*lastcontr+ncontrib*avecontr+ncontrib*mailord+ncontrib*mindate+ncontrib*maxdate+ncontrib*age+maxcontrib*lastcontr+maxcontrib*avecontr+maxcontrib*mailord+maxcontrib*mindate+maxcontrib*maxdate+maxcontrib*age+lastcontr*avecontr+lastcontr*mailord+lastcontr*mindate+lastcontr*maxdate+lastcontr*age 0.609619\n",
      "contrib ~ gender_TM_+gender_TU_+gapmos+promocontr+mincontrib+ncontrib+maxcontrib+lastcontr+avecontr+mailord+mindate+maxdate+age+gender_TM_*gender_TU_+gender_TM_*gapmos+gender_TM_*promocontr+gender_TM_*mincontrib+gender_TM_*ncontrib+gender_TM_*maxcontrib+gender_TM_*lastcontr+gender_TM_*avecontr+gender_TM_*mailord+gender_TM_*mindate+gender_TM_*maxdate+gender_TM_*age+gender_TU_*gapmos+gender_TU_*promocontr+gender_TU_*mincontrib+gender_TU_*ncontrib+gender_TU_*maxcontrib+gender_TU_*lastcontr+gender_TU_*avecontr+gender_TU_*mailord+gender_TU_*mindate+gender_TU_*maxdate+gender_TU_*age+gapmos*promocontr+gapmos*mincontrib+gapmos*ncontrib+gapmos*maxcontrib+gapmos*lastcontr+gapmos*avecontr+gapmos*mailord+gapmos*mindate+gapmos*maxdate+gapmos*age+promocontr*mincontrib+promocontr*ncontrib+promocontr*maxcontrib+promocontr*lastcontr+promocontr*avecontr+promocontr*mailord+promocontr*mindate+promocontr*maxdate+promocontr*age+mincontrib*ncontrib+mincontrib*maxcontrib+mincontrib*lastcontr+mincontrib*avecontr+mincontrib*mailord+mincontrib*mindate+mincontrib*maxdate+mincontrib*age+ncontrib*maxcontrib+ncontrib*lastcontr+ncontrib*avecontr+ncontrib*mailord+ncontrib*mindate+ncontrib*maxdate+ncontrib*age+maxcontrib*lastcontr+maxcontrib*avecontr+maxcontrib*mailord+maxcontrib*mindate+maxcontrib*maxdate+maxcontrib*age+lastcontr*avecontr+lastcontr*mailord+lastcontr*mindate+lastcontr*maxdate+lastcontr*age+avecontr*mailord 0.611714\n",
      "contrib ~ gender_TM_+gender_TU_+gapmos+promocontr+mincontrib+ncontrib+maxcontrib+lastcontr+avecontr+mailord+mindate+maxdate+age+gender_TM_*gender_TU_+gender_TM_*gapmos+gender_TM_*promocontr+gender_TM_*mincontrib+gender_TM_*ncontrib+gender_TM_*maxcontrib+gender_TM_*lastcontr+gender_TM_*avecontr+gender_TM_*mailord+gender_TM_*mindate+gender_TM_*maxdate+gender_TM_*age+gender_TU_*gapmos+gender_TU_*promocontr+gender_TU_*mincontrib+gender_TU_*ncontrib+gender_TU_*maxcontrib+gender_TU_*lastcontr+gender_TU_*avecontr+gender_TU_*mailord+gender_TU_*mindate+gender_TU_*maxdate+gender_TU_*age+gapmos*promocontr+gapmos*mincontrib+gapmos*ncontrib+gapmos*maxcontrib+gapmos*lastcontr+gapmos*avecontr+gapmos*mailord+gapmos*mindate+gapmos*maxdate+gapmos*age+promocontr*mincontrib+promocontr*ncontrib+promocontr*maxcontrib+promocontr*lastcontr+promocontr*avecontr+promocontr*mailord+promocontr*mindate+promocontr*maxdate+promocontr*age+mincontrib*ncontrib+mincontrib*maxcontrib+mincontrib*lastcontr+mincontrib*avecontr+mincontrib*mailord+mincontrib*mindate+mincontrib*maxdate+mincontrib*age+ncontrib*maxcontrib+ncontrib*lastcontr+ncontrib*avecontr+ncontrib*mailord+ncontrib*mindate+ncontrib*maxdate+ncontrib*age+maxcontrib*lastcontr+maxcontrib*avecontr+maxcontrib*mailord+maxcontrib*mindate+maxcontrib*maxdate+maxcontrib*age+lastcontr*avecontr+lastcontr*mailord+lastcontr*mindate+lastcontr*maxdate+lastcontr*age+avecontr*mailord+avecontr*mindate 0.615429\n"
     ]
    },
    {
     "name": "stdout",
     "output_type": "stream",
     "text": [
      "contrib ~ gender_TM_+gender_TU_+gapmos+promocontr+mincontrib+ncontrib+maxcontrib+lastcontr+avecontr+mailord+mindate+maxdate+age+gender_TM_*gender_TU_+gender_TM_*gapmos+gender_TM_*promocontr+gender_TM_*mincontrib+gender_TM_*ncontrib+gender_TM_*maxcontrib+gender_TM_*lastcontr+gender_TM_*avecontr+gender_TM_*mailord+gender_TM_*mindate+gender_TM_*maxdate+gender_TM_*age+gender_TU_*gapmos+gender_TU_*promocontr+gender_TU_*mincontrib+gender_TU_*ncontrib+gender_TU_*maxcontrib+gender_TU_*lastcontr+gender_TU_*avecontr+gender_TU_*mailord+gender_TU_*mindate+gender_TU_*maxdate+gender_TU_*age+gapmos*promocontr+gapmos*mincontrib+gapmos*ncontrib+gapmos*maxcontrib+gapmos*lastcontr+gapmos*avecontr+gapmos*mailord+gapmos*mindate+gapmos*maxdate+gapmos*age+promocontr*mincontrib+promocontr*ncontrib+promocontr*maxcontrib+promocontr*lastcontr+promocontr*avecontr+promocontr*mailord+promocontr*mindate+promocontr*maxdate+promocontr*age+mincontrib*ncontrib+mincontrib*maxcontrib+mincontrib*lastcontr+mincontrib*avecontr+mincontrib*mailord+mincontrib*mindate+mincontrib*maxdate+mincontrib*age+ncontrib*maxcontrib+ncontrib*lastcontr+ncontrib*avecontr+ncontrib*mailord+ncontrib*mindate+ncontrib*maxdate+ncontrib*age+maxcontrib*lastcontr+maxcontrib*avecontr+maxcontrib*mailord+maxcontrib*mindate+maxcontrib*maxdate+maxcontrib*age+lastcontr*avecontr+lastcontr*mailord+lastcontr*mindate+lastcontr*maxdate+lastcontr*age+avecontr*mailord+avecontr*mindate+avecontr*maxdate 0.61539\n",
      "contrib ~ gender_TM_+gender_TU_+gapmos+promocontr+mincontrib+ncontrib+maxcontrib+lastcontr+avecontr+mailord+mindate+maxdate+age+gender_TM_*gender_TU_+gender_TM_*gapmos+gender_TM_*promocontr+gender_TM_*mincontrib+gender_TM_*ncontrib+gender_TM_*maxcontrib+gender_TM_*lastcontr+gender_TM_*avecontr+gender_TM_*mailord+gender_TM_*mindate+gender_TM_*maxdate+gender_TM_*age+gender_TU_*gapmos+gender_TU_*promocontr+gender_TU_*mincontrib+gender_TU_*ncontrib+gender_TU_*maxcontrib+gender_TU_*lastcontr+gender_TU_*avecontr+gender_TU_*mailord+gender_TU_*mindate+gender_TU_*maxdate+gender_TU_*age+gapmos*promocontr+gapmos*mincontrib+gapmos*ncontrib+gapmos*maxcontrib+gapmos*lastcontr+gapmos*avecontr+gapmos*mailord+gapmos*mindate+gapmos*maxdate+gapmos*age+promocontr*mincontrib+promocontr*ncontrib+promocontr*maxcontrib+promocontr*lastcontr+promocontr*avecontr+promocontr*mailord+promocontr*mindate+promocontr*maxdate+promocontr*age+mincontrib*ncontrib+mincontrib*maxcontrib+mincontrib*lastcontr+mincontrib*avecontr+mincontrib*mailord+mincontrib*mindate+mincontrib*maxdate+mincontrib*age+ncontrib*maxcontrib+ncontrib*lastcontr+ncontrib*avecontr+ncontrib*mailord+ncontrib*mindate+ncontrib*maxdate+ncontrib*age+maxcontrib*lastcontr+maxcontrib*avecontr+maxcontrib*mailord+maxcontrib*mindate+maxcontrib*maxdate+maxcontrib*age+lastcontr*avecontr+lastcontr*mailord+lastcontr*mindate+lastcontr*maxdate+lastcontr*age+avecontr*mailord+avecontr*mindate+avecontr*maxdate+avecontr*age 0.617032\n",
      "contrib ~ gender_TM_+gender_TU_+gapmos+promocontr+mincontrib+ncontrib+maxcontrib+lastcontr+avecontr+mailord+mindate+maxdate+age+gender_TM_*gender_TU_+gender_TM_*gapmos+gender_TM_*promocontr+gender_TM_*mincontrib+gender_TM_*ncontrib+gender_TM_*maxcontrib+gender_TM_*lastcontr+gender_TM_*avecontr+gender_TM_*mailord+gender_TM_*mindate+gender_TM_*maxdate+gender_TM_*age+gender_TU_*gapmos+gender_TU_*promocontr+gender_TU_*mincontrib+gender_TU_*ncontrib+gender_TU_*maxcontrib+gender_TU_*lastcontr+gender_TU_*avecontr+gender_TU_*mailord+gender_TU_*mindate+gender_TU_*maxdate+gender_TU_*age+gapmos*promocontr+gapmos*mincontrib+gapmos*ncontrib+gapmos*maxcontrib+gapmos*lastcontr+gapmos*avecontr+gapmos*mailord+gapmos*mindate+gapmos*maxdate+gapmos*age+promocontr*mincontrib+promocontr*ncontrib+promocontr*maxcontrib+promocontr*lastcontr+promocontr*avecontr+promocontr*mailord+promocontr*mindate+promocontr*maxdate+promocontr*age+mincontrib*ncontrib+mincontrib*maxcontrib+mincontrib*lastcontr+mincontrib*avecontr+mincontrib*mailord+mincontrib*mindate+mincontrib*maxdate+mincontrib*age+ncontrib*maxcontrib+ncontrib*lastcontr+ncontrib*avecontr+ncontrib*mailord+ncontrib*mindate+ncontrib*maxdate+ncontrib*age+maxcontrib*lastcontr+maxcontrib*avecontr+maxcontrib*mailord+maxcontrib*mindate+maxcontrib*maxdate+maxcontrib*age+lastcontr*avecontr+lastcontr*mailord+lastcontr*mindate+lastcontr*maxdate+lastcontr*age+avecontr*mailord+avecontr*mindate+avecontr*maxdate+avecontr*age+mailord*mindate 0.616921\n",
      "contrib ~ gender_TM_+gender_TU_+gapmos+promocontr+mincontrib+ncontrib+maxcontrib+lastcontr+avecontr+mailord+mindate+maxdate+age+gender_TM_*gender_TU_+gender_TM_*gapmos+gender_TM_*promocontr+gender_TM_*mincontrib+gender_TM_*ncontrib+gender_TM_*maxcontrib+gender_TM_*lastcontr+gender_TM_*avecontr+gender_TM_*mailord+gender_TM_*mindate+gender_TM_*maxdate+gender_TM_*age+gender_TU_*gapmos+gender_TU_*promocontr+gender_TU_*mincontrib+gender_TU_*ncontrib+gender_TU_*maxcontrib+gender_TU_*lastcontr+gender_TU_*avecontr+gender_TU_*mailord+gender_TU_*mindate+gender_TU_*maxdate+gender_TU_*age+gapmos*promocontr+gapmos*mincontrib+gapmos*ncontrib+gapmos*maxcontrib+gapmos*lastcontr+gapmos*avecontr+gapmos*mailord+gapmos*mindate+gapmos*maxdate+gapmos*age+promocontr*mincontrib+promocontr*ncontrib+promocontr*maxcontrib+promocontr*lastcontr+promocontr*avecontr+promocontr*mailord+promocontr*mindate+promocontr*maxdate+promocontr*age+mincontrib*ncontrib+mincontrib*maxcontrib+mincontrib*lastcontr+mincontrib*avecontr+mincontrib*mailord+mincontrib*mindate+mincontrib*maxdate+mincontrib*age+ncontrib*maxcontrib+ncontrib*lastcontr+ncontrib*avecontr+ncontrib*mailord+ncontrib*mindate+ncontrib*maxdate+ncontrib*age+maxcontrib*lastcontr+maxcontrib*avecontr+maxcontrib*mailord+maxcontrib*mindate+maxcontrib*maxdate+maxcontrib*age+lastcontr*avecontr+lastcontr*mailord+lastcontr*mindate+lastcontr*maxdate+lastcontr*age+avecontr*mailord+avecontr*mindate+avecontr*maxdate+avecontr*age+mailord*mindate+mailord*maxdate 0.616824\n",
      "contrib ~ gender_TM_+gender_TU_+gapmos+promocontr+mincontrib+ncontrib+maxcontrib+lastcontr+avecontr+mailord+mindate+maxdate+age+gender_TM_*gender_TU_+gender_TM_*gapmos+gender_TM_*promocontr+gender_TM_*mincontrib+gender_TM_*ncontrib+gender_TM_*maxcontrib+gender_TM_*lastcontr+gender_TM_*avecontr+gender_TM_*mailord+gender_TM_*mindate+gender_TM_*maxdate+gender_TM_*age+gender_TU_*gapmos+gender_TU_*promocontr+gender_TU_*mincontrib+gender_TU_*ncontrib+gender_TU_*maxcontrib+gender_TU_*lastcontr+gender_TU_*avecontr+gender_TU_*mailord+gender_TU_*mindate+gender_TU_*maxdate+gender_TU_*age+gapmos*promocontr+gapmos*mincontrib+gapmos*ncontrib+gapmos*maxcontrib+gapmos*lastcontr+gapmos*avecontr+gapmos*mailord+gapmos*mindate+gapmos*maxdate+gapmos*age+promocontr*mincontrib+promocontr*ncontrib+promocontr*maxcontrib+promocontr*lastcontr+promocontr*avecontr+promocontr*mailord+promocontr*mindate+promocontr*maxdate+promocontr*age+mincontrib*ncontrib+mincontrib*maxcontrib+mincontrib*lastcontr+mincontrib*avecontr+mincontrib*mailord+mincontrib*mindate+mincontrib*maxdate+mincontrib*age+ncontrib*maxcontrib+ncontrib*lastcontr+ncontrib*avecontr+ncontrib*mailord+ncontrib*mindate+ncontrib*maxdate+ncontrib*age+maxcontrib*lastcontr+maxcontrib*avecontr+maxcontrib*mailord+maxcontrib*mindate+maxcontrib*maxdate+maxcontrib*age+lastcontr*avecontr+lastcontr*mailord+lastcontr*mindate+lastcontr*maxdate+lastcontr*age+avecontr*mailord+avecontr*mindate+avecontr*maxdate+avecontr*age+mailord*mindate+mailord*maxdate+mailord*age 0.616824\n",
      "contrib ~ gender_TM_+gender_TU_+gapmos+promocontr+mincontrib+ncontrib+maxcontrib+lastcontr+avecontr+mailord+mindate+maxdate+age+gender_TM_*gender_TU_+gender_TM_*gapmos+gender_TM_*promocontr+gender_TM_*mincontrib+gender_TM_*ncontrib+gender_TM_*maxcontrib+gender_TM_*lastcontr+gender_TM_*avecontr+gender_TM_*mailord+gender_TM_*mindate+gender_TM_*maxdate+gender_TM_*age+gender_TU_*gapmos+gender_TU_*promocontr+gender_TU_*mincontrib+gender_TU_*ncontrib+gender_TU_*maxcontrib+gender_TU_*lastcontr+gender_TU_*avecontr+gender_TU_*mailord+gender_TU_*mindate+gender_TU_*maxdate+gender_TU_*age+gapmos*promocontr+gapmos*mincontrib+gapmos*ncontrib+gapmos*maxcontrib+gapmos*lastcontr+gapmos*avecontr+gapmos*mailord+gapmos*mindate+gapmos*maxdate+gapmos*age+promocontr*mincontrib+promocontr*ncontrib+promocontr*maxcontrib+promocontr*lastcontr+promocontr*avecontr+promocontr*mailord+promocontr*mindate+promocontr*maxdate+promocontr*age+mincontrib*ncontrib+mincontrib*maxcontrib+mincontrib*lastcontr+mincontrib*avecontr+mincontrib*mailord+mincontrib*mindate+mincontrib*maxdate+mincontrib*age+ncontrib*maxcontrib+ncontrib*lastcontr+ncontrib*avecontr+ncontrib*mailord+ncontrib*mindate+ncontrib*maxdate+ncontrib*age+maxcontrib*lastcontr+maxcontrib*avecontr+maxcontrib*mailord+maxcontrib*mindate+maxcontrib*maxdate+maxcontrib*age+lastcontr*avecontr+lastcontr*mailord+lastcontr*mindate+lastcontr*maxdate+lastcontr*age+avecontr*mailord+avecontr*mindate+avecontr*maxdate+avecontr*age+mailord*mindate+mailord*maxdate+mailord*age+mindate*maxdate 0.61693\n"
     ]
    },
    {
     "name": "stdout",
     "output_type": "stream",
     "text": [
      "contrib ~ gender_TM_+gender_TU_+gapmos+promocontr+mincontrib+ncontrib+maxcontrib+lastcontr+avecontr+mailord+mindate+maxdate+age+gender_TM_*gender_TU_+gender_TM_*gapmos+gender_TM_*promocontr+gender_TM_*mincontrib+gender_TM_*ncontrib+gender_TM_*maxcontrib+gender_TM_*lastcontr+gender_TM_*avecontr+gender_TM_*mailord+gender_TM_*mindate+gender_TM_*maxdate+gender_TM_*age+gender_TU_*gapmos+gender_TU_*promocontr+gender_TU_*mincontrib+gender_TU_*ncontrib+gender_TU_*maxcontrib+gender_TU_*lastcontr+gender_TU_*avecontr+gender_TU_*mailord+gender_TU_*mindate+gender_TU_*maxdate+gender_TU_*age+gapmos*promocontr+gapmos*mincontrib+gapmos*ncontrib+gapmos*maxcontrib+gapmos*lastcontr+gapmos*avecontr+gapmos*mailord+gapmos*mindate+gapmos*maxdate+gapmos*age+promocontr*mincontrib+promocontr*ncontrib+promocontr*maxcontrib+promocontr*lastcontr+promocontr*avecontr+promocontr*mailord+promocontr*mindate+promocontr*maxdate+promocontr*age+mincontrib*ncontrib+mincontrib*maxcontrib+mincontrib*lastcontr+mincontrib*avecontr+mincontrib*mailord+mincontrib*mindate+mincontrib*maxdate+mincontrib*age+ncontrib*maxcontrib+ncontrib*lastcontr+ncontrib*avecontr+ncontrib*mailord+ncontrib*mindate+ncontrib*maxdate+ncontrib*age+maxcontrib*lastcontr+maxcontrib*avecontr+maxcontrib*mailord+maxcontrib*mindate+maxcontrib*maxdate+maxcontrib*age+lastcontr*avecontr+lastcontr*mailord+lastcontr*mindate+lastcontr*maxdate+lastcontr*age+avecontr*mailord+avecontr*mindate+avecontr*maxdate+avecontr*age+mailord*mindate+mailord*maxdate+mailord*age+mindate*maxdate+mindate*age 0.617208\n",
      "contrib ~ gender_TM_+gender_TU_+gapmos+promocontr+mincontrib+ncontrib+maxcontrib+lastcontr+avecontr+mailord+mindate+maxdate+age+gender_TM_*gender_TU_+gender_TM_*gapmos+gender_TM_*promocontr+gender_TM_*mincontrib+gender_TM_*ncontrib+gender_TM_*maxcontrib+gender_TM_*lastcontr+gender_TM_*avecontr+gender_TM_*mailord+gender_TM_*mindate+gender_TM_*maxdate+gender_TM_*age+gender_TU_*gapmos+gender_TU_*promocontr+gender_TU_*mincontrib+gender_TU_*ncontrib+gender_TU_*maxcontrib+gender_TU_*lastcontr+gender_TU_*avecontr+gender_TU_*mailord+gender_TU_*mindate+gender_TU_*maxdate+gender_TU_*age+gapmos*promocontr+gapmos*mincontrib+gapmos*ncontrib+gapmos*maxcontrib+gapmos*lastcontr+gapmos*avecontr+gapmos*mailord+gapmos*mindate+gapmos*maxdate+gapmos*age+promocontr*mincontrib+promocontr*ncontrib+promocontr*maxcontrib+promocontr*lastcontr+promocontr*avecontr+promocontr*mailord+promocontr*mindate+promocontr*maxdate+promocontr*age+mincontrib*ncontrib+mincontrib*maxcontrib+mincontrib*lastcontr+mincontrib*avecontr+mincontrib*mailord+mincontrib*mindate+mincontrib*maxdate+mincontrib*age+ncontrib*maxcontrib+ncontrib*lastcontr+ncontrib*avecontr+ncontrib*mailord+ncontrib*mindate+ncontrib*maxdate+ncontrib*age+maxcontrib*lastcontr+maxcontrib*avecontr+maxcontrib*mailord+maxcontrib*mindate+maxcontrib*maxdate+maxcontrib*age+lastcontr*avecontr+lastcontr*mailord+lastcontr*mindate+lastcontr*maxdate+lastcontr*age+avecontr*mailord+avecontr*mindate+avecontr*maxdate+avecontr*age+mailord*mindate+mailord*maxdate+mailord*age+mindate*maxdate+mindate*age+maxdate*age 0.61729\n"
     ]
    }
   ],
   "source": [
    "s = 'contrib ~ '\n",
    "df_new = pd.concat([df['contrib'],X_new],axis=1)\n",
    "df_new.columns = df_new.columns.str.replace('[', '_')\n",
    "df_new.columns = df_new.columns.str.replace(']', '_')\n",
    "df_new.columns = df_new.columns.str.replace('.', '')\n",
    "results_eq = []\n",
    "results_r_sq = []\n",
    "for c in df_new.columns[2:]:\n",
    "    s = s + c + '+'\n",
    "    #print(s[:-1])\n",
    "    y, X = dmatrices(s[:-1], \n",
    "                 data=df_new, return_type='dataframe')\n",
    "    mod = sm.OLS(y, X)    # Describe model\n",
    "\n",
    "    res = mod.fit()       # Fit model\n",
    "\n",
    "    print(s[:-1], round(res.rsquared_adj,6))\n",
    "    results_eq.append(s[:-1])\n",
    "    results_r_sq.append(round(res.rsquared_adj,6))"
   ]
  },
  {
   "cell_type": "code",
   "execution_count": 31,
   "metadata": {},
   "outputs": [
    {
     "name": "stdout",
     "output_type": "stream",
     "text": [
      "contrib ~ gender_TM_+gender_TU_+gapmos+promocontr+mincontrib+ncontrib+maxcontrib+lastcontr+avecontr+mailord+mindate+maxdate+age+gender_TM_*gender_TU_+gender_TM_*gapmos+gender_TM_*promocontr+gender_TM_*mincontrib+gender_TM_*ncontrib+gender_TM_*maxcontrib+gender_TM_*lastcontr+gender_TM_*avecontr+gender_TM_*mailord+gender_TM_*mindate+gender_TM_*maxdate+gender_TM_*age+gender_TU_*gapmos+gender_TU_*promocontr+gender_TU_*mincontrib+gender_TU_*ncontrib+gender_TU_*maxcontrib+gender_TU_*lastcontr+gender_TU_*avecontr+gender_TU_*mailord+gender_TU_*mindate+gender_TU_*maxdate+gender_TU_*age+gapmos*promocontr+gapmos*mincontrib+gapmos*ncontrib+gapmos*maxcontrib+gapmos*lastcontr+gapmos*avecontr+gapmos*mailord+gapmos*mindate+gapmos*maxdate+gapmos*age+promocontr*mincontrib+promocontr*ncontrib+promocontr*maxcontrib+promocontr*lastcontr+promocontr*avecontr+promocontr*mailord+promocontr*mindate+promocontr*maxdate+promocontr*age+mincontrib*ncontrib+mincontrib*maxcontrib+mincontrib*lastcontr+mincontrib*avecontr+mincontrib*mailord+mincontrib*mindate+mincontrib*maxdate+mincontrib*age+ncontrib*maxcontrib+ncontrib*lastcontr+ncontrib*avecontr+ncontrib*mailord+ncontrib*mindate+ncontrib*maxdate+ncontrib*age+maxcontrib*lastcontr+maxcontrib*avecontr+maxcontrib*mailord+maxcontrib*mindate+maxcontrib*maxdate+maxcontrib*age+lastcontr*avecontr+lastcontr*mailord+lastcontr*mindate+lastcontr*maxdate+lastcontr*age+avecontr*mailord+avecontr*mindate+avecontr*maxdate+avecontr*age+mailord*mindate+mailord*maxdate+mailord*age+mindate*maxdate+mindate*age+maxdate*age 0.61729\n"
     ]
    }
   ],
   "source": [
    "import numpy as np\n",
    "best_model_index = np.argmax(results_r_sq)\n",
    "print(results_eq[best_model_index], results_r_sq[best_model_index])"
   ]
  },
  {
   "cell_type": "raw",
   "metadata": {},
   "source": [
    "import statsmodels.api as sm\n",
    "from statsmodels.formula.api import ols"
   ]
  },
  {
   "cell_type": "raw",
   "metadata": {},
   "source": [
    "mod = ols('contrib ~ mincontrib', data=df).fit()"
   ]
  },
  {
   "cell_type": "raw",
   "metadata": {},
   "source": [
    "aov_table = sm.stats.anova_lm(mod, typ=2)"
   ]
  },
  {
   "cell_type": "raw",
   "metadata": {},
   "source": [
    "print(aov_table)"
   ]
  },
  {
   "cell_type": "raw",
   "metadata": {},
   "source": [
    "mod2 = ols('contrib ~ mincontrib + maxcontrib', data=df).fit()"
   ]
  },
  {
   "cell_type": "raw",
   "metadata": {},
   "source": [
    "aov_table = sm.stats.anova_lm(mod2, typ=2)"
   ]
  },
  {
   "cell_type": "raw",
   "metadata": {},
   "source": [
    "print(aov_table)"
   ]
  },
  {
   "cell_type": "code",
   "execution_count": null,
   "metadata": {},
   "outputs": [],
   "source": []
  },
  {
   "cell_type": "code",
   "execution_count": null,
   "metadata": {},
   "outputs": [],
   "source": []
  }
 ],
 "metadata": {
  "kernelspec": {
   "display_name": "Python 3",
   "language": "python",
   "name": "python3"
  },
  "language_info": {
   "codemirror_mode": {
    "name": "ipython",
    "version": 3
   },
   "file_extension": ".py",
   "mimetype": "text/x-python",
   "name": "python",
   "nbconvert_exporter": "python",
   "pygments_lexer": "ipython3",
   "version": "3.6.4"
  }
 },
 "nbformat": 4,
 "nbformat_minor": 4
}
